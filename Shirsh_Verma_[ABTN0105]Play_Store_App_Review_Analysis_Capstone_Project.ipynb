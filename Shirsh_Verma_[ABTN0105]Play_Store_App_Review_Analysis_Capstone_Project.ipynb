{
  "nbformat": 4,
  "nbformat_minor": 0,
  "metadata": {
    "kernelspec": {
      "display_name": "Python 3",
      "language": "python",
      "name": "python3"
    },
    "language_info": {
      "codemirror_mode": {
        "name": "ipython",
        "version": 3
      },
      "file_extension": ".py",
      "mimetype": "text/x-python",
      "name": "python",
      "nbconvert_exporter": "python",
      "pygments_lexer": "ipython3",
      "version": "3.6.6"
    },
    "colab": {
      "name": "Shirsh Verma-[ABTN0105]Play Store App Review Analysis - Capstone Project.ipynb",
      "provenance": [],
      "collapsed_sections": [],
      "include_colab_link": true
    }
  },
  "cells": [
    {
      "cell_type": "markdown",
      "metadata": {
        "id": "view-in-github",
        "colab_type": "text"
      },
      "source": [
        "<a href=\"https://colab.research.google.com/github/shirsh12/-ABTN0105-Play-Store-App-Review-Analysis---Capstone-Project/blob/main/Shirsh_Verma_%5BABTN0105%5DPlay_Store_App_Review_Analysis_Capstone_Project.ipynb\" target=\"_parent\"><img src=\"https://colab.research.google.com/assets/colab-badge.svg\" alt=\"Open In Colab\"/></a>"
      ]
    },
    {
      "cell_type": "markdown",
      "metadata": {
        "id": "Y06xIdG26kRF"
      },
      "source": [
        "## <b> The Play Store apps data has enormous potential to drive app-making businesses to success. Actionable insights can be drawn for developers to work on and capture the Android market. </b>\n",
        "\n",
        "## <b> Each app (row) has values for catergory, rating, size, and more. Another dataset contains customer reviews of the android apps.</b>\n",
        "\n",
        "## <b> Explore and analyze the data to discover key factors responsible for app engagement and success. </b>"
      ]
    },
    {
      "cell_type": "markdown",
      "metadata": {
        "id": "9N-4ipT39ao6"
      },
      "source": [
        "#GOAL : **Explore and analyze the data to discover key factors responsible for app engagement and success.**"
      ]
    },
    {
      "cell_type": "markdown",
      "metadata": {
        "id": "fatZPWXonteH"
      },
      "source": [
        "####importing necessary libaries"
      ]
    },
    {
      "cell_type": "code",
      "metadata": {
        "id": "dByMsuzT8Tnw"
      },
      "source": [
        "\r\n",
        "import pandas as pd\r\n",
        "import numpy as np\r\n",
        "import matplotlib\r\n",
        "import seaborn as sns\r\n",
        "import matplotlib.pyplot as plt\r\n",
        "%matplotlib inline\r\n",
        "import math"
      ],
      "execution_count": 4,
      "outputs": []
    },
    {
      "cell_type": "markdown",
      "metadata": {
        "id": "GLpRdG-6nxEr"
      },
      "source": [
        "####We have to datasets in our project\r\n",
        "\r\n",
        "\r\n",
        "*   PlayStore Data.csv\r\n",
        "*   User Reviews.csv\r\n",
        "\r\n"
      ]
    },
    {
      "cell_type": "markdown",
      "metadata": {
        "id": "RVh9PKgBoy-X"
      },
      "source": [
        "####Mounting the Google Drive"
      ]
    },
    {
      "cell_type": "code",
      "metadata": {
        "colab": {
          "base_uri": "https://localhost:8080/"
        },
        "id": "CPatUmfHo3w6",
        "outputId": "e522677b-64f3-4505-9ac1-d9cc43b73e5e"
      },
      "source": [
        "from google.colab import drive\r\n",
        "drive.mount('/content/drive')"
      ],
      "execution_count": 5,
      "outputs": [
        {
          "output_type": "stream",
          "text": [
            "Drive already mounted at /content/drive; to attempt to forcibly remount, call drive.mount(\"/content/drive\", force_remount=True).\n"
          ],
          "name": "stdout"
        }
      ]
    },
    {
      "cell_type": "markdown",
      "metadata": {
        "id": "1Tu-zg7iouoB"
      },
      "source": [
        "####Loading the datasets"
      ]
    },
    {
      "cell_type": "code",
      "metadata": {
        "id": "-uM9KwRzLr4d"
      },
      "source": [
        "google_playstore_df= pd.read_csv('/content/drive/MyDrive/AlmaBetter/Cohort Nilgiri/Capstone Project I/Play Store Data.csv')"
      ],
      "execution_count": 6,
      "outputs": []
    },
    {
      "cell_type": "code",
      "metadata": {
        "id": "UtihaSr3phdq"
      },
      "source": [
        "usrev_df= pd.read_csv('/content/drive/MyDrive/AlmaBetter/Cohort Nilgiri/Capstone Project I/User Reviews.csv')"
      ],
      "execution_count": 7,
      "outputs": []
    },
    {
      "cell_type": "code",
      "metadata": {
        "colab": {
          "base_uri": "https://localhost:8080/",
          "height": 406
        },
        "id": "Cbp3jdifppi8",
        "outputId": "0d6af2a8-fec3-405f-bb16-68315736d1f1"
      },
      "source": [
        "google_playstore_df.head(3)"
      ],
      "execution_count": 8,
      "outputs": [
        {
          "output_type": "execute_result",
          "data": {
            "text/html": [
              "<div>\n",
              "<style scoped>\n",
              "    .dataframe tbody tr th:only-of-type {\n",
              "        vertical-align: middle;\n",
              "    }\n",
              "\n",
              "    .dataframe tbody tr th {\n",
              "        vertical-align: top;\n",
              "    }\n",
              "\n",
              "    .dataframe thead th {\n",
              "        text-align: right;\n",
              "    }\n",
              "</style>\n",
              "<table border=\"1\" class=\"dataframe\">\n",
              "  <thead>\n",
              "    <tr style=\"text-align: right;\">\n",
              "      <th></th>\n",
              "      <th>App</th>\n",
              "      <th>Category</th>\n",
              "      <th>Rating</th>\n",
              "      <th>Reviews</th>\n",
              "      <th>Size</th>\n",
              "      <th>Installs</th>\n",
              "      <th>Type</th>\n",
              "      <th>Price</th>\n",
              "      <th>Content Rating</th>\n",
              "      <th>Genres</th>\n",
              "      <th>Last Updated</th>\n",
              "      <th>Current Ver</th>\n",
              "      <th>Android Ver</th>\n",
              "    </tr>\n",
              "  </thead>\n",
              "  <tbody>\n",
              "    <tr>\n",
              "      <th>0</th>\n",
              "      <td>Photo Editor &amp; Candy Camera &amp; Grid &amp; ScrapBook</td>\n",
              "      <td>ART_AND_DESIGN</td>\n",
              "      <td>4.1</td>\n",
              "      <td>159</td>\n",
              "      <td>19M</td>\n",
              "      <td>10,000+</td>\n",
              "      <td>Free</td>\n",
              "      <td>0</td>\n",
              "      <td>Everyone</td>\n",
              "      <td>Art &amp; Design</td>\n",
              "      <td>January 7, 2018</td>\n",
              "      <td>1.0.0</td>\n",
              "      <td>4.0.3 and up</td>\n",
              "    </tr>\n",
              "    <tr>\n",
              "      <th>1</th>\n",
              "      <td>Coloring book moana</td>\n",
              "      <td>ART_AND_DESIGN</td>\n",
              "      <td>3.9</td>\n",
              "      <td>967</td>\n",
              "      <td>14M</td>\n",
              "      <td>500,000+</td>\n",
              "      <td>Free</td>\n",
              "      <td>0</td>\n",
              "      <td>Everyone</td>\n",
              "      <td>Art &amp; Design;Pretend Play</td>\n",
              "      <td>January 15, 2018</td>\n",
              "      <td>2.0.0</td>\n",
              "      <td>4.0.3 and up</td>\n",
              "    </tr>\n",
              "    <tr>\n",
              "      <th>2</th>\n",
              "      <td>U Launcher Lite – FREE Live Cool Themes, Hide ...</td>\n",
              "      <td>ART_AND_DESIGN</td>\n",
              "      <td>4.7</td>\n",
              "      <td>87510</td>\n",
              "      <td>8.7M</td>\n",
              "      <td>5,000,000+</td>\n",
              "      <td>Free</td>\n",
              "      <td>0</td>\n",
              "      <td>Everyone</td>\n",
              "      <td>Art &amp; Design</td>\n",
              "      <td>August 1, 2018</td>\n",
              "      <td>1.2.4</td>\n",
              "      <td>4.0.3 and up</td>\n",
              "    </tr>\n",
              "  </tbody>\n",
              "</table>\n",
              "</div>"
            ],
            "text/plain": [
              "                                                 App  ...   Android Ver\n",
              "0     Photo Editor & Candy Camera & Grid & ScrapBook  ...  4.0.3 and up\n",
              "1                                Coloring book moana  ...  4.0.3 and up\n",
              "2  U Launcher Lite – FREE Live Cool Themes, Hide ...  ...  4.0.3 and up\n",
              "\n",
              "[3 rows x 13 columns]"
            ]
          },
          "metadata": {
            "tags": []
          },
          "execution_count": 8
        }
      ]
    },
    {
      "cell_type": "code",
      "metadata": {
        "colab": {
          "base_uri": "https://localhost:8080/",
          "height": 143
        },
        "id": "Jn3DSIjgwFt-",
        "outputId": "562c555b-13fb-4d9d-8167-0595022a13f5"
      },
      "source": [
        "usrev_df.head(3)"
      ],
      "execution_count": 9,
      "outputs": [
        {
          "output_type": "execute_result",
          "data": {
            "text/html": [
              "<div>\n",
              "<style scoped>\n",
              "    .dataframe tbody tr th:only-of-type {\n",
              "        vertical-align: middle;\n",
              "    }\n",
              "\n",
              "    .dataframe tbody tr th {\n",
              "        vertical-align: top;\n",
              "    }\n",
              "\n",
              "    .dataframe thead th {\n",
              "        text-align: right;\n",
              "    }\n",
              "</style>\n",
              "<table border=\"1\" class=\"dataframe\">\n",
              "  <thead>\n",
              "    <tr style=\"text-align: right;\">\n",
              "      <th></th>\n",
              "      <th>App</th>\n",
              "      <th>Translated_Review</th>\n",
              "      <th>Sentiment</th>\n",
              "      <th>Sentiment_Polarity</th>\n",
              "      <th>Sentiment_Subjectivity</th>\n",
              "    </tr>\n",
              "  </thead>\n",
              "  <tbody>\n",
              "    <tr>\n",
              "      <th>0</th>\n",
              "      <td>10 Best Foods for You</td>\n",
              "      <td>I like eat delicious food. That's I'm cooking ...</td>\n",
              "      <td>Positive</td>\n",
              "      <td>1.00</td>\n",
              "      <td>0.533333</td>\n",
              "    </tr>\n",
              "    <tr>\n",
              "      <th>1</th>\n",
              "      <td>10 Best Foods for You</td>\n",
              "      <td>This help eating healthy exercise regular basis</td>\n",
              "      <td>Positive</td>\n",
              "      <td>0.25</td>\n",
              "      <td>0.288462</td>\n",
              "    </tr>\n",
              "    <tr>\n",
              "      <th>2</th>\n",
              "      <td>10 Best Foods for You</td>\n",
              "      <td>NaN</td>\n",
              "      <td>NaN</td>\n",
              "      <td>NaN</td>\n",
              "      <td>NaN</td>\n",
              "    </tr>\n",
              "  </tbody>\n",
              "</table>\n",
              "</div>"
            ],
            "text/plain": [
              "                     App  ... Sentiment_Subjectivity\n",
              "0  10 Best Foods for You  ...               0.533333\n",
              "1  10 Best Foods for You  ...               0.288462\n",
              "2  10 Best Foods for You  ...                    NaN\n",
              "\n",
              "[3 rows x 5 columns]"
            ]
          },
          "metadata": {
            "tags": []
          },
          "execution_count": 9
        }
      ]
    },
    {
      "cell_type": "markdown",
      "metadata": {
        "id": "kLSksrQGwKvk"
      },
      "source": [
        "####List of columns available in both our datasets"
      ]
    },
    {
      "cell_type": "code",
      "metadata": {
        "colab": {
          "base_uri": "https://localhost:8080/"
        },
        "id": "-Il4wPcEwQh4",
        "outputId": "2b929a69-f602-434e-ad57-80cd88d33c02"
      },
      "source": [
        "#playstore dataset column\r\n",
        "google_playstore_df.columns\r\n"
      ],
      "execution_count": 10,
      "outputs": [
        {
          "output_type": "execute_result",
          "data": {
            "text/plain": [
              "Index(['App', 'Category', 'Rating', 'Reviews', 'Size', 'Installs', 'Type',\n",
              "       'Price', 'Content Rating', 'Genres', 'Last Updated', 'Current Ver',\n",
              "       'Android Ver'],\n",
              "      dtype='object')"
            ]
          },
          "metadata": {
            "tags": []
          },
          "execution_count": 10
        }
      ]
    },
    {
      "cell_type": "markdown",
      "metadata": {
        "id": "EhAb1vkVyRCX"
      },
      "source": [
        "###Detail description of columns"
      ]
    },
    {
      "cell_type": "markdown",
      "metadata": {
        "id": "GN1RPYK3yjRU"
      },
      "source": [
        "\r\n",
        "\r\n",
        "1.   App -Application name\r\n",
        "2.   Category- Category the app belongs to\r\n",
        "3.   Rating-Overall user rating of the app\r\n",
        "4.   Reviews-Number of user reviews for the app\r\n",
        "5.   Size-Size of the app\r\n",
        "6.   Installs-Number of user downloads/installs for the app\r\n",
        "7.   Type-Paid or Free\r\n",
        "8.   Price-Price of the app\r\n",
        "9.   Content Rating-Age group the app is targeted at — Children / Mature 21+ / Adult\r\n",
        "10.  Genres-An app can belong to multiple genres For eg, a musical family game will belong to\r\n",
        "11.  Last Updated- Date when was the application last updated.\r\n",
        "12.  Current ver -Current version of the app\r\n",
        "13.  Android ver -Which android version the app can supports.\r\n"
      ]
    },
    {
      "cell_type": "code",
      "metadata": {
        "colab": {
          "base_uri": "https://localhost:8080/"
        },
        "id": "3lUW4ZgLwn8M",
        "outputId": "a10a68d9-1d9e-425f-c399-ac96c789fbf1"
      },
      "source": [
        "#user review dataset column\r\n",
        "usrev_df.columns"
      ],
      "execution_count": 11,
      "outputs": [
        {
          "output_type": "execute_result",
          "data": {
            "text/plain": [
              "Index(['App', 'Translated_Review', 'Sentiment', 'Sentiment_Polarity',\n",
              "       'Sentiment_Subjectivity'],\n",
              "      dtype='object')"
            ]
          },
          "metadata": {
            "tags": []
          },
          "execution_count": 11
        }
      ]
    },
    {
      "cell_type": "markdown",
      "metadata": {
        "id": "f-VrFvrp0PvF"
      },
      "source": [
        "##Detail description of columns"
      ]
    },
    {
      "cell_type": "markdown",
      "metadata": {
        "id": "arDcjTTG1LzX"
      },
      "source": [
        "\r\n",
        "\r\n",
        "1.   App -Application name\r\n",
        "2.   Translated_Review - Translation of review given by user in english language\r\n",
        "3.   Sentiment - Sentiment of user as in Positive or Negative parameter\r\n",
        "4.   Sentiment_Polarity- It defines the orientation of the expressed sentiments\r\n",
        "5.   Sentiment_Subjectivity- It generally refer to personal opinion  that mostly sentiment is a public opinion and not a factual information.\r\n",
        "\r\n"
      ]
    },
    {
      "cell_type": "markdown",
      "metadata": {
        "id": "FmnVShPJw7d0"
      },
      "source": [
        "#####Checking Number of columns and rows\r\n"
      ]
    },
    {
      "cell_type": "code",
      "metadata": {
        "colab": {
          "base_uri": "https://localhost:8080/"
        },
        "id": "3FcgmNUdw7LV",
        "outputId": "5fb72ba7-c496-44d5-a380-727d659e32eb"
      },
      "source": [
        "print(f'The Google Playstore dataset has Rows: {google_playstore_df.shape[0]} and Columns: {google_playstore_df.shape[1]}')"
      ],
      "execution_count": 12,
      "outputs": [
        {
          "output_type": "stream",
          "text": [
            "The Google Playstore dataset has Rows: 10841 and Columns: 13\n"
          ],
          "name": "stdout"
        }
      ]
    },
    {
      "cell_type": "code",
      "metadata": {
        "colab": {
          "base_uri": "https://localhost:8080/"
        },
        "id": "9_kJTsZxwxxg",
        "outputId": "53618ea8-b53c-45b2-f18a-efbef4c23300"
      },
      "source": [
        "print(f'The User Review dataset has Rows: {usrev_df.shape[0]} and Columns: {usrev_df.shape[1]}')"
      ],
      "execution_count": 13,
      "outputs": [
        {
          "output_type": "stream",
          "text": [
            "The User Review dataset has Rows: 64295 and Columns: 5\n"
          ],
          "name": "stdout"
        }
      ]
    },
    {
      "cell_type": "markdown",
      "metadata": {
        "id": "0NSCsGDy_A4-"
      },
      "source": [
        "#Data Processing and Cleanning.\r\n",
        "#Deep diving into each aspects before removing or replacing"
      ]
    },
    {
      "cell_type": "markdown",
      "metadata": {
        "id": "wq4NYoL_xukq"
      },
      "source": [
        "###Sanity Check for google Playstore ratings dataset"
      ]
    },
    {
      "cell_type": "code",
      "metadata": {
        "colab": {
          "base_uri": "https://localhost:8080/",
          "height": 300
        },
        "id": "vgvF7SDBNPGG",
        "outputId": "1f11bfce-ce4d-44df-8c2a-9b9aacb34854"
      },
      "source": [
        "#Descriptive statistics\r\n",
        "google_playstore_df.describe()"
      ],
      "execution_count": 14,
      "outputs": [
        {
          "output_type": "execute_result",
          "data": {
            "text/html": [
              "<div>\n",
              "<style scoped>\n",
              "    .dataframe tbody tr th:only-of-type {\n",
              "        vertical-align: middle;\n",
              "    }\n",
              "\n",
              "    .dataframe tbody tr th {\n",
              "        vertical-align: top;\n",
              "    }\n",
              "\n",
              "    .dataframe thead th {\n",
              "        text-align: right;\n",
              "    }\n",
              "</style>\n",
              "<table border=\"1\" class=\"dataframe\">\n",
              "  <thead>\n",
              "    <tr style=\"text-align: right;\">\n",
              "      <th></th>\n",
              "      <th>Rating</th>\n",
              "    </tr>\n",
              "  </thead>\n",
              "  <tbody>\n",
              "    <tr>\n",
              "      <th>count</th>\n",
              "      <td>9367.000000</td>\n",
              "    </tr>\n",
              "    <tr>\n",
              "      <th>mean</th>\n",
              "      <td>4.193338</td>\n",
              "    </tr>\n",
              "    <tr>\n",
              "      <th>std</th>\n",
              "      <td>0.537431</td>\n",
              "    </tr>\n",
              "    <tr>\n",
              "      <th>min</th>\n",
              "      <td>1.000000</td>\n",
              "    </tr>\n",
              "    <tr>\n",
              "      <th>25%</th>\n",
              "      <td>4.000000</td>\n",
              "    </tr>\n",
              "    <tr>\n",
              "      <th>50%</th>\n",
              "      <td>4.300000</td>\n",
              "    </tr>\n",
              "    <tr>\n",
              "      <th>75%</th>\n",
              "      <td>4.500000</td>\n",
              "    </tr>\n",
              "    <tr>\n",
              "      <th>max</th>\n",
              "      <td>19.000000</td>\n",
              "    </tr>\n",
              "  </tbody>\n",
              "</table>\n",
              "</div>"
            ],
            "text/plain": [
              "            Rating\n",
              "count  9367.000000\n",
              "mean      4.193338\n",
              "std       0.537431\n",
              "min       1.000000\n",
              "25%       4.000000\n",
              "50%       4.300000\n",
              "75%       4.500000\n",
              "max      19.000000"
            ]
          },
          "metadata": {
            "tags": []
          },
          "execution_count": 14
        }
      ]
    },
    {
      "cell_type": "markdown",
      "metadata": {
        "id": "N66sZKLSOsms"
      },
      "source": [
        "###In general app rating cannot be 19 its seem obviously absurd lets explore"
      ]
    },
    {
      "cell_type": "markdown",
      "metadata": {
        "id": "sm9IyCZNO3x9"
      },
      "source": [
        "####Using Boxplot method to visualize it"
      ]
    },
    {
      "cell_type": "code",
      "metadata": {
        "colab": {
          "base_uri": "https://localhost:8080/",
          "height": 338
        },
        "id": "olj-CZATNyn6",
        "outputId": "8da4828a-ff14-4794-cf9c-974f9e08f7d7"
      },
      "source": [
        "google_playstore_df.boxplot(figsize=(10,5)) \r\n"
      ],
      "execution_count": 15,
      "outputs": [
        {
          "output_type": "execute_result",
          "data": {
            "text/plain": [
              "<matplotlib.axes._subplots.AxesSubplot at 0x7f93a6993dd0>"
            ]
          },
          "metadata": {
            "tags": []
          },
          "execution_count": 15
        },
        {
          "output_type": "display_data",
          "data": {
            "image/png": "[encoded data removed]",
            "text/plain": [
              "<Figure size 720x360 with 1 Axes>"
            ]
          },
          "metadata": {
            "tags": [],
            "needs_background": "light"
          }
        }
      ]
    },
    {
      "cell_type": "markdown",
      "metadata": {
        "id": "_Kp8IDHtPBDg"
      },
      "source": [
        "####Here we can see there is a rating far away from other ratings"
      ]
    },
    {
      "cell_type": "code",
      "metadata": {
        "colab": {
          "base_uri": "https://localhost:8080/",
          "height": 150
        },
        "id": "NZb9TfjWOIgo",
        "outputId": "2f3f9139-9a8a-4d3c-883e-d4031bd4f8b7"
      },
      "source": [
        "google_playstore_df[google_playstore_df['Rating'] > 5.0]"
      ],
      "execution_count": 16,
      "outputs": [
        {
          "output_type": "execute_result",
          "data": {
            "text/html": [
              "<div>\n",
              "<style scoped>\n",
              "    .dataframe tbody tr th:only-of-type {\n",
              "        vertical-align: middle;\n",
              "    }\n",
              "\n",
              "    .dataframe tbody tr th {\n",
              "        vertical-align: top;\n",
              "    }\n",
              "\n",
              "    .dataframe thead th {\n",
              "        text-align: right;\n",
              "    }\n",
              "</style>\n",
              "<table border=\"1\" class=\"dataframe\">\n",
              "  <thead>\n",
              "    <tr style=\"text-align: right;\">\n",
              "      <th></th>\n",
              "      <th>App</th>\n",
              "      <th>Category</th>\n",
              "      <th>Rating</th>\n",
              "      <th>Reviews</th>\n",
              "      <th>Size</th>\n",
              "      <th>Installs</th>\n",
              "      <th>Type</th>\n",
              "      <th>Price</th>\n",
              "      <th>Content Rating</th>\n",
              "      <th>Genres</th>\n",
              "      <th>Last Updated</th>\n",
              "      <th>Current Ver</th>\n",
              "      <th>Android Ver</th>\n",
              "    </tr>\n",
              "  </thead>\n",
              "  <tbody>\n",
              "    <tr>\n",
              "      <th>10472</th>\n",
              "      <td>Life Made WI-Fi Touchscreen Photo Frame</td>\n",
              "      <td>1.9</td>\n",
              "      <td>19.0</td>\n",
              "      <td>3.0M</td>\n",
              "      <td>1,000+</td>\n",
              "      <td>Free</td>\n",
              "      <td>0</td>\n",
              "      <td>Everyone</td>\n",
              "      <td>NaN</td>\n",
              "      <td>February 11, 2018</td>\n",
              "      <td>1.0.19</td>\n",
              "      <td>4.0 and up</td>\n",
              "      <td>NaN</td>\n",
              "    </tr>\n",
              "  </tbody>\n",
              "</table>\n",
              "</div>"
            ],
            "text/plain": [
              "                                           App Category  ...  Current Ver Android Ver\n",
              "10472  Life Made WI-Fi Touchscreen Photo Frame      1.9  ...   4.0 and up         NaN\n",
              "\n",
              "[1 rows x 13 columns]"
            ]
          },
          "metadata": {
            "tags": []
          },
          "execution_count": 16
        }
      ]
    },
    {
      "cell_type": "markdown",
      "metadata": {
        "id": "pdLbtAMrOjgS"
      },
      "source": [
        "###Removing 10472 due to data mismatch in the column"
      ]
    },
    {
      "cell_type": "code",
      "metadata": {
        "colab": {
          "base_uri": "https://localhost:8080/"
        },
        "id": "C3Pw3rk7OlIf",
        "outputId": "93a1b96c-425e-4f4b-c44e-21e2a7e17f4c"
      },
      "source": [
        "google_playstore_df.loc[10472]"
      ],
      "execution_count": 17,
      "outputs": [
        {
          "output_type": "execute_result",
          "data": {
            "text/plain": [
              "App               Life Made WI-Fi Touchscreen Photo Frame\n",
              "Category                                              1.9\n",
              "Rating                                                 19\n",
              "Reviews                                              3.0M\n",
              "Size                                               1,000+\n",
              "Installs                                             Free\n",
              "Type                                                    0\n",
              "Price                                            Everyone\n",
              "Content Rating                                        NaN\n",
              "Genres                                  February 11, 2018\n",
              "Last Updated                                       1.0.19\n",
              "Current Ver                                    4.0 and up\n",
              "Android Ver                                           NaN\n",
              "Name: 10472, dtype: object"
            ]
          },
          "metadata": {
            "tags": []
          },
          "execution_count": 17
        }
      ]
    },
    {
      "cell_type": "code",
      "metadata": {
        "id": "kO7UCZHgPSKv"
      },
      "source": [
        "#removing row 10472\r\n",
        "google_playstore_df.drop(google_playstore_df.index[10472], inplace=True)\r\n"
      ],
      "execution_count": 18,
      "outputs": []
    },
    {
      "cell_type": "code",
      "metadata": {
        "colab": {
          "base_uri": "https://localhost:8080/"
        },
        "id": "uUz60LhBxfyI",
        "outputId": "3b42091a-70d2-4f48-8de2-0be775d769a8"
      },
      "source": [
        "#finding null values\r\n",
        "google_playstore_df.isnull().sum()"
      ],
      "execution_count": 19,
      "outputs": [
        {
          "output_type": "execute_result",
          "data": {
            "text/plain": [
              "App                  0\n",
              "Category             0\n",
              "Rating            1474\n",
              "Reviews              0\n",
              "Size                 0\n",
              "Installs             0\n",
              "Type                 1\n",
              "Price                0\n",
              "Content Rating       0\n",
              "Genres               0\n",
              "Last Updated         0\n",
              "Current Ver          8\n",
              "Android Ver          2\n",
              "dtype: int64"
            ]
          },
          "metadata": {
            "tags": []
          },
          "execution_count": 19
        }
      ]
    },
    {
      "cell_type": "markdown",
      "metadata": {
        "id": "chKzYaA3LsN8"
      },
      "source": [
        "####visualizing the missing data values as below using heatmap() method"
      ]
    },
    {
      "cell_type": "code",
      "metadata": {
        "colab": {
          "base_uri": "https://localhost:8080/",
          "height": 352
        },
        "id": "PVuZLBGkLq8D",
        "outputId": "b91bb79e-307b-4de0-b877-24bd079dd008"
      },
      "source": [
        "sns.heatmap(google_playstore_df.isnull())"
      ],
      "execution_count": 20,
      "outputs": [
        {
          "output_type": "execute_result",
          "data": {
            "text/plain": [
              "<matplotlib.axes._subplots.AxesSubplot at 0x7f93a623ef10>"
            ]
          },
          "metadata": {
            "tags": []
          },
          "execution_count": 20
        },
        {
          "output_type": "display_data",
          "data": {
            "image/png": "[encoded data removed]",
            "text/plain": [
              "<Figure size 432x288 with 2 Axes>"
            ]
          },
          "metadata": {
            "tags": [],
            "needs_background": "light"
          }
        }
      ]
    },
    {
      "cell_type": "markdown",
      "metadata": {
        "id": "N99yZcm4L9LU"
      },
      "source": [
        "#####We observed that Rating has more missing value same as above"
      ]
    },
    {
      "cell_type": "markdown",
      "metadata": {
        "id": "T9am3wO_KPLB"
      },
      "source": [
        "####Checking for duplicates as a single app information can be present again"
      ]
    },
    {
      "cell_type": "code",
      "metadata": {
        "colab": {
          "base_uri": "https://localhost:8080/"
        },
        "id": "SGEyphcmK8V_",
        "outputId": "c6f3aa6d-2fd3-4adf-b5de-088e3b72260f"
      },
      "source": [
        "print(f'There are in total {google_playstore_df.duplicated().sum()} duplicate rows in this dataset')"
      ],
      "execution_count": 21,
      "outputs": [
        {
          "output_type": "stream",
          "text": [
            "There are in total 483 duplicate rows in this dataset\n"
          ],
          "name": "stdout"
        }
      ]
    },
    {
      "cell_type": "code",
      "metadata": {
        "id": "zVg4GfAzLJs1"
      },
      "source": [
        "google_playstore_df.drop_duplicates(inplace=True)"
      ],
      "execution_count": 22,
      "outputs": []
    },
    {
      "cell_type": "code",
      "metadata": {
        "colab": {
          "base_uri": "https://localhost:8080/"
        },
        "id": "cp-kOrURLP93",
        "outputId": "081b23e3-a9e7-4868-cd95-bdce8988f4f8"
      },
      "source": [
        "#checking\r\n",
        "google_playstore_df.duplicated().sum()"
      ],
      "execution_count": 23,
      "outputs": [
        {
          "output_type": "execute_result",
          "data": {
            "text/plain": [
              "0"
            ]
          },
          "metadata": {
            "tags": []
          },
          "execution_count": 23
        }
      ]
    },
    {
      "cell_type": "markdown",
      "metadata": {
        "id": "0jIMGhPTM7_G"
      },
      "source": [
        "###Null values now after removing duplicates still we got 1465 Null rows in rating column"
      ]
    },
    {
      "cell_type": "code",
      "metadata": {
        "colab": {
          "base_uri": "https://localhost:8080/"
        },
        "id": "kdzGBUdaMpuY",
        "outputId": "a0a10c7d-0bdd-4562-cb3d-043df1d81299"
      },
      "source": [
        "\r\n",
        "google_playstore_df.isnull().sum()"
      ],
      "execution_count": 24,
      "outputs": [
        {
          "output_type": "execute_result",
          "data": {
            "text/plain": [
              "App                  0\n",
              "Category             0\n",
              "Rating            1465\n",
              "Reviews              0\n",
              "Size                 0\n",
              "Installs             0\n",
              "Type                 1\n",
              "Price                0\n",
              "Content Rating       0\n",
              "Genres               0\n",
              "Last Updated         0\n",
              "Current Ver          8\n",
              "Android Ver          2\n",
              "dtype: int64"
            ]
          },
          "metadata": {
            "tags": []
          },
          "execution_count": 24
        }
      ]
    },
    {
      "cell_type": "markdown",
      "metadata": {
        "id": "s1IHh71WToUv"
      },
      "source": [
        "###Checking Type of Data we have in each column"
      ]
    },
    {
      "cell_type": "code",
      "metadata": {
        "colab": {
          "base_uri": "https://localhost:8080/"
        },
        "id": "8J9LDRtkTwom",
        "outputId": "b2bf977a-950f-4ea8-c8cb-ccf1bfe5a1b1"
      },
      "source": [
        "google_playstore_df.info()"
      ],
      "execution_count": 25,
      "outputs": [
        {
          "output_type": "stream",
          "text": [
            "<class 'pandas.core.frame.DataFrame'>\n",
            "Int64Index: 10357 entries, 0 to 10840\n",
            "Data columns (total 13 columns):\n",
            " #   Column          Non-Null Count  Dtype  \n",
            "---  ------          --------------  -----  \n",
            " 0   App             10357 non-null  object \n",
            " 1   Category        10357 non-null  object \n",
            " 2   Rating          8892 non-null   float64\n",
            " 3   Reviews         10357 non-null  object \n",
            " 4   Size            10357 non-null  object \n",
            " 5   Installs        10357 non-null  object \n",
            " 6   Type            10356 non-null  object \n",
            " 7   Price           10357 non-null  object \n",
            " 8   Content Rating  10357 non-null  object \n",
            " 9   Genres          10357 non-null  object \n",
            " 10  Last Updated    10357 non-null  object \n",
            " 11  Current Ver     10349 non-null  object \n",
            " 12  Android Ver     10355 non-null  object \n",
            "dtypes: float64(1), object(12)\n",
            "memory usage: 1.1+ MB\n"
          ],
          "name": "stdout"
        }
      ]
    },
    {
      "cell_type": "markdown",
      "metadata": {
        "id": "mfCoywBeVDci"
      },
      "source": [
        "####No. of installs and Price are an object type?"
      ]
    },
    {
      "cell_type": "code",
      "metadata": {
        "colab": {
          "base_uri": "https://localhost:8080/"
        },
        "id": "w2eUSw45UnX9",
        "outputId": "c66f8d02-433d-405c-f10e-447405b26abb"
      },
      "source": [
        "google_playstore_df['Installs']"
      ],
      "execution_count": 26,
      "outputs": [
        {
          "output_type": "execute_result",
          "data": {
            "text/plain": [
              "0            10,000+\n",
              "1           500,000+\n",
              "2         5,000,000+\n",
              "3        50,000,000+\n",
              "4           100,000+\n",
              "            ...     \n",
              "10836         5,000+\n",
              "10837           100+\n",
              "10838         1,000+\n",
              "10839         1,000+\n",
              "10840    10,000,000+\n",
              "Name: Installs, Length: 10357, dtype: object"
            ]
          },
          "metadata": {
            "tags": []
          },
          "execution_count": 26
        }
      ]
    },
    {
      "cell_type": "markdown",
      "metadata": {
        "id": "G_t_nYb3UveK"
      },
      "source": [
        "###Removing '+' from the values of number of installs and converting it to numeric"
      ]
    },
    {
      "cell_type": "code",
      "metadata": {
        "id": "yLUrvodgVB0t"
      },
      "source": [
        "#Using map function to apply rstrip method to remove the + sign from Installs Column which is the no. of installs of an app\r\n",
        "google_playstore_df['Installs'] = google_playstore_df['Installs'].map(lambda x: x.rstrip('+'))"
      ],
      "execution_count": 27,
      "outputs": []
    },
    {
      "cell_type": "markdown",
      "metadata": {
        "id": "Af3d6nvbWWpa"
      },
      "source": [
        "####Converting the price column into int type using apply function"
      ]
    },
    {
      "cell_type": "code",
      "metadata": {
        "id": "UJ01kA4TVlkY"
      },
      "source": [
        "#google_playstore_df['Price'] = google_playstore_df['Price'].map(lambda x: int(x))"
      ],
      "execution_count": 28,
      "outputs": []
    },
    {
      "cell_type": "markdown",
      "metadata": {
        "id": "7Wj4DuSnW1-P"
      },
      "source": [
        "#####ValueError: invalid literal for int() with base 10: ($4.99)\r\n",
        "\r\n",
        "\r\n",
        "This mean due to this $ sign Price column type is object"
      ]
    },
    {
      "cell_type": "markdown",
      "metadata": {
        "id": "vxOMsRcDXcv7"
      },
      "source": [
        "Removing '$' from the values of Price and converting it to numeric"
      ]
    },
    {
      "cell_type": "code",
      "metadata": {
        "id": "skzaNGr7XcLx"
      },
      "source": [
        "google_playstore_df['Price'] = pd.to_numeric(google_playstore_df['Price'].str.replace('$',''))"
      ],
      "execution_count": 29,
      "outputs": []
    },
    {
      "cell_type": "code",
      "metadata": {
        "id": "veous771XhoT"
      },
      "source": [
        "\r\n",
        "#google_playstore_df['Installs'] = google_playstore_df['Installs'].map(lambda x: int(x))"
      ],
      "execution_count": 30,
      "outputs": []
    },
    {
      "cell_type": "markdown",
      "metadata": {
        "id": "DiIR9d4YYCZA"
      },
      "source": [
        "ValueError: invalid literal for int() with base 10: '10,000'\r\n",
        "we again encounter that while changing its type to int there\r\n",
        "are some rows which have comma(,) in the Installs thus preventing it from changing"
      ]
    },
    {
      "cell_type": "markdown",
      "metadata": {
        "id": "Fy408_ZBYcIz"
      },
      "source": [
        "Removing ',' from the values of Installs and converting it to numeric"
      ]
    },
    {
      "cell_type": "code",
      "metadata": {
        "id": "LoedFgniYZ-k"
      },
      "source": [
        "google_playstore_df['Installs'] = pd.to_numeric(google_playstore_df['Installs'].str.replace(',',''))"
      ],
      "execution_count": 31,
      "outputs": []
    },
    {
      "cell_type": "code",
      "metadata": {
        "colab": {
          "base_uri": "https://localhost:8080/"
        },
        "id": "cQHa10gg4ca8",
        "outputId": "c3d0a52c-2874-4257-d232-df3d7a511a85"
      },
      "source": [
        "google_playstore_df['Reviews']"
      ],
      "execution_count": 32,
      "outputs": [
        {
          "output_type": "execute_result",
          "data": {
            "text/plain": [
              "0           159\n",
              "1           967\n",
              "2         87510\n",
              "3        215644\n",
              "4           967\n",
              "          ...  \n",
              "10836        38\n",
              "10837         4\n",
              "10838         3\n",
              "10839       114\n",
              "10840    398307\n",
              "Name: Reviews, Length: 10357, dtype: object"
            ]
          },
          "metadata": {
            "tags": []
          },
          "execution_count": 32
        }
      ]
    },
    {
      "cell_type": "markdown",
      "metadata": {
        "id": "vyssx7Wd4qrU"
      },
      "source": [
        "###dtype of review is showing object hence converting it to numeric"
      ]
    },
    {
      "cell_type": "code",
      "metadata": {
        "id": "iX8Ig4Gd5DGO"
      },
      "source": [
        "google_playstore_df['Reviews'] = google_playstore_df['Reviews'].map(lambda x: int(x))"
      ],
      "execution_count": 33,
      "outputs": []
    },
    {
      "cell_type": "code",
      "metadata": {
        "colab": {
          "base_uri": "https://localhost:8080/"
        },
        "id": "3z9OBZpgYmJA",
        "outputId": "80bb28a8-c221-46c5-b875-1880870dd3f4"
      },
      "source": [
        "#cross checking\r\n",
        "google_playstore_df.info()"
      ],
      "execution_count": 34,
      "outputs": [
        {
          "output_type": "stream",
          "text": [
            "<class 'pandas.core.frame.DataFrame'>\n",
            "Int64Index: 10357 entries, 0 to 10840\n",
            "Data columns (total 13 columns):\n",
            " #   Column          Non-Null Count  Dtype  \n",
            "---  ------          --------------  -----  \n",
            " 0   App             10357 non-null  object \n",
            " 1   Category        10357 non-null  object \n",
            " 2   Rating          8892 non-null   float64\n",
            " 3   Reviews         10357 non-null  int64  \n",
            " 4   Size            10357 non-null  object \n",
            " 5   Installs        10357 non-null  int64  \n",
            " 6   Type            10356 non-null  object \n",
            " 7   Price           10357 non-null  float64\n",
            " 8   Content Rating  10357 non-null  object \n",
            " 9   Genres          10357 non-null  object \n",
            " 10  Last Updated    10357 non-null  object \n",
            " 11  Current Ver     10349 non-null  object \n",
            " 12  Android Ver     10355 non-null  object \n",
            "dtypes: float64(2), int64(2), object(9)\n",
            "memory usage: 1.1+ MB\n"
          ],
          "name": "stdout"
        }
      ]
    },
    {
      "cell_type": "code",
      "metadata": {
        "colab": {
          "base_uri": "https://localhost:8080/",
          "height": 466
        },
        "id": "kf5rldhKaCtd",
        "outputId": "602064a8-e2e5-430b-8b12-544a387ea82b"
      },
      "source": [
        "#final statistics\r\n",
        "google_playstore_df.describe(include='all')"
      ],
      "execution_count": 35,
      "outputs": [
        {
          "output_type": "execute_result",
          "data": {
            "text/html": [
              "<div>\n",
              "<style scoped>\n",
              "    .dataframe tbody tr th:only-of-type {\n",
              "        vertical-align: middle;\n",
              "    }\n",
              "\n",
              "    .dataframe tbody tr th {\n",
              "        vertical-align: top;\n",
              "    }\n",
              "\n",
              "    .dataframe thead th {\n",
              "        text-align: right;\n",
              "    }\n",
              "</style>\n",
              "<table border=\"1\" class=\"dataframe\">\n",
              "  <thead>\n",
              "    <tr style=\"text-align: right;\">\n",
              "      <th></th>\n",
              "      <th>App</th>\n",
              "      <th>Category</th>\n",
              "      <th>Rating</th>\n",
              "      <th>Reviews</th>\n",
              "      <th>Size</th>\n",
              "      <th>Installs</th>\n",
              "      <th>Type</th>\n",
              "      <th>Price</th>\n",
              "      <th>Content Rating</th>\n",
              "      <th>Genres</th>\n",
              "      <th>Last Updated</th>\n",
              "      <th>Current Ver</th>\n",
              "      <th>Android Ver</th>\n",
              "    </tr>\n",
              "  </thead>\n",
              "  <tbody>\n",
              "    <tr>\n",
              "      <th>count</th>\n",
              "      <td>10357</td>\n",
              "      <td>10357</td>\n",
              "      <td>8892.000000</td>\n",
              "      <td>1.035700e+04</td>\n",
              "      <td>10357</td>\n",
              "      <td>1.035700e+04</td>\n",
              "      <td>10356</td>\n",
              "      <td>10357.000000</td>\n",
              "      <td>10357</td>\n",
              "      <td>10357</td>\n",
              "      <td>10357</td>\n",
              "      <td>10349</td>\n",
              "      <td>10355</td>\n",
              "    </tr>\n",
              "    <tr>\n",
              "      <th>unique</th>\n",
              "      <td>9659</td>\n",
              "      <td>33</td>\n",
              "      <td>NaN</td>\n",
              "      <td>NaN</td>\n",
              "      <td>461</td>\n",
              "      <td>NaN</td>\n",
              "      <td>2</td>\n",
              "      <td>NaN</td>\n",
              "      <td>6</td>\n",
              "      <td>119</td>\n",
              "      <td>1377</td>\n",
              "      <td>2831</td>\n",
              "      <td>33</td>\n",
              "    </tr>\n",
              "    <tr>\n",
              "      <th>top</th>\n",
              "      <td>ROBLOX</td>\n",
              "      <td>FAMILY</td>\n",
              "      <td>NaN</td>\n",
              "      <td>NaN</td>\n",
              "      <td>Varies with device</td>\n",
              "      <td>NaN</td>\n",
              "      <td>Free</td>\n",
              "      <td>NaN</td>\n",
              "      <td>Everyone</td>\n",
              "      <td>Tools</td>\n",
              "      <td>August 3, 2018</td>\n",
              "      <td>Varies with device</td>\n",
              "      <td>4.1 and up</td>\n",
              "    </tr>\n",
              "    <tr>\n",
              "      <th>freq</th>\n",
              "      <td>9</td>\n",
              "      <td>1943</td>\n",
              "      <td>NaN</td>\n",
              "      <td>NaN</td>\n",
              "      <td>1526</td>\n",
              "      <td>NaN</td>\n",
              "      <td>9591</td>\n",
              "      <td>NaN</td>\n",
              "      <td>8382</td>\n",
              "      <td>842</td>\n",
              "      <td>298</td>\n",
              "      <td>1302</td>\n",
              "      <td>2379</td>\n",
              "    </tr>\n",
              "    <tr>\n",
              "      <th>mean</th>\n",
              "      <td>NaN</td>\n",
              "      <td>NaN</td>\n",
              "      <td>4.187877</td>\n",
              "      <td>4.059046e+05</td>\n",
              "      <td>NaN</td>\n",
              "      <td>1.415776e+07</td>\n",
              "      <td>NaN</td>\n",
              "      <td>1.030800</td>\n",
              "      <td>NaN</td>\n",
              "      <td>NaN</td>\n",
              "      <td>NaN</td>\n",
              "      <td>NaN</td>\n",
              "      <td>NaN</td>\n",
              "    </tr>\n",
              "    <tr>\n",
              "      <th>std</th>\n",
              "      <td>NaN</td>\n",
              "      <td>NaN</td>\n",
              "      <td>0.522377</td>\n",
              "      <td>2.696778e+06</td>\n",
              "      <td>NaN</td>\n",
              "      <td>8.023955e+07</td>\n",
              "      <td>NaN</td>\n",
              "      <td>16.278625</td>\n",
              "      <td>NaN</td>\n",
              "      <td>NaN</td>\n",
              "      <td>NaN</td>\n",
              "      <td>NaN</td>\n",
              "      <td>NaN</td>\n",
              "    </tr>\n",
              "    <tr>\n",
              "      <th>min</th>\n",
              "      <td>NaN</td>\n",
              "      <td>NaN</td>\n",
              "      <td>1.000000</td>\n",
              "      <td>0.000000e+00</td>\n",
              "      <td>NaN</td>\n",
              "      <td>0.000000e+00</td>\n",
              "      <td>NaN</td>\n",
              "      <td>0.000000</td>\n",
              "      <td>NaN</td>\n",
              "      <td>NaN</td>\n",
              "      <td>NaN</td>\n",
              "      <td>NaN</td>\n",
              "      <td>NaN</td>\n",
              "    </tr>\n",
              "    <tr>\n",
              "      <th>25%</th>\n",
              "      <td>NaN</td>\n",
              "      <td>NaN</td>\n",
              "      <td>4.000000</td>\n",
              "      <td>3.200000e+01</td>\n",
              "      <td>NaN</td>\n",
              "      <td>1.000000e+03</td>\n",
              "      <td>NaN</td>\n",
              "      <td>0.000000</td>\n",
              "      <td>NaN</td>\n",
              "      <td>NaN</td>\n",
              "      <td>NaN</td>\n",
              "      <td>NaN</td>\n",
              "      <td>NaN</td>\n",
              "    </tr>\n",
              "    <tr>\n",
              "      <th>50%</th>\n",
              "      <td>NaN</td>\n",
              "      <td>NaN</td>\n",
              "      <td>4.300000</td>\n",
              "      <td>1.680000e+03</td>\n",
              "      <td>NaN</td>\n",
              "      <td>1.000000e+05</td>\n",
              "      <td>NaN</td>\n",
              "      <td>0.000000</td>\n",
              "      <td>NaN</td>\n",
              "      <td>NaN</td>\n",
              "      <td>NaN</td>\n",
              "      <td>NaN</td>\n",
              "      <td>NaN</td>\n",
              "    </tr>\n",
              "    <tr>\n",
              "      <th>75%</th>\n",
              "      <td>NaN</td>\n",
              "      <td>NaN</td>\n",
              "      <td>4.500000</td>\n",
              "      <td>4.641600e+04</td>\n",
              "      <td>NaN</td>\n",
              "      <td>1.000000e+06</td>\n",
              "      <td>NaN</td>\n",
              "      <td>0.000000</td>\n",
              "      <td>NaN</td>\n",
              "      <td>NaN</td>\n",
              "      <td>NaN</td>\n",
              "      <td>NaN</td>\n",
              "      <td>NaN</td>\n",
              "    </tr>\n",
              "    <tr>\n",
              "      <th>max</th>\n",
              "      <td>NaN</td>\n",
              "      <td>NaN</td>\n",
              "      <td>5.000000</td>\n",
              "      <td>7.815831e+07</td>\n",
              "      <td>NaN</td>\n",
              "      <td>1.000000e+09</td>\n",
              "      <td>NaN</td>\n",
              "      <td>400.000000</td>\n",
              "      <td>NaN</td>\n",
              "      <td>NaN</td>\n",
              "      <td>NaN</td>\n",
              "      <td>NaN</td>\n",
              "      <td>NaN</td>\n",
              "    </tr>\n",
              "  </tbody>\n",
              "</table>\n",
              "</div>"
            ],
            "text/plain": [
              "           App Category  ...         Current Ver  Android Ver\n",
              "count    10357    10357  ...               10349        10355\n",
              "unique    9659       33  ...                2831           33\n",
              "top     ROBLOX   FAMILY  ...  Varies with device   4.1 and up\n",
              "freq         9     1943  ...                1302         2379\n",
              "mean       NaN      NaN  ...                 NaN          NaN\n",
              "std        NaN      NaN  ...                 NaN          NaN\n",
              "min        NaN      NaN  ...                 NaN          NaN\n",
              "25%        NaN      NaN  ...                 NaN          NaN\n",
              "50%        NaN      NaN  ...                 NaN          NaN\n",
              "75%        NaN      NaN  ...                 NaN          NaN\n",
              "max        NaN      NaN  ...                 NaN          NaN\n",
              "\n",
              "[11 rows x 13 columns]"
            ]
          },
          "metadata": {
            "tags": []
          },
          "execution_count": 35
        }
      ]
    },
    {
      "cell_type": "code",
      "metadata": {
        "colab": {
          "base_uri": "https://localhost:8080/"
        },
        "id": "9ftOyrwVnUlg",
        "outputId": "a40ebe77-06ee-47d2-fb42-663472e53cc3"
      },
      "source": [
        "#Total apps present in the dataset after removing the duplicates\r\n",
        "google_playstore_df['App'].shape[0]"
      ],
      "execution_count": 36,
      "outputs": [
        {
          "output_type": "execute_result",
          "data": {
            "text/plain": [
              "10357"
            ]
          },
          "metadata": {
            "tags": []
          },
          "execution_count": 36
        }
      ]
    },
    {
      "cell_type": "code",
      "metadata": {
        "colab": {
          "base_uri": "https://localhost:8080/"
        },
        "id": "nWXH6Vp1nHIM",
        "outputId": "f5903fa7-98da-4f12-c06e-584cc4bfbe2e"
      },
      "source": [
        "#No. of unique Apps in the dataset\r\n",
        "google_playstore_df['App'].nunique()"
      ],
      "execution_count": 37,
      "outputs": [
        {
          "output_type": "execute_result",
          "data": {
            "text/plain": [
              "9659"
            ]
          },
          "metadata": {
            "tags": []
          },
          "execution_count": 37
        }
      ]
    },
    {
      "cell_type": "code",
      "metadata": {
        "colab": {
          "base_uri": "https://localhost:8080/"
        },
        "id": "h6HrA8e6nh3Q",
        "outputId": "6ae786b2-4876-44d5-8d6e-fec4f23b89f3"
      },
      "source": [
        "print(f'There are around {10357-9659} apps which are not unique!')"
      ],
      "execution_count": 38,
      "outputs": [
        {
          "output_type": "stream",
          "text": [
            "There are around 698 apps which are not unique!\n"
          ],
          "name": "stdout"
        }
      ]
    },
    {
      "cell_type": "markdown",
      "metadata": {
        "id": "Z_3QNaLHcfhL"
      },
      "source": [
        "###As we can see from the above mentioned data, there are 9659 unique apps out of 10357 .Let's check out if there data is identical or not for these 698 non unique ones \r\n"
      ]
    },
    {
      "cell_type": "code",
      "metadata": {
        "colab": {
          "base_uri": "https://localhost:8080/",
          "height": 771
        },
        "id": "Lf4tC5T2dnjh",
        "outputId": "961bba9b-01ac-40e3-8965-e933fdc31cd5"
      },
      "source": [
        "google_playstore_df['App'].value_counts().reset_index().sort_values('App',ascending=False).rename(columns={'index':'App','App':'No. of Different Versions'}).head(23)"
      ],
      "execution_count": 39,
      "outputs": [
        {
          "output_type": "execute_result",
          "data": {
            "text/html": [
              "<div>\n",
              "<style scoped>\n",
              "    .dataframe tbody tr th:only-of-type {\n",
              "        vertical-align: middle;\n",
              "    }\n",
              "\n",
              "    .dataframe tbody tr th {\n",
              "        vertical-align: top;\n",
              "    }\n",
              "\n",
              "    .dataframe thead th {\n",
              "        text-align: right;\n",
              "    }\n",
              "</style>\n",
              "<table border=\"1\" class=\"dataframe\">\n",
              "  <thead>\n",
              "    <tr style=\"text-align: right;\">\n",
              "      <th></th>\n",
              "      <th>App</th>\n",
              "      <th>No. of Different Versions</th>\n",
              "    </tr>\n",
              "  </thead>\n",
              "  <tbody>\n",
              "    <tr>\n",
              "      <th>0</th>\n",
              "      <td>ROBLOX</td>\n",
              "      <td>9</td>\n",
              "    </tr>\n",
              "    <tr>\n",
              "      <th>1</th>\n",
              "      <td>8 Ball Pool</td>\n",
              "      <td>7</td>\n",
              "    </tr>\n",
              "    <tr>\n",
              "      <th>2</th>\n",
              "      <td>Zombie Catchers</td>\n",
              "      <td>6</td>\n",
              "    </tr>\n",
              "    <tr>\n",
              "      <th>4</th>\n",
              "      <td>Helix Jump</td>\n",
              "      <td>6</td>\n",
              "    </tr>\n",
              "    <tr>\n",
              "      <th>3</th>\n",
              "      <td>Bubble Shooter</td>\n",
              "      <td>6</td>\n",
              "    </tr>\n",
              "    <tr>\n",
              "      <th>10</th>\n",
              "      <td>Temple Run 2</td>\n",
              "      <td>5</td>\n",
              "    </tr>\n",
              "    <tr>\n",
              "      <th>14</th>\n",
              "      <td>Duolingo: Learn Languages Free</td>\n",
              "      <td>5</td>\n",
              "    </tr>\n",
              "    <tr>\n",
              "      <th>12</th>\n",
              "      <td>Angry Birds Classic</td>\n",
              "      <td>5</td>\n",
              "    </tr>\n",
              "    <tr>\n",
              "      <th>11</th>\n",
              "      <td>Farm Heroes Saga</td>\n",
              "      <td>5</td>\n",
              "    </tr>\n",
              "    <tr>\n",
              "      <th>13</th>\n",
              "      <td>Bowmasters</td>\n",
              "      <td>5</td>\n",
              "    </tr>\n",
              "    <tr>\n",
              "      <th>9</th>\n",
              "      <td>Granny</td>\n",
              "      <td>5</td>\n",
              "    </tr>\n",
              "    <tr>\n",
              "      <th>8</th>\n",
              "      <td>slither.io</td>\n",
              "      <td>5</td>\n",
              "    </tr>\n",
              "    <tr>\n",
              "      <th>7</th>\n",
              "      <td>Zombie Tsunami</td>\n",
              "      <td>5</td>\n",
              "    </tr>\n",
              "    <tr>\n",
              "      <th>6</th>\n",
              "      <td>Subway Surfers</td>\n",
              "      <td>5</td>\n",
              "    </tr>\n",
              "    <tr>\n",
              "      <th>5</th>\n",
              "      <td>Candy Crush Saga</td>\n",
              "      <td>5</td>\n",
              "    </tr>\n",
              "    <tr>\n",
              "      <th>26</th>\n",
              "      <td>Hangouts</td>\n",
              "      <td>4</td>\n",
              "    </tr>\n",
              "    <tr>\n",
              "      <th>36</th>\n",
              "      <td>Netflix</td>\n",
              "      <td>4</td>\n",
              "    </tr>\n",
              "    <tr>\n",
              "      <th>35</th>\n",
              "      <td>My Talking Angela</td>\n",
              "      <td>4</td>\n",
              "    </tr>\n",
              "    <tr>\n",
              "      <th>34</th>\n",
              "      <td>Hill Climb Racing</td>\n",
              "      <td>4</td>\n",
              "    </tr>\n",
              "    <tr>\n",
              "      <th>33</th>\n",
              "      <td>BeautyPlus - Easy Photo Editor &amp; Selfie Camera</td>\n",
              "      <td>4</td>\n",
              "    </tr>\n",
              "    <tr>\n",
              "      <th>32</th>\n",
              "      <td>Pou</td>\n",
              "      <td>4</td>\n",
              "    </tr>\n",
              "    <tr>\n",
              "      <th>31</th>\n",
              "      <td>Plants vs. Zombies FREE</td>\n",
              "      <td>4</td>\n",
              "    </tr>\n",
              "    <tr>\n",
              "      <th>30</th>\n",
              "      <td>Snapchat</td>\n",
              "      <td>4</td>\n",
              "    </tr>\n",
              "  </tbody>\n",
              "</table>\n",
              "</div>"
            ],
            "text/plain": [
              "                                               App  No. of Different Versions\n",
              "0                                           ROBLOX                          9\n",
              "1                                      8 Ball Pool                          7\n",
              "2                                  Zombie Catchers                          6\n",
              "4                                       Helix Jump                          6\n",
              "3                                   Bubble Shooter                          6\n",
              "10                                    Temple Run 2                          5\n",
              "14                  Duolingo: Learn Languages Free                          5\n",
              "12                             Angry Birds Classic                          5\n",
              "11                                Farm Heroes Saga                          5\n",
              "13                                      Bowmasters                          5\n",
              "9                                           Granny                          5\n",
              "8                                       slither.io                          5\n",
              "7                                   Zombie Tsunami                          5\n",
              "6                                   Subway Surfers                          5\n",
              "5                                 Candy Crush Saga                          5\n",
              "26                                        Hangouts                          4\n",
              "36                                         Netflix                          4\n",
              "35                               My Talking Angela                          4\n",
              "34                               Hill Climb Racing                          4\n",
              "33  BeautyPlus - Easy Photo Editor & Selfie Camera                          4\n",
              "32                                             Pou                          4\n",
              "31                         Plants vs. Zombies FREE                          4\n",
              "30                                        Snapchat                          4"
            ]
          },
          "metadata": {
            "tags": []
          },
          "execution_count": 39
        }
      ]
    },
    {
      "cell_type": "code",
      "metadata": {
        "colab": {
          "base_uri": "https://localhost:8080/",
          "height": 505
        },
        "id": "5Rbnnmiac0vu",
        "outputId": "87ffb83e-1127-4f9a-ea40-43bf1aa4cfd7"
      },
      "source": [
        "google_playstore_df[google_playstore_df['App']=='ROBLOX']"
      ],
      "execution_count": 40,
      "outputs": [
        {
          "output_type": "execute_result",
          "data": {
            "text/html": [
              "<div>\n",
              "<style scoped>\n",
              "    .dataframe tbody tr th:only-of-type {\n",
              "        vertical-align: middle;\n",
              "    }\n",
              "\n",
              "    .dataframe tbody tr th {\n",
              "        vertical-align: top;\n",
              "    }\n",
              "\n",
              "    .dataframe thead th {\n",
              "        text-align: right;\n",
              "    }\n",
              "</style>\n",
              "<table border=\"1\" class=\"dataframe\">\n",
              "  <thead>\n",
              "    <tr style=\"text-align: right;\">\n",
              "      <th></th>\n",
              "      <th>App</th>\n",
              "      <th>Category</th>\n",
              "      <th>Rating</th>\n",
              "      <th>Reviews</th>\n",
              "      <th>Size</th>\n",
              "      <th>Installs</th>\n",
              "      <th>Type</th>\n",
              "      <th>Price</th>\n",
              "      <th>Content Rating</th>\n",
              "      <th>Genres</th>\n",
              "      <th>Last Updated</th>\n",
              "      <th>Current Ver</th>\n",
              "      <th>Android Ver</th>\n",
              "    </tr>\n",
              "  </thead>\n",
              "  <tbody>\n",
              "    <tr>\n",
              "      <th>1653</th>\n",
              "      <td>ROBLOX</td>\n",
              "      <td>GAME</td>\n",
              "      <td>4.5</td>\n",
              "      <td>4447388</td>\n",
              "      <td>67M</td>\n",
              "      <td>100000000</td>\n",
              "      <td>Free</td>\n",
              "      <td>0.0</td>\n",
              "      <td>Everyone 10+</td>\n",
              "      <td>Adventure;Action &amp; Adventure</td>\n",
              "      <td>July 31, 2018</td>\n",
              "      <td>2.347.225742</td>\n",
              "      <td>4.1 and up</td>\n",
              "    </tr>\n",
              "    <tr>\n",
              "      <th>1701</th>\n",
              "      <td>ROBLOX</td>\n",
              "      <td>GAME</td>\n",
              "      <td>4.5</td>\n",
              "      <td>4447346</td>\n",
              "      <td>67M</td>\n",
              "      <td>100000000</td>\n",
              "      <td>Free</td>\n",
              "      <td>0.0</td>\n",
              "      <td>Everyone 10+</td>\n",
              "      <td>Adventure;Action &amp; Adventure</td>\n",
              "      <td>July 31, 2018</td>\n",
              "      <td>2.347.225742</td>\n",
              "      <td>4.1 and up</td>\n",
              "    </tr>\n",
              "    <tr>\n",
              "      <th>1748</th>\n",
              "      <td>ROBLOX</td>\n",
              "      <td>GAME</td>\n",
              "      <td>4.5</td>\n",
              "      <td>4448791</td>\n",
              "      <td>67M</td>\n",
              "      <td>100000000</td>\n",
              "      <td>Free</td>\n",
              "      <td>0.0</td>\n",
              "      <td>Everyone 10+</td>\n",
              "      <td>Adventure;Action &amp; Adventure</td>\n",
              "      <td>July 31, 2018</td>\n",
              "      <td>2.347.225742</td>\n",
              "      <td>4.1 and up</td>\n",
              "    </tr>\n",
              "    <tr>\n",
              "      <th>1841</th>\n",
              "      <td>ROBLOX</td>\n",
              "      <td>GAME</td>\n",
              "      <td>4.5</td>\n",
              "      <td>4449882</td>\n",
              "      <td>67M</td>\n",
              "      <td>100000000</td>\n",
              "      <td>Free</td>\n",
              "      <td>0.0</td>\n",
              "      <td>Everyone 10+</td>\n",
              "      <td>Adventure;Action &amp; Adventure</td>\n",
              "      <td>July 31, 2018</td>\n",
              "      <td>2.347.225742</td>\n",
              "      <td>4.1 and up</td>\n",
              "    </tr>\n",
              "    <tr>\n",
              "      <th>1870</th>\n",
              "      <td>ROBLOX</td>\n",
              "      <td>GAME</td>\n",
              "      <td>4.5</td>\n",
              "      <td>4449910</td>\n",
              "      <td>67M</td>\n",
              "      <td>100000000</td>\n",
              "      <td>Free</td>\n",
              "      <td>0.0</td>\n",
              "      <td>Everyone 10+</td>\n",
              "      <td>Adventure;Action &amp; Adventure</td>\n",
              "      <td>July 31, 2018</td>\n",
              "      <td>2.347.225742</td>\n",
              "      <td>4.1 and up</td>\n",
              "    </tr>\n",
              "    <tr>\n",
              "      <th>2016</th>\n",
              "      <td>ROBLOX</td>\n",
              "      <td>FAMILY</td>\n",
              "      <td>4.5</td>\n",
              "      <td>4449910</td>\n",
              "      <td>67M</td>\n",
              "      <td>100000000</td>\n",
              "      <td>Free</td>\n",
              "      <td>0.0</td>\n",
              "      <td>Everyone 10+</td>\n",
              "      <td>Adventure;Action &amp; Adventure</td>\n",
              "      <td>July 31, 2018</td>\n",
              "      <td>2.347.225742</td>\n",
              "      <td>4.1 and up</td>\n",
              "    </tr>\n",
              "    <tr>\n",
              "      <th>2088</th>\n",
              "      <td>ROBLOX</td>\n",
              "      <td>FAMILY</td>\n",
              "      <td>4.5</td>\n",
              "      <td>4450855</td>\n",
              "      <td>67M</td>\n",
              "      <td>100000000</td>\n",
              "      <td>Free</td>\n",
              "      <td>0.0</td>\n",
              "      <td>Everyone 10+</td>\n",
              "      <td>Adventure;Action &amp; Adventure</td>\n",
              "      <td>July 31, 2018</td>\n",
              "      <td>2.347.225742</td>\n",
              "      <td>4.1 and up</td>\n",
              "    </tr>\n",
              "    <tr>\n",
              "      <th>2206</th>\n",
              "      <td>ROBLOX</td>\n",
              "      <td>FAMILY</td>\n",
              "      <td>4.5</td>\n",
              "      <td>4450890</td>\n",
              "      <td>67M</td>\n",
              "      <td>100000000</td>\n",
              "      <td>Free</td>\n",
              "      <td>0.0</td>\n",
              "      <td>Everyone 10+</td>\n",
              "      <td>Adventure;Action &amp; Adventure</td>\n",
              "      <td>July 31, 2018</td>\n",
              "      <td>2.347.225742</td>\n",
              "      <td>4.1 and up</td>\n",
              "    </tr>\n",
              "    <tr>\n",
              "      <th>4527</th>\n",
              "      <td>ROBLOX</td>\n",
              "      <td>FAMILY</td>\n",
              "      <td>4.5</td>\n",
              "      <td>4443407</td>\n",
              "      <td>67M</td>\n",
              "      <td>100000000</td>\n",
              "      <td>Free</td>\n",
              "      <td>0.0</td>\n",
              "      <td>Everyone 10+</td>\n",
              "      <td>Adventure;Action &amp; Adventure</td>\n",
              "      <td>July 31, 2018</td>\n",
              "      <td>2.347.225742</td>\n",
              "      <td>4.1 and up</td>\n",
              "    </tr>\n",
              "  </tbody>\n",
              "</table>\n",
              "</div>"
            ],
            "text/plain": [
              "         App Category  Rating  ...   Last Updated   Current Ver  Android Ver\n",
              "1653  ROBLOX     GAME     4.5  ...  July 31, 2018  2.347.225742   4.1 and up\n",
              "1701  ROBLOX     GAME     4.5  ...  July 31, 2018  2.347.225742   4.1 and up\n",
              "1748  ROBLOX     GAME     4.5  ...  July 31, 2018  2.347.225742   4.1 and up\n",
              "1841  ROBLOX     GAME     4.5  ...  July 31, 2018  2.347.225742   4.1 and up\n",
              "1870  ROBLOX     GAME     4.5  ...  July 31, 2018  2.347.225742   4.1 and up\n",
              "2016  ROBLOX   FAMILY     4.5  ...  July 31, 2018  2.347.225742   4.1 and up\n",
              "2088  ROBLOX   FAMILY     4.5  ...  July 31, 2018  2.347.225742   4.1 and up\n",
              "2206  ROBLOX   FAMILY     4.5  ...  July 31, 2018  2.347.225742   4.1 and up\n",
              "4527  ROBLOX   FAMILY     4.5  ...  July 31, 2018  2.347.225742   4.1 and up\n",
              "\n",
              "[9 rows x 13 columns]"
            ]
          },
          "metadata": {
            "tags": []
          },
          "execution_count": 40
        }
      ]
    },
    {
      "cell_type": "code",
      "metadata": {
        "colab": {
          "base_uri": "https://localhost:8080/",
          "height": 408
        },
        "id": "ULaVuvdKoDc4",
        "outputId": "ee6f8640-ad02-45cf-e5c1-a6121df3c93a"
      },
      "source": [
        "google_playstore_df[google_playstore_df['App']=='8 Ball Pool']"
      ],
      "execution_count": 41,
      "outputs": [
        {
          "output_type": "execute_result",
          "data": {
            "text/html": [
              "<div>\n",
              "<style scoped>\n",
              "    .dataframe tbody tr th:only-of-type {\n",
              "        vertical-align: middle;\n",
              "    }\n",
              "\n",
              "    .dataframe tbody tr th {\n",
              "        vertical-align: top;\n",
              "    }\n",
              "\n",
              "    .dataframe thead th {\n",
              "        text-align: right;\n",
              "    }\n",
              "</style>\n",
              "<table border=\"1\" class=\"dataframe\">\n",
              "  <thead>\n",
              "    <tr style=\"text-align: right;\">\n",
              "      <th></th>\n",
              "      <th>App</th>\n",
              "      <th>Category</th>\n",
              "      <th>Rating</th>\n",
              "      <th>Reviews</th>\n",
              "      <th>Size</th>\n",
              "      <th>Installs</th>\n",
              "      <th>Type</th>\n",
              "      <th>Price</th>\n",
              "      <th>Content Rating</th>\n",
              "      <th>Genres</th>\n",
              "      <th>Last Updated</th>\n",
              "      <th>Current Ver</th>\n",
              "      <th>Android Ver</th>\n",
              "    </tr>\n",
              "  </thead>\n",
              "  <tbody>\n",
              "    <tr>\n",
              "      <th>1675</th>\n",
              "      <td>8 Ball Pool</td>\n",
              "      <td>GAME</td>\n",
              "      <td>4.5</td>\n",
              "      <td>14198297</td>\n",
              "      <td>52M</td>\n",
              "      <td>100000000</td>\n",
              "      <td>Free</td>\n",
              "      <td>0.0</td>\n",
              "      <td>Everyone</td>\n",
              "      <td>Sports</td>\n",
              "      <td>July 31, 2018</td>\n",
              "      <td>4.0.0</td>\n",
              "      <td>4.0.3 and up</td>\n",
              "    </tr>\n",
              "    <tr>\n",
              "      <th>1703</th>\n",
              "      <td>8 Ball Pool</td>\n",
              "      <td>GAME</td>\n",
              "      <td>4.5</td>\n",
              "      <td>14198602</td>\n",
              "      <td>52M</td>\n",
              "      <td>100000000</td>\n",
              "      <td>Free</td>\n",
              "      <td>0.0</td>\n",
              "      <td>Everyone</td>\n",
              "      <td>Sports</td>\n",
              "      <td>July 31, 2018</td>\n",
              "      <td>4.0.0</td>\n",
              "      <td>4.0.3 and up</td>\n",
              "    </tr>\n",
              "    <tr>\n",
              "      <th>1755</th>\n",
              "      <td>8 Ball Pool</td>\n",
              "      <td>GAME</td>\n",
              "      <td>4.5</td>\n",
              "      <td>14200344</td>\n",
              "      <td>52M</td>\n",
              "      <td>100000000</td>\n",
              "      <td>Free</td>\n",
              "      <td>0.0</td>\n",
              "      <td>Everyone</td>\n",
              "      <td>Sports</td>\n",
              "      <td>July 31, 2018</td>\n",
              "      <td>4.0.0</td>\n",
              "      <td>4.0.3 and up</td>\n",
              "    </tr>\n",
              "    <tr>\n",
              "      <th>1844</th>\n",
              "      <td>8 Ball Pool</td>\n",
              "      <td>GAME</td>\n",
              "      <td>4.5</td>\n",
              "      <td>14200550</td>\n",
              "      <td>52M</td>\n",
              "      <td>100000000</td>\n",
              "      <td>Free</td>\n",
              "      <td>0.0</td>\n",
              "      <td>Everyone</td>\n",
              "      <td>Sports</td>\n",
              "      <td>July 31, 2018</td>\n",
              "      <td>4.0.0</td>\n",
              "      <td>4.0.3 and up</td>\n",
              "    </tr>\n",
              "    <tr>\n",
              "      <th>1871</th>\n",
              "      <td>8 Ball Pool</td>\n",
              "      <td>GAME</td>\n",
              "      <td>4.5</td>\n",
              "      <td>14201891</td>\n",
              "      <td>52M</td>\n",
              "      <td>100000000</td>\n",
              "      <td>Free</td>\n",
              "      <td>0.0</td>\n",
              "      <td>Everyone</td>\n",
              "      <td>Sports</td>\n",
              "      <td>July 31, 2018</td>\n",
              "      <td>4.0.0</td>\n",
              "      <td>4.0.3 and up</td>\n",
              "    </tr>\n",
              "    <tr>\n",
              "      <th>1970</th>\n",
              "      <td>8 Ball Pool</td>\n",
              "      <td>GAME</td>\n",
              "      <td>4.5</td>\n",
              "      <td>14201604</td>\n",
              "      <td>52M</td>\n",
              "      <td>100000000</td>\n",
              "      <td>Free</td>\n",
              "      <td>0.0</td>\n",
              "      <td>Everyone</td>\n",
              "      <td>Sports</td>\n",
              "      <td>July 31, 2018</td>\n",
              "      <td>4.0.0</td>\n",
              "      <td>4.0.3 and up</td>\n",
              "    </tr>\n",
              "    <tr>\n",
              "      <th>3953</th>\n",
              "      <td>8 Ball Pool</td>\n",
              "      <td>SPORTS</td>\n",
              "      <td>4.5</td>\n",
              "      <td>14184910</td>\n",
              "      <td>52M</td>\n",
              "      <td>100000000</td>\n",
              "      <td>Free</td>\n",
              "      <td>0.0</td>\n",
              "      <td>Everyone</td>\n",
              "      <td>Sports</td>\n",
              "      <td>July 31, 2018</td>\n",
              "      <td>4.0.0</td>\n",
              "      <td>4.0.3 and up</td>\n",
              "    </tr>\n",
              "  </tbody>\n",
              "</table>\n",
              "</div>"
            ],
            "text/plain": [
              "              App Category  Rating  ...   Last Updated Current Ver   Android Ver\n",
              "1675  8 Ball Pool     GAME     4.5  ...  July 31, 2018       4.0.0  4.0.3 and up\n",
              "1703  8 Ball Pool     GAME     4.5  ...  July 31, 2018       4.0.0  4.0.3 and up\n",
              "1755  8 Ball Pool     GAME     4.5  ...  July 31, 2018       4.0.0  4.0.3 and up\n",
              "1844  8 Ball Pool     GAME     4.5  ...  July 31, 2018       4.0.0  4.0.3 and up\n",
              "1871  8 Ball Pool     GAME     4.5  ...  July 31, 2018       4.0.0  4.0.3 and up\n",
              "1970  8 Ball Pool     GAME     4.5  ...  July 31, 2018       4.0.0  4.0.3 and up\n",
              "3953  8 Ball Pool   SPORTS     4.5  ...  July 31, 2018       4.0.0  4.0.3 and up\n",
              "\n",
              "[7 rows x 13 columns]"
            ]
          },
          "metadata": {
            "tags": []
          },
          "execution_count": 41
        }
      ]
    },
    {
      "cell_type": "markdown",
      "metadata": {
        "id": "369Jjevwf2AI"
      },
      "source": [
        "##As we can see from the above dataframe, ROBLOX and 8 Ball Pool app are having identical rows with difference in Genres they both are in **Games** genres but simultaneously are available in Family and Sports. It may have happened that for the same app, the data have been scraped in different points of time or version of apps might be different for different countries like **Netflix India doesnot released 17+ Anime series though it release it in Japan and Phillipines**. App content is different from what its available in India  . Due to this the genres are different.So I have kept row of an app with maximum number of reviews, assuming it to be the latest one and neglecting the Genres factor and assuming the apps are in generalised version.(Accesible to all group of people).\r\n"
      ]
    },
    {
      "cell_type": "markdown",
      "metadata": {
        "id": "ZJoq2wLY3NxY"
      },
      "source": [
        "###using .drop_duplicate methods to remove the multiple genres app and keeping only the one with highest reviews"
      ]
    },
    {
      "cell_type": "markdown",
      "metadata": {
        "id": "EAQkRfX84vOq"
      },
      "source": [
        "#####Before that I am sorting the my datasets in ascending order \r\n",
        "#####this keep ='last' in .drop_duplicates method will ensure that after removing all the similar apps \r\n",
        "#####with different genres only the ones with higher **reviews** are remained"
      ]
    },
    {
      "cell_type": "code",
      "metadata": {
        "id": "x4_85IESf1TJ"
      },
      "source": [
        "google_playstore_df.sort_values('Reviews',ascending=True,inplace=True)\r\n",
        "google_playstore_df.drop_duplicates('App',keep='last',inplace=True) "
      ],
      "execution_count": 42,
      "outputs": []
    },
    {
      "cell_type": "code",
      "metadata": {
        "colab": {
          "base_uri": "https://localhost:8080/",
          "height": 115
        },
        "id": "0ve6I8fQ5h_0",
        "outputId": "4e9d20e4-d88e-4ce3-b7ab-91da22b9d06e"
      },
      "source": [
        "#quick check its working !!!!\r\n",
        "google_playstore_df[google_playstore_df['App']=='ROBLOX']"
      ],
      "execution_count": 43,
      "outputs": [
        {
          "output_type": "execute_result",
          "data": {
            "text/html": [
              "<div>\n",
              "<style scoped>\n",
              "    .dataframe tbody tr th:only-of-type {\n",
              "        vertical-align: middle;\n",
              "    }\n",
              "\n",
              "    .dataframe tbody tr th {\n",
              "        vertical-align: top;\n",
              "    }\n",
              "\n",
              "    .dataframe thead th {\n",
              "        text-align: right;\n",
              "    }\n",
              "</style>\n",
              "<table border=\"1\" class=\"dataframe\">\n",
              "  <thead>\n",
              "    <tr style=\"text-align: right;\">\n",
              "      <th></th>\n",
              "      <th>App</th>\n",
              "      <th>Category</th>\n",
              "      <th>Rating</th>\n",
              "      <th>Reviews</th>\n",
              "      <th>Size</th>\n",
              "      <th>Installs</th>\n",
              "      <th>Type</th>\n",
              "      <th>Price</th>\n",
              "      <th>Content Rating</th>\n",
              "      <th>Genres</th>\n",
              "      <th>Last Updated</th>\n",
              "      <th>Current Ver</th>\n",
              "      <th>Android Ver</th>\n",
              "    </tr>\n",
              "  </thead>\n",
              "  <tbody>\n",
              "    <tr>\n",
              "      <th>2206</th>\n",
              "      <td>ROBLOX</td>\n",
              "      <td>FAMILY</td>\n",
              "      <td>4.5</td>\n",
              "      <td>4450890</td>\n",
              "      <td>67M</td>\n",
              "      <td>100000000</td>\n",
              "      <td>Free</td>\n",
              "      <td>0.0</td>\n",
              "      <td>Everyone 10+</td>\n",
              "      <td>Adventure;Action &amp; Adventure</td>\n",
              "      <td>July 31, 2018</td>\n",
              "      <td>2.347.225742</td>\n",
              "      <td>4.1 and up</td>\n",
              "    </tr>\n",
              "  </tbody>\n",
              "</table>\n",
              "</div>"
            ],
            "text/plain": [
              "         App Category  Rating  ...   Last Updated   Current Ver  Android Ver\n",
              "2206  ROBLOX   FAMILY     4.5  ...  July 31, 2018  2.347.225742   4.1 and up\n",
              "\n",
              "[1 rows x 13 columns]"
            ]
          },
          "metadata": {
            "tags": []
          },
          "execution_count": 43
        }
      ]
    },
    {
      "cell_type": "code",
      "metadata": {
        "colab": {
          "base_uri": "https://localhost:8080/",
          "height": 115
        },
        "id": "giWSx8I75wDV",
        "outputId": "046a9e97-ff5d-4015-8555-776865347937"
      },
      "source": [
        "google_playstore_df[google_playstore_df['App']=='8 Ball Pool']"
      ],
      "execution_count": 44,
      "outputs": [
        {
          "output_type": "execute_result",
          "data": {
            "text/html": [
              "<div>\n",
              "<style scoped>\n",
              "    .dataframe tbody tr th:only-of-type {\n",
              "        vertical-align: middle;\n",
              "    }\n",
              "\n",
              "    .dataframe tbody tr th {\n",
              "        vertical-align: top;\n",
              "    }\n",
              "\n",
              "    .dataframe thead th {\n",
              "        text-align: right;\n",
              "    }\n",
              "</style>\n",
              "<table border=\"1\" class=\"dataframe\">\n",
              "  <thead>\n",
              "    <tr style=\"text-align: right;\">\n",
              "      <th></th>\n",
              "      <th>App</th>\n",
              "      <th>Category</th>\n",
              "      <th>Rating</th>\n",
              "      <th>Reviews</th>\n",
              "      <th>Size</th>\n",
              "      <th>Installs</th>\n",
              "      <th>Type</th>\n",
              "      <th>Price</th>\n",
              "      <th>Content Rating</th>\n",
              "      <th>Genres</th>\n",
              "      <th>Last Updated</th>\n",
              "      <th>Current Ver</th>\n",
              "      <th>Android Ver</th>\n",
              "    </tr>\n",
              "  </thead>\n",
              "  <tbody>\n",
              "    <tr>\n",
              "      <th>1871</th>\n",
              "      <td>8 Ball Pool</td>\n",
              "      <td>GAME</td>\n",
              "      <td>4.5</td>\n",
              "      <td>14201891</td>\n",
              "      <td>52M</td>\n",
              "      <td>100000000</td>\n",
              "      <td>Free</td>\n",
              "      <td>0.0</td>\n",
              "      <td>Everyone</td>\n",
              "      <td>Sports</td>\n",
              "      <td>July 31, 2018</td>\n",
              "      <td>4.0.0</td>\n",
              "      <td>4.0.3 and up</td>\n",
              "    </tr>\n",
              "  </tbody>\n",
              "</table>\n",
              "</div>"
            ],
            "text/plain": [
              "              App Category  Rating  ...   Last Updated Current Ver   Android Ver\n",
              "1871  8 Ball Pool     GAME     4.5  ...  July 31, 2018       4.0.0  4.0.3 and up\n",
              "\n",
              "[1 rows x 13 columns]"
            ]
          },
          "metadata": {
            "tags": []
          },
          "execution_count": 44
        }
      ]
    },
    {
      "cell_type": "code",
      "metadata": {
        "colab": {
          "base_uri": "https://localhost:8080/"
        },
        "id": "vUDd7n7U6xHf",
        "outputId": "e3430e06-7918-4507-931e-cb65aa13e8f1"
      },
      "source": [
        "google_playstore_df.isnull().sum()"
      ],
      "execution_count": 45,
      "outputs": [
        {
          "output_type": "execute_result",
          "data": {
            "text/plain": [
              "App                  0\n",
              "Category             0\n",
              "Rating            1463\n",
              "Reviews              0\n",
              "Size                 0\n",
              "Installs             0\n",
              "Type                 1\n",
              "Price                0\n",
              "Content Rating       0\n",
              "Genres               0\n",
              "Last Updated         0\n",
              "Current Ver          8\n",
              "Android Ver          2\n",
              "dtype: int64"
            ]
          },
          "metadata": {
            "tags": []
          },
          "execution_count": 45
        }
      ]
    },
    {
      "cell_type": "code",
      "metadata": {
        "colab": {
          "base_uri": "https://localhost:8080/",
          "height": 518
        },
        "id": "5RubhNq96hiu",
        "outputId": "e9c83f72-7807-4213-a6c7-8c9d3192425e"
      },
      "source": [
        "#final statistics\r\n",
        "google_playstore_df.describe(include='all')"
      ],
      "execution_count": 46,
      "outputs": [
        {
          "output_type": "execute_result",
          "data": {
            "text/html": [
              "<div>\n",
              "<style scoped>\n",
              "    .dataframe tbody tr th:only-of-type {\n",
              "        vertical-align: middle;\n",
              "    }\n",
              "\n",
              "    .dataframe tbody tr th {\n",
              "        vertical-align: top;\n",
              "    }\n",
              "\n",
              "    .dataframe thead th {\n",
              "        text-align: right;\n",
              "    }\n",
              "</style>\n",
              "<table border=\"1\" class=\"dataframe\">\n",
              "  <thead>\n",
              "    <tr style=\"text-align: right;\">\n",
              "      <th></th>\n",
              "      <th>App</th>\n",
              "      <th>Category</th>\n",
              "      <th>Rating</th>\n",
              "      <th>Reviews</th>\n",
              "      <th>Size</th>\n",
              "      <th>Installs</th>\n",
              "      <th>Type</th>\n",
              "      <th>Price</th>\n",
              "      <th>Content Rating</th>\n",
              "      <th>Genres</th>\n",
              "      <th>Last Updated</th>\n",
              "      <th>Current Ver</th>\n",
              "      <th>Android Ver</th>\n",
              "    </tr>\n",
              "  </thead>\n",
              "  <tbody>\n",
              "    <tr>\n",
              "      <th>count</th>\n",
              "      <td>9659</td>\n",
              "      <td>9659</td>\n",
              "      <td>8196.000000</td>\n",
              "      <td>9.659000e+03</td>\n",
              "      <td>9659</td>\n",
              "      <td>9.659000e+03</td>\n",
              "      <td>9658</td>\n",
              "      <td>9659.000000</td>\n",
              "      <td>9659</td>\n",
              "      <td>9659</td>\n",
              "      <td>9659</td>\n",
              "      <td>9651</td>\n",
              "      <td>9657</td>\n",
              "    </tr>\n",
              "    <tr>\n",
              "      <th>unique</th>\n",
              "      <td>9659</td>\n",
              "      <td>33</td>\n",
              "      <td>NaN</td>\n",
              "      <td>NaN</td>\n",
              "      <td>461</td>\n",
              "      <td>NaN</td>\n",
              "      <td>2</td>\n",
              "      <td>NaN</td>\n",
              "      <td>6</td>\n",
              "      <td>118</td>\n",
              "      <td>1377</td>\n",
              "      <td>2819</td>\n",
              "      <td>33</td>\n",
              "    </tr>\n",
              "    <tr>\n",
              "      <th>top</th>\n",
              "      <td>GO SMS Pro Z Glass Theme EX</td>\n",
              "      <td>FAMILY</td>\n",
              "      <td>NaN</td>\n",
              "      <td>NaN</td>\n",
              "      <td>Varies with device</td>\n",
              "      <td>NaN</td>\n",
              "      <td>Free</td>\n",
              "      <td>NaN</td>\n",
              "      <td>Everyone</td>\n",
              "      <td>Tools</td>\n",
              "      <td>August 3, 2018</td>\n",
              "      <td>Varies with device</td>\n",
              "      <td>4.1 and up</td>\n",
              "    </tr>\n",
              "    <tr>\n",
              "      <th>freq</th>\n",
              "      <td>1</td>\n",
              "      <td>1875</td>\n",
              "      <td>NaN</td>\n",
              "      <td>NaN</td>\n",
              "      <td>1228</td>\n",
              "      <td>NaN</td>\n",
              "      <td>8904</td>\n",
              "      <td>NaN</td>\n",
              "      <td>7903</td>\n",
              "      <td>828</td>\n",
              "      <td>252</td>\n",
              "      <td>1055</td>\n",
              "      <td>2205</td>\n",
              "    </tr>\n",
              "    <tr>\n",
              "      <th>mean</th>\n",
              "      <td>NaN</td>\n",
              "      <td>NaN</td>\n",
              "      <td>4.173267</td>\n",
              "      <td>2.168041e+05</td>\n",
              "      <td>NaN</td>\n",
              "      <td>7.798170e+06</td>\n",
              "      <td>NaN</td>\n",
              "      <td>1.097231</td>\n",
              "      <td>NaN</td>\n",
              "      <td>NaN</td>\n",
              "      <td>NaN</td>\n",
              "      <td>NaN</td>\n",
              "      <td>NaN</td>\n",
              "    </tr>\n",
              "    <tr>\n",
              "      <th>std</th>\n",
              "      <td>NaN</td>\n",
              "      <td>NaN</td>\n",
              "      <td>0.536253</td>\n",
              "      <td>1.831430e+06</td>\n",
              "      <td>NaN</td>\n",
              "      <td>5.376973e+07</td>\n",
              "      <td>NaN</td>\n",
              "      <td>16.851618</td>\n",
              "      <td>NaN</td>\n",
              "      <td>NaN</td>\n",
              "      <td>NaN</td>\n",
              "      <td>NaN</td>\n",
              "      <td>NaN</td>\n",
              "    </tr>\n",
              "    <tr>\n",
              "      <th>min</th>\n",
              "      <td>NaN</td>\n",
              "      <td>NaN</td>\n",
              "      <td>1.000000</td>\n",
              "      <td>0.000000e+00</td>\n",
              "      <td>NaN</td>\n",
              "      <td>0.000000e+00</td>\n",
              "      <td>NaN</td>\n",
              "      <td>0.000000</td>\n",
              "      <td>NaN</td>\n",
              "      <td>NaN</td>\n",
              "      <td>NaN</td>\n",
              "      <td>NaN</td>\n",
              "      <td>NaN</td>\n",
              "    </tr>\n",
              "    <tr>\n",
              "      <th>25%</th>\n",
              "      <td>NaN</td>\n",
              "      <td>NaN</td>\n",
              "      <td>4.000000</td>\n",
              "      <td>2.500000e+01</td>\n",
              "      <td>NaN</td>\n",
              "      <td>1.000000e+03</td>\n",
              "      <td>NaN</td>\n",
              "      <td>0.000000</td>\n",
              "      <td>NaN</td>\n",
              "      <td>NaN</td>\n",
              "      <td>NaN</td>\n",
              "      <td>NaN</td>\n",
              "      <td>NaN</td>\n",
              "    </tr>\n",
              "    <tr>\n",
              "      <th>50%</th>\n",
              "      <td>NaN</td>\n",
              "      <td>NaN</td>\n",
              "      <td>4.300000</td>\n",
              "      <td>9.690000e+02</td>\n",
              "      <td>NaN</td>\n",
              "      <td>1.000000e+05</td>\n",
              "      <td>NaN</td>\n",
              "      <td>0.000000</td>\n",
              "      <td>NaN</td>\n",
              "      <td>NaN</td>\n",
              "      <td>NaN</td>\n",
              "      <td>NaN</td>\n",
              "      <td>NaN</td>\n",
              "    </tr>\n",
              "    <tr>\n",
              "      <th>75%</th>\n",
              "      <td>NaN</td>\n",
              "      <td>NaN</td>\n",
              "      <td>4.500000</td>\n",
              "      <td>2.945350e+04</td>\n",
              "      <td>NaN</td>\n",
              "      <td>1.000000e+06</td>\n",
              "      <td>NaN</td>\n",
              "      <td>0.000000</td>\n",
              "      <td>NaN</td>\n",
              "      <td>NaN</td>\n",
              "      <td>NaN</td>\n",
              "      <td>NaN</td>\n",
              "      <td>NaN</td>\n",
              "    </tr>\n",
              "    <tr>\n",
              "      <th>max</th>\n",
              "      <td>NaN</td>\n",
              "      <td>NaN</td>\n",
              "      <td>5.000000</td>\n",
              "      <td>7.815831e+07</td>\n",
              "      <td>NaN</td>\n",
              "      <td>1.000000e+09</td>\n",
              "      <td>NaN</td>\n",
              "      <td>400.000000</td>\n",
              "      <td>NaN</td>\n",
              "      <td>NaN</td>\n",
              "      <td>NaN</td>\n",
              "      <td>NaN</td>\n",
              "      <td>NaN</td>\n",
              "    </tr>\n",
              "  </tbody>\n",
              "</table>\n",
              "</div>"
            ],
            "text/plain": [
              "                                App Category  ...         Current Ver  Android Ver\n",
              "count                          9659     9659  ...                9651         9657\n",
              "unique                         9659       33  ...                2819           33\n",
              "top     GO SMS Pro Z Glass Theme EX   FAMILY  ...  Varies with device   4.1 and up\n",
              "freq                              1     1875  ...                1055         2205\n",
              "mean                            NaN      NaN  ...                 NaN          NaN\n",
              "std                             NaN      NaN  ...                 NaN          NaN\n",
              "min                             NaN      NaN  ...                 NaN          NaN\n",
              "25%                             NaN      NaN  ...                 NaN          NaN\n",
              "50%                             NaN      NaN  ...                 NaN          NaN\n",
              "75%                             NaN      NaN  ...                 NaN          NaN\n",
              "max                             NaN      NaN  ...                 NaN          NaN\n",
              "\n",
              "[11 rows x 13 columns]"
            ]
          },
          "metadata": {
            "tags": []
          },
          "execution_count": 46
        }
      ]
    },
    {
      "cell_type": "markdown",
      "metadata": {
        "id": "CVRCUhIZTMjB"
      },
      "source": [
        "##Handling Missing Values\r\n",
        "\r\n",
        "\r\n",
        "1.   To avoid any outlier issue I am replacing the null values by median for my Ratings columns.\r\n",
        "2.   Replacing the 1 null value in Type column with Type top value 'Free'.\r\n",
        "3.  In the current version and latest version column I am dropping them because they mostly contain vague information which is not that insightfull from my perspective,so for now I am not going to use them for current EDA. Might include them in a later stage, when I have a good exposure to various kind of datasets. \r\n",
        "\r\n"
      ]
    },
    {
      "cell_type": "code",
      "metadata": {
        "id": "GGYMMVMv8QmT"
      },
      "source": [
        "google_playstore_df['Rating'].fillna(4.173084,inplace=True)"
      ],
      "execution_count": 47,
      "outputs": []
    },
    {
      "cell_type": "code",
      "metadata": {
        "id": "GmbCaVR59G0e"
      },
      "source": [
        "google_playstore_df['Type'].fillna('Free',inplace=True)"
      ],
      "execution_count": 48,
      "outputs": []
    },
    {
      "cell_type": "code",
      "metadata": {
        "id": "ht3DiLZkMWmR"
      },
      "source": [
        "google_playstore_df.fillna('Missing',inplace=True)"
      ],
      "execution_count": 49,
      "outputs": []
    },
    {
      "cell_type": "code",
      "metadata": {
        "colab": {
          "base_uri": "https://localhost:8080/",
          "height": 352
        },
        "id": "dnRfYtwu9N__",
        "outputId": "1944e6bb-f46d-487b-d0cb-b80ed2efe643"
      },
      "source": [
        "#quick check for null values using heatmaps\r\n",
        "sns.heatmap(google_playstore_df.isnull())  ### no null values"
      ],
      "execution_count": 50,
      "outputs": [
        {
          "output_type": "execute_result",
          "data": {
            "text/plain": [
              "<matplotlib.axes._subplots.AxesSubplot at 0x7f939d032950>"
            ]
          },
          "metadata": {
            "tags": []
          },
          "execution_count": 50
        },
        {
          "output_type": "display_data",
          "data": {
            "image/png": "[encoded data removed]",
            "text/plain": [
              "<Figure size 432x288 with 2 Axes>"
            ]
          },
          "metadata": {
            "tags": [],
            "needs_background": "light"
          }
        }
      ]
    },
    {
      "cell_type": "markdown",
      "metadata": {
        "id": "VgyQYtuARYgI"
      },
      "source": [
        "#Sanity check for UserReview Dataset"
      ]
    },
    {
      "cell_type": "code",
      "metadata": {
        "colab": {
          "base_uri": "https://localhost:8080/"
        },
        "id": "QPl-giwix0hT",
        "outputId": "a0b4ed01-42fb-4109-aa5d-56ee60f03d43"
      },
      "source": [
        "#finding null values \r\n",
        "usrev_df.isnull().sum()"
      ],
      "execution_count": 51,
      "outputs": [
        {
          "output_type": "execute_result",
          "data": {
            "text/plain": [
              "App                           0\n",
              "Translated_Review         26868\n",
              "Sentiment                 26863\n",
              "Sentiment_Polarity        26863\n",
              "Sentiment_Subjectivity    26863\n",
              "dtype: int64"
            ]
          },
          "metadata": {
            "tags": []
          },
          "execution_count": 51
        }
      ]
    },
    {
      "cell_type": "markdown",
      "metadata": {
        "id": "9rHzbqZYITNX"
      },
      "source": [
        "The user review data has almost 50%(26868 out of 64295) of its rows empty!!!\r\n"
      ]
    },
    {
      "cell_type": "markdown",
      "metadata": {
        "id": "d9Vmha9rJWrl"
      },
      "source": [
        "####A single app has multiple reviews so we will use groupby function to find the average Sentiment Polarity and Subjectivity"
      ]
    },
    {
      "cell_type": "markdown",
      "metadata": {
        "id": "Eossu13dJcaB"
      },
      "source": [
        "#####Before that we will check for duplicates"
      ]
    },
    {
      "cell_type": "code",
      "metadata": {
        "colab": {
          "base_uri": "https://localhost:8080/"
        },
        "id": "-kFCOzqEIuIf",
        "outputId": "3407940c-729c-4cfb-fae6-3127780a8708"
      },
      "source": [
        "usrev_df.duplicated().sum()"
      ],
      "execution_count": 52,
      "outputs": [
        {
          "output_type": "execute_result",
          "data": {
            "text/plain": [
              "33616"
            ]
          },
          "metadata": {
            "tags": []
          },
          "execution_count": 52
        }
      ]
    },
    {
      "cell_type": "code",
      "metadata": {
        "id": "Etonave3JzVb"
      },
      "source": [
        "#dropping duplicates\r\n",
        "usrev_df.drop_duplicates(inplace=True)"
      ],
      "execution_count": 53,
      "outputs": []
    },
    {
      "cell_type": "code",
      "metadata": {
        "colab": {
          "base_uri": "https://localhost:8080/"
        },
        "id": "WHn4QYEwJ8T8",
        "outputId": "b81f7cd8-ffff-4cfa-c5d2-1993a35ce1a3"
      },
      "source": [
        "#cross checking\r\n",
        "usrev_df.duplicated().sum()"
      ],
      "execution_count": 54,
      "outputs": [
        {
          "output_type": "execute_result",
          "data": {
            "text/plain": [
              "0"
            ]
          },
          "metadata": {
            "tags": []
          },
          "execution_count": 54
        }
      ]
    },
    {
      "cell_type": "code",
      "metadata": {
        "colab": {
          "base_uri": "https://localhost:8080/"
        },
        "id": "i4awe3mUKA_n",
        "outputId": "6a4d089a-3722-43d4-dc53-7debf2bceef7"
      },
      "source": [
        "#Actual Null values\r\n",
        "usrev_df.isnull().sum()"
      ],
      "execution_count": 55,
      "outputs": [
        {
          "output_type": "execute_result",
          "data": {
            "text/plain": [
              "App                         0\n",
              "Translated_Review         987\n",
              "Sentiment                 982\n",
              "Sentiment_Polarity        982\n",
              "Sentiment_Subjectivity    982\n",
              "dtype: int64"
            ]
          },
          "metadata": {
            "tags": []
          },
          "execution_count": 55
        }
      ]
    },
    {
      "cell_type": "code",
      "metadata": {
        "colab": {
          "base_uri": "https://localhost:8080/",
          "height": 392
        },
        "id": "FrB6tCqgMd2t",
        "outputId": "46120ff1-8102-4b42-caca-540686d73e8d"
      },
      "source": [
        "#using heatmap to visualize it\r\n",
        "sns.heatmap(usrev_df.isnull())\r\n"
      ],
      "execution_count": 56,
      "outputs": [
        {
          "output_type": "execute_result",
          "data": {
            "text/plain": [
              "<matplotlib.axes._subplots.AxesSubplot at 0x7f939ced7e90>"
            ]
          },
          "metadata": {
            "tags": []
          },
          "execution_count": 56
        },
        {
          "output_type": "display_data",
          "data": {
            "image/png": "[encoded data removed]",
            "text/plain": [
              "<Figure size 432x288 with 2 Axes>"
            ]
          },
          "metadata": {
            "tags": [],
            "needs_background": "light"
          }
        }
      ]
    },
    {
      "cell_type": "markdown",
      "metadata": {
        "id": "J3bcMbP2Smgb"
      },
      "source": [
        "###We observe that except App name more or less every column has missing values same as above as we got."
      ]
    },
    {
      "cell_type": "code",
      "metadata": {
        "colab": {
          "base_uri": "https://localhost:8080/"
        },
        "id": "A8-vVqrWYyZL",
        "outputId": "6cf9eadd-528a-4d53-e167-bc25b4f5b672"
      },
      "source": [
        "usrev_df.info()"
      ],
      "execution_count": 57,
      "outputs": [
        {
          "output_type": "stream",
          "text": [
            "<class 'pandas.core.frame.DataFrame'>\n",
            "Int64Index: 30679 entries, 0 to 64236\n",
            "Data columns (total 5 columns):\n",
            " #   Column                  Non-Null Count  Dtype  \n",
            "---  ------                  --------------  -----  \n",
            " 0   App                     30679 non-null  object \n",
            " 1   Translated_Review       29692 non-null  object \n",
            " 2   Sentiment               29697 non-null  object \n",
            " 3   Sentiment_Polarity      29697 non-null  float64\n",
            " 4   Sentiment_Subjectivity  29697 non-null  float64\n",
            "dtypes: float64(2), object(3)\n",
            "memory usage: 1.4+ MB\n"
          ],
          "name": "stdout"
        }
      ]
    },
    {
      "cell_type": "markdown",
      "metadata": {
        "id": "3gOBH1LfY6lF"
      },
      "source": [
        "###Data Types of all column are correct"
      ]
    },
    {
      "cell_type": "code",
      "metadata": {
        "colab": {
          "base_uri": "https://localhost:8080/",
          "height": 394
        },
        "id": "rbKT0cmbY_q9",
        "outputId": "02f971f2-eb42-480b-c949-bdb6ccbac5df"
      },
      "source": [
        "#Descriptive statistics\r\n",
        "usrev_df.describe(include='all')"
      ],
      "execution_count": 58,
      "outputs": [
        {
          "output_type": "execute_result",
          "data": {
            "text/html": [
              "<div>\n",
              "<style scoped>\n",
              "    .dataframe tbody tr th:only-of-type {\n",
              "        vertical-align: middle;\n",
              "    }\n",
              "\n",
              "    .dataframe tbody tr th {\n",
              "        vertical-align: top;\n",
              "    }\n",
              "\n",
              "    .dataframe thead th {\n",
              "        text-align: right;\n",
              "    }\n",
              "</style>\n",
              "<table border=\"1\" class=\"dataframe\">\n",
              "  <thead>\n",
              "    <tr style=\"text-align: right;\">\n",
              "      <th></th>\n",
              "      <th>App</th>\n",
              "      <th>Translated_Review</th>\n",
              "      <th>Sentiment</th>\n",
              "      <th>Sentiment_Polarity</th>\n",
              "      <th>Sentiment_Subjectivity</th>\n",
              "    </tr>\n",
              "  </thead>\n",
              "  <tbody>\n",
              "    <tr>\n",
              "      <th>count</th>\n",
              "      <td>30679</td>\n",
              "      <td>29692</td>\n",
              "      <td>29697</td>\n",
              "      <td>29697.000000</td>\n",
              "      <td>29697.000000</td>\n",
              "    </tr>\n",
              "    <tr>\n",
              "      <th>unique</th>\n",
              "      <td>1074</td>\n",
              "      <td>27994</td>\n",
              "      <td>3</td>\n",
              "      <td>NaN</td>\n",
              "      <td>NaN</td>\n",
              "    </tr>\n",
              "    <tr>\n",
              "      <th>top</th>\n",
              "      <td>Facebook</td>\n",
              "      <td>Good</td>\n",
              "      <td>Positive</td>\n",
              "      <td>NaN</td>\n",
              "      <td>NaN</td>\n",
              "    </tr>\n",
              "    <tr>\n",
              "      <th>freq</th>\n",
              "      <td>131</td>\n",
              "      <td>137</td>\n",
              "      <td>19015</td>\n",
              "      <td>NaN</td>\n",
              "      <td>NaN</td>\n",
              "    </tr>\n",
              "    <tr>\n",
              "      <th>mean</th>\n",
              "      <td>NaN</td>\n",
              "      <td>NaN</td>\n",
              "      <td>NaN</td>\n",
              "      <td>0.188836</td>\n",
              "      <td>0.490848</td>\n",
              "    </tr>\n",
              "    <tr>\n",
              "      <th>std</th>\n",
              "      <td>NaN</td>\n",
              "      <td>NaN</td>\n",
              "      <td>NaN</td>\n",
              "      <td>0.355672</td>\n",
              "      <td>0.266029</td>\n",
              "    </tr>\n",
              "    <tr>\n",
              "      <th>min</th>\n",
              "      <td>NaN</td>\n",
              "      <td>NaN</td>\n",
              "      <td>NaN</td>\n",
              "      <td>-1.000000</td>\n",
              "      <td>0.000000</td>\n",
              "    </tr>\n",
              "    <tr>\n",
              "      <th>25%</th>\n",
              "      <td>NaN</td>\n",
              "      <td>NaN</td>\n",
              "      <td>NaN</td>\n",
              "      <td>0.000000</td>\n",
              "      <td>0.350000</td>\n",
              "    </tr>\n",
              "    <tr>\n",
              "      <th>50%</th>\n",
              "      <td>NaN</td>\n",
              "      <td>NaN</td>\n",
              "      <td>NaN</td>\n",
              "      <td>0.157143</td>\n",
              "      <td>0.514286</td>\n",
              "    </tr>\n",
              "    <tr>\n",
              "      <th>75%</th>\n",
              "      <td>NaN</td>\n",
              "      <td>NaN</td>\n",
              "      <td>NaN</td>\n",
              "      <td>0.422500</td>\n",
              "      <td>0.652500</td>\n",
              "    </tr>\n",
              "    <tr>\n",
              "      <th>max</th>\n",
              "      <td>NaN</td>\n",
              "      <td>NaN</td>\n",
              "      <td>NaN</td>\n",
              "      <td>1.000000</td>\n",
              "      <td>1.000000</td>\n",
              "    </tr>\n",
              "  </tbody>\n",
              "</table>\n",
              "</div>"
            ],
            "text/plain": [
              "             App Translated_Review  ... Sentiment_Polarity  Sentiment_Subjectivity\n",
              "count      30679             29692  ...       29697.000000            29697.000000\n",
              "unique      1074             27994  ...                NaN                     NaN\n",
              "top     Facebook              Good  ...                NaN                     NaN\n",
              "freq         131               137  ...                NaN                     NaN\n",
              "mean         NaN               NaN  ...           0.188836                0.490848\n",
              "std          NaN               NaN  ...           0.355672                0.266029\n",
              "min          NaN               NaN  ...          -1.000000                0.000000\n",
              "25%          NaN               NaN  ...           0.000000                0.350000\n",
              "50%          NaN               NaN  ...           0.157143                0.514286\n",
              "75%          NaN               NaN  ...           0.422500                0.652500\n",
              "max          NaN               NaN  ...           1.000000                1.000000\n",
              "\n",
              "[11 rows x 5 columns]"
            ]
          },
          "metadata": {
            "tags": []
          },
          "execution_count": 58
        }
      ]
    },
    {
      "cell_type": "code",
      "metadata": {
        "colab": {
          "base_uri": "https://localhost:8080/",
          "height": 339
        },
        "id": "K2NcRZV_ZQLQ",
        "outputId": "13be8a09-0dca-45dd-a181-bc163ba558b8"
      },
      "source": [
        "usrev_df.boxplot(figsize=(10,5)) "
      ],
      "execution_count": 59,
      "outputs": [
        {
          "output_type": "execute_result",
          "data": {
            "text/plain": [
              "<matplotlib.axes._subplots.AxesSubplot at 0x7f939ce36bd0>"
            ]
          },
          "metadata": {
            "tags": []
          },
          "execution_count": 59
        },
        {
          "output_type": "display_data",
          "data": {
            "image/png": "[encoded data removed]",
            "text/plain": [
              "<Figure size 720x360 with 1 Axes>"
            ]
          },
          "metadata": {
            "tags": [],
            "needs_background": "light"
          }
        }
      ]
    },
    {
      "cell_type": "markdown",
      "metadata": {
        "id": "KDXrB1RBZbJI"
      },
      "source": [
        "\r\n",
        "\r\n",
        "1.   Range of Sentiment_Polarity must be -1 to 1 which we can see.\r\n",
        "2.   Also Range of Subjectivity is 0 to 1 which is also fine\r\n",
        "3.   We can clearly see there are total 29692 translated\treviews out of them only 27994 are unique.\r\n",
        "\r\n"
      ]
    },
    {
      "cell_type": "code",
      "metadata": {
        "colab": {
          "base_uri": "https://localhost:8080/"
        },
        "id": "h6rXYC2u_nNZ",
        "outputId": "2c8d6137-d440-4a61-b530-8daa6c549179"
      },
      "source": [
        "print(f'In translated_review column {29692-27994} reviews are not unique!!')"
      ],
      "execution_count": 60,
      "outputs": [
        {
          "output_type": "stream",
          "text": [
            "In translated_review column 1698 reviews are not unique!!\n"
          ],
          "name": "stdout"
        }
      ]
    },
    {
      "cell_type": "markdown",
      "metadata": {
        "id": "NRa8c2jn_ifn"
      },
      "source": [
        "Let's check out if there Reviews is identical or not for these 1698 non unique ones."
      ]
    },
    {
      "cell_type": "code",
      "metadata": {
        "colab": {
          "base_uri": "https://localhost:8080/",
          "height": 488
        },
        "id": "iiFhisgQASXD",
        "outputId": "7bc410ca-0058-46ff-88ff-e604a8a97b2c"
      },
      "source": [
        "#using groupby function to find the counts of each review given to a paricular app\r\n",
        "usrev_df['Translated_Review'].value_counts().reset_index().sort_values('Translated_Review',ascending=False).rename(columns={'index':'Translated_Review','Translated_Review':'No. of repetitions'}).head(14)"
      ],
      "execution_count": 61,
      "outputs": [
        {
          "output_type": "execute_result",
          "data": {
            "text/html": [
              "<div>\n",
              "<style scoped>\n",
              "    .dataframe tbody tr th:only-of-type {\n",
              "        vertical-align: middle;\n",
              "    }\n",
              "\n",
              "    .dataframe tbody tr th {\n",
              "        vertical-align: top;\n",
              "    }\n",
              "\n",
              "    .dataframe thead th {\n",
              "        text-align: right;\n",
              "    }\n",
              "</style>\n",
              "<table border=\"1\" class=\"dataframe\">\n",
              "  <thead>\n",
              "    <tr style=\"text-align: right;\">\n",
              "      <th></th>\n",
              "      <th>Translated_Review</th>\n",
              "      <th>No. of repetitions</th>\n",
              "    </tr>\n",
              "  </thead>\n",
              "  <tbody>\n",
              "    <tr>\n",
              "      <th>0</th>\n",
              "      <td>Good</td>\n",
              "      <td>137</td>\n",
              "    </tr>\n",
              "    <tr>\n",
              "      <th>1</th>\n",
              "      <td>Nice</td>\n",
              "      <td>105</td>\n",
              "    </tr>\n",
              "    <tr>\n",
              "      <th>2</th>\n",
              "      <td>Great</td>\n",
              "      <td>90</td>\n",
              "    </tr>\n",
              "    <tr>\n",
              "      <th>3</th>\n",
              "      <td>Love</td>\n",
              "      <td>81</td>\n",
              "    </tr>\n",
              "    <tr>\n",
              "      <th>4</th>\n",
              "      <td>Awesome</td>\n",
              "      <td>55</td>\n",
              "    </tr>\n",
              "    <tr>\n",
              "      <th>5</th>\n",
              "      <td>I love</td>\n",
              "      <td>55</td>\n",
              "    </tr>\n",
              "    <tr>\n",
              "      <th>6</th>\n",
              "      <td>Very good</td>\n",
              "      <td>51</td>\n",
              "    </tr>\n",
              "    <tr>\n",
              "      <th>7</th>\n",
              "      <td>I like</td>\n",
              "      <td>43</td>\n",
              "    </tr>\n",
              "    <tr>\n",
              "      <th>8</th>\n",
              "      <td>good</td>\n",
              "      <td>41</td>\n",
              "    </tr>\n",
              "    <tr>\n",
              "      <th>9</th>\n",
              "      <td>Cool</td>\n",
              "      <td>38</td>\n",
              "    </tr>\n",
              "    <tr>\n",
              "      <th>10</th>\n",
              "      <td>Ok</td>\n",
              "      <td>32</td>\n",
              "    </tr>\n",
              "    <tr>\n",
              "      <th>11</th>\n",
              "      <td>Excellent</td>\n",
              "      <td>32</td>\n",
              "    </tr>\n",
              "    <tr>\n",
              "      <th>12</th>\n",
              "      <td>It's good</td>\n",
              "      <td>28</td>\n",
              "    </tr>\n",
              "    <tr>\n",
              "      <th>13</th>\n",
              "      <td>Very nice</td>\n",
              "      <td>28</td>\n",
              "    </tr>\n",
              "  </tbody>\n",
              "</table>\n",
              "</div>"
            ],
            "text/plain": [
              "   Translated_Review  No. of repetitions\n",
              "0               Good                 137\n",
              "1               Nice                 105\n",
              "2              Great                  90\n",
              "3               Love                  81\n",
              "4            Awesome                  55\n",
              "5             I love                  55\n",
              "6          Very good                  51\n",
              "7             I like                  43\n",
              "8               good                  41\n",
              "9               Cool                  38\n",
              "10                Ok                  32\n",
              "11         Excellent                  32\n",
              "12         It's good                  28\n",
              "13         Very nice                  28"
            ]
          },
          "metadata": {
            "tags": []
          },
          "execution_count": 61
        }
      ]
    },
    {
      "cell_type": "code",
      "metadata": {
        "colab": {
          "base_uri": "https://localhost:8080/",
          "height": 206
        },
        "id": "PFFtFue7B8PK",
        "outputId": "819a5cf6-f06f-4e3c-e4e7-30fbf48900bb"
      },
      "source": [
        "usrev_df[usrev_df['Translated_Review']=='Good'].head()"
      ],
      "execution_count": 62,
      "outputs": [
        {
          "output_type": "execute_result",
          "data": {
            "text/html": [
              "<div>\n",
              "<style scoped>\n",
              "    .dataframe tbody tr th:only-of-type {\n",
              "        vertical-align: middle;\n",
              "    }\n",
              "\n",
              "    .dataframe tbody tr th {\n",
              "        vertical-align: top;\n",
              "    }\n",
              "\n",
              "    .dataframe thead th {\n",
              "        text-align: right;\n",
              "    }\n",
              "</style>\n",
              "<table border=\"1\" class=\"dataframe\">\n",
              "  <thead>\n",
              "    <tr style=\"text-align: right;\">\n",
              "      <th></th>\n",
              "      <th>App</th>\n",
              "      <th>Translated_Review</th>\n",
              "      <th>Sentiment</th>\n",
              "      <th>Sentiment_Polarity</th>\n",
              "      <th>Sentiment_Subjectivity</th>\n",
              "    </tr>\n",
              "  </thead>\n",
              "  <tbody>\n",
              "    <tr>\n",
              "      <th>40</th>\n",
              "      <td>10 Best Foods for You</td>\n",
              "      <td>Good</td>\n",
              "      <td>Positive</td>\n",
              "      <td>0.7</td>\n",
              "      <td>0.6</td>\n",
              "    </tr>\n",
              "    <tr>\n",
              "      <th>387</th>\n",
              "      <td>1LINE – One Line with One Touch</td>\n",
              "      <td>Good</td>\n",
              "      <td>Positive</td>\n",
              "      <td>0.7</td>\n",
              "      <td>0.6</td>\n",
              "    </tr>\n",
              "    <tr>\n",
              "      <th>406</th>\n",
              "      <td>2018Emoji Keyboard 😂 Emoticons Lite -sticker&amp;gif</td>\n",
              "      <td>Good</td>\n",
              "      <td>Positive</td>\n",
              "      <td>0.7</td>\n",
              "      <td>0.6</td>\n",
              "    </tr>\n",
              "    <tr>\n",
              "      <th>609</th>\n",
              "      <td>2RedBeans</td>\n",
              "      <td>Good</td>\n",
              "      <td>Positive</td>\n",
              "      <td>0.7</td>\n",
              "      <td>0.6</td>\n",
              "    </tr>\n",
              "    <tr>\n",
              "      <th>2351</th>\n",
              "      <td>A+ Mobile</td>\n",
              "      <td>Good</td>\n",
              "      <td>Positive</td>\n",
              "      <td>0.7</td>\n",
              "      <td>0.6</td>\n",
              "    </tr>\n",
              "  </tbody>\n",
              "</table>\n",
              "</div>"
            ],
            "text/plain": [
              "                                                   App  ... Sentiment_Subjectivity\n",
              "40                               10 Best Foods for You  ...                    0.6\n",
              "387                    1LINE – One Line with One Touch  ...                    0.6\n",
              "406   2018Emoji Keyboard 😂 Emoticons Lite -sticker&gif  ...                    0.6\n",
              "609                                          2RedBeans  ...                    0.6\n",
              "2351                                         A+ Mobile  ...                    0.6\n",
              "\n",
              "[5 rows x 5 columns]"
            ]
          },
          "metadata": {
            "tags": []
          },
          "execution_count": 62
        }
      ]
    },
    {
      "cell_type": "code",
      "metadata": {
        "colab": {
          "base_uri": "https://localhost:8080/",
          "height": 223
        },
        "id": "cKAyX64FCRLj",
        "outputId": "537dff08-cfa2-4d02-c3b8-9062d2adec76"
      },
      "source": [
        "usrev_df[usrev_df['Translated_Review']=='Great'].head()"
      ],
      "execution_count": 63,
      "outputs": [
        {
          "output_type": "execute_result",
          "data": {
            "text/html": [
              "<div>\n",
              "<style scoped>\n",
              "    .dataframe tbody tr th:only-of-type {\n",
              "        vertical-align: middle;\n",
              "    }\n",
              "\n",
              "    .dataframe tbody tr th {\n",
              "        vertical-align: top;\n",
              "    }\n",
              "\n",
              "    .dataframe thead th {\n",
              "        text-align: right;\n",
              "    }\n",
              "</style>\n",
              "<table border=\"1\" class=\"dataframe\">\n",
              "  <thead>\n",
              "    <tr style=\"text-align: right;\">\n",
              "      <th></th>\n",
              "      <th>App</th>\n",
              "      <th>Translated_Review</th>\n",
              "      <th>Sentiment</th>\n",
              "      <th>Sentiment_Polarity</th>\n",
              "      <th>Sentiment_Subjectivity</th>\n",
              "    </tr>\n",
              "  </thead>\n",
              "  <tbody>\n",
              "    <tr>\n",
              "      <th>200</th>\n",
              "      <td>104 找工作 - 找工作 找打工 找兼職 履歷健檢 履歷診療室</td>\n",
              "      <td>Great</td>\n",
              "      <td>Positive</td>\n",
              "      <td>0.8</td>\n",
              "      <td>0.75</td>\n",
              "    </tr>\n",
              "    <tr>\n",
              "      <th>436</th>\n",
              "      <td>2018Emoji Keyboard 😂 Emoticons Lite -sticker&amp;gif</td>\n",
              "      <td>Great</td>\n",
              "      <td>Positive</td>\n",
              "      <td>0.8</td>\n",
              "      <td>0.75</td>\n",
              "    </tr>\n",
              "    <tr>\n",
              "      <th>601</th>\n",
              "      <td>2RedBeans</td>\n",
              "      <td>Great</td>\n",
              "      <td>Positive</td>\n",
              "      <td>0.8</td>\n",
              "      <td>0.75</td>\n",
              "    </tr>\n",
              "    <tr>\n",
              "      <th>909</th>\n",
              "      <td>4 in a Row</td>\n",
              "      <td>Great</td>\n",
              "      <td>Positive</td>\n",
              "      <td>0.8</td>\n",
              "      <td>0.75</td>\n",
              "    </tr>\n",
              "    <tr>\n",
              "      <th>2355</th>\n",
              "      <td>A+ Mobile</td>\n",
              "      <td>Great</td>\n",
              "      <td>Positive</td>\n",
              "      <td>0.8</td>\n",
              "      <td>0.75</td>\n",
              "    </tr>\n",
              "  </tbody>\n",
              "</table>\n",
              "</div>"
            ],
            "text/plain": [
              "                                                   App  ... Sentiment_Subjectivity\n",
              "200                   104 找工作 - 找工作 找打工 找兼職 履歷健檢 履歷診療室  ...                   0.75\n",
              "436   2018Emoji Keyboard 😂 Emoticons Lite -sticker&gif  ...                   0.75\n",
              "601                                          2RedBeans  ...                   0.75\n",
              "909                                         4 in a Row  ...                   0.75\n",
              "2355                                         A+ Mobile  ...                   0.75\n",
              "\n",
              "[5 rows x 5 columns]"
            ]
          },
          "metadata": {
            "tags": []
          },
          "execution_count": 63
        }
      ]
    },
    {
      "cell_type": "markdown",
      "metadata": {
        "id": "67FIpdtQCagr"
      },
      "source": [
        "##From the above two tables I have come to the conclusion that these terms ** Good , Nice, Great** are a generalised rating terms used by many Users.\r\n",
        "## I personally also most of the times use these generalised keyword ratings for a app.\r\n",
        "## Different people can give different kind of reviews for a same app.So in our coming analysis we can use this columns which doesnot contribute a lot as we cannot get any insight from these terms. 'Good','Great' etc in general sound similar.\r\n",
        "## Thus will mostly be focussing on **Sentiment_Polarity**\tand **Sentiment_Subjectivity columns.**"
      ]
    },
    {
      "cell_type": "code",
      "metadata": {
        "colab": {
          "base_uri": "https://localhost:8080/"
        },
        "id": "MjbpVERw96Vh",
        "outputId": "729b895c-dc56-461e-e4dc-bff2e65a78f5"
      },
      "source": [
        "usrev_df.isnull().sum()"
      ],
      "execution_count": 64,
      "outputs": [
        {
          "output_type": "execute_result",
          "data": {
            "text/plain": [
              "App                         0\n",
              "Translated_Review         987\n",
              "Sentiment                 982\n",
              "Sentiment_Polarity        982\n",
              "Sentiment_Subjectivity    982\n",
              "dtype: int64"
            ]
          },
          "metadata": {
            "tags": []
          },
          "execution_count": 64
        }
      ]
    },
    {
      "cell_type": "code",
      "metadata": {
        "colab": {
          "base_uri": "https://localhost:8080/",
          "height": 394
        },
        "id": "rcx1T4kL99zy",
        "outputId": "55c721af-6da0-488c-9998-52e24ad84e74"
      },
      "source": [
        "usrev_df.describe(include='all')"
      ],
      "execution_count": 65,
      "outputs": [
        {
          "output_type": "execute_result",
          "data": {
            "text/html": [
              "<div>\n",
              "<style scoped>\n",
              "    .dataframe tbody tr th:only-of-type {\n",
              "        vertical-align: middle;\n",
              "    }\n",
              "\n",
              "    .dataframe tbody tr th {\n",
              "        vertical-align: top;\n",
              "    }\n",
              "\n",
              "    .dataframe thead th {\n",
              "        text-align: right;\n",
              "    }\n",
              "</style>\n",
              "<table border=\"1\" class=\"dataframe\">\n",
              "  <thead>\n",
              "    <tr style=\"text-align: right;\">\n",
              "      <th></th>\n",
              "      <th>App</th>\n",
              "      <th>Translated_Review</th>\n",
              "      <th>Sentiment</th>\n",
              "      <th>Sentiment_Polarity</th>\n",
              "      <th>Sentiment_Subjectivity</th>\n",
              "    </tr>\n",
              "  </thead>\n",
              "  <tbody>\n",
              "    <tr>\n",
              "      <th>count</th>\n",
              "      <td>30679</td>\n",
              "      <td>29692</td>\n",
              "      <td>29697</td>\n",
              "      <td>29697.000000</td>\n",
              "      <td>29697.000000</td>\n",
              "    </tr>\n",
              "    <tr>\n",
              "      <th>unique</th>\n",
              "      <td>1074</td>\n",
              "      <td>27994</td>\n",
              "      <td>3</td>\n",
              "      <td>NaN</td>\n",
              "      <td>NaN</td>\n",
              "    </tr>\n",
              "    <tr>\n",
              "      <th>top</th>\n",
              "      <td>Facebook</td>\n",
              "      <td>Good</td>\n",
              "      <td>Positive</td>\n",
              "      <td>NaN</td>\n",
              "      <td>NaN</td>\n",
              "    </tr>\n",
              "    <tr>\n",
              "      <th>freq</th>\n",
              "      <td>131</td>\n",
              "      <td>137</td>\n",
              "      <td>19015</td>\n",
              "      <td>NaN</td>\n",
              "      <td>NaN</td>\n",
              "    </tr>\n",
              "    <tr>\n",
              "      <th>mean</th>\n",
              "      <td>NaN</td>\n",
              "      <td>NaN</td>\n",
              "      <td>NaN</td>\n",
              "      <td>0.188836</td>\n",
              "      <td>0.490848</td>\n",
              "    </tr>\n",
              "    <tr>\n",
              "      <th>std</th>\n",
              "      <td>NaN</td>\n",
              "      <td>NaN</td>\n",
              "      <td>NaN</td>\n",
              "      <td>0.355672</td>\n",
              "      <td>0.266029</td>\n",
              "    </tr>\n",
              "    <tr>\n",
              "      <th>min</th>\n",
              "      <td>NaN</td>\n",
              "      <td>NaN</td>\n",
              "      <td>NaN</td>\n",
              "      <td>-1.000000</td>\n",
              "      <td>0.000000</td>\n",
              "    </tr>\n",
              "    <tr>\n",
              "      <th>25%</th>\n",
              "      <td>NaN</td>\n",
              "      <td>NaN</td>\n",
              "      <td>NaN</td>\n",
              "      <td>0.000000</td>\n",
              "      <td>0.350000</td>\n",
              "    </tr>\n",
              "    <tr>\n",
              "      <th>50%</th>\n",
              "      <td>NaN</td>\n",
              "      <td>NaN</td>\n",
              "      <td>NaN</td>\n",
              "      <td>0.157143</td>\n",
              "      <td>0.514286</td>\n",
              "    </tr>\n",
              "    <tr>\n",
              "      <th>75%</th>\n",
              "      <td>NaN</td>\n",
              "      <td>NaN</td>\n",
              "      <td>NaN</td>\n",
              "      <td>0.422500</td>\n",
              "      <td>0.652500</td>\n",
              "    </tr>\n",
              "    <tr>\n",
              "      <th>max</th>\n",
              "      <td>NaN</td>\n",
              "      <td>NaN</td>\n",
              "      <td>NaN</td>\n",
              "      <td>1.000000</td>\n",
              "      <td>1.000000</td>\n",
              "    </tr>\n",
              "  </tbody>\n",
              "</table>\n",
              "</div>"
            ],
            "text/plain": [
              "             App Translated_Review  ... Sentiment_Polarity  Sentiment_Subjectivity\n",
              "count      30679             29692  ...       29697.000000            29697.000000\n",
              "unique      1074             27994  ...                NaN                     NaN\n",
              "top     Facebook              Good  ...                NaN                     NaN\n",
              "freq         131               137  ...                NaN                     NaN\n",
              "mean         NaN               NaN  ...           0.188836                0.490848\n",
              "std          NaN               NaN  ...           0.355672                0.266029\n",
              "min          NaN               NaN  ...          -1.000000                0.000000\n",
              "25%          NaN               NaN  ...           0.000000                0.350000\n",
              "50%          NaN               NaN  ...           0.157143                0.514286\n",
              "75%          NaN               NaN  ...           0.422500                0.652500\n",
              "max          NaN               NaN  ...           1.000000                1.000000\n",
              "\n",
              "[11 rows x 5 columns]"
            ]
          },
          "metadata": {
            "tags": []
          },
          "execution_count": 65
        }
      ]
    },
    {
      "cell_type": "markdown",
      "metadata": {
        "id": "PRk9RimZS8S2"
      },
      "source": [
        "##Handling Missing Values\r\n",
        "\r\n",
        "\r\n",
        "1.   To avoid any outlier issue I am replacing the null values by median for Sentiment_Polarity  and\tSentiment_Subjectivity.\r\n",
        "2.   Replacing the null values in Translated_Review column with  top value 'Good' and in Sentiment column by its top value 'Positive'.\r\n"
      ]
    },
    {
      "cell_type": "code",
      "metadata": {
        "id": "VRxFt8GDGi8L"
      },
      "source": [
        "usrev_df['Sentiment_Polarity'].fillna(np.median,inplace=True)"
      ],
      "execution_count": 66,
      "outputs": []
    },
    {
      "cell_type": "code",
      "metadata": {
        "id": "z1o2sOz_Igcs"
      },
      "source": [
        "usrev_df['Sentiment_Subjectivity'].fillna(np.median,inplace=True)"
      ],
      "execution_count": 67,
      "outputs": []
    },
    {
      "cell_type": "code",
      "metadata": {
        "id": "qm1SONPLIryu"
      },
      "source": [
        "usrev_df['Translated_Review'].fillna('Good',inplace=True)"
      ],
      "execution_count": 68,
      "outputs": []
    },
    {
      "cell_type": "code",
      "metadata": {
        "id": "w59x1QkMI4Hu"
      },
      "source": [
        "usrev_df['Sentiment'].fillna('Good',inplace=True)"
      ],
      "execution_count": 69,
      "outputs": []
    },
    {
      "cell_type": "code",
      "metadata": {
        "colab": {
          "base_uri": "https://localhost:8080/",
          "height": 392
        },
        "id": "j1an_EAzJAkT",
        "outputId": "5f0ac5ad-8d82-4a63-e8be-1089816d281b"
      },
      "source": [
        "#checking using heatmap\r\n",
        "sns.heatmap(usrev_df.isnull())\r\n"
      ],
      "execution_count": 70,
      "outputs": [
        {
          "output_type": "execute_result",
          "data": {
            "text/plain": [
              "<matplotlib.axes._subplots.AxesSubplot at 0x7f939ce96210>"
            ]
          },
          "metadata": {
            "tags": []
          },
          "execution_count": 70
        },
        {
          "output_type": "display_data",
          "data": {
            "image/png": "[encoded data removed]",
            "text/plain": [
              "<Figure size 432x288 with 2 Axes>"
            ]
          },
          "metadata": {
            "tags": [],
            "needs_background": "light"
          }
        }
      ]
    },
    {
      "cell_type": "markdown",
      "metadata": {
        "id": "8Kl-H7-wLIw_"
      },
      "source": [
        "###creating  copies of our datasets to avoid data impurity in later stages"
      ]
    },
    {
      "cell_type": "code",
      "metadata": {
        "id": "zg_8ydCwKxKy"
      },
      "source": [
        "#creating a copy of our datasets to avoid data impurity in later stages\r\n",
        "play_df = google_playstore_df.copy()\r\n",
        "user_df = usrev_df.copy()"
      ],
      "execution_count": 71,
      "outputs": []
    },
    {
      "cell_type": "markdown",
      "metadata": {
        "id": "53GTTWdT9_6f"
      },
      "source": [
        "###**To find the factors which affects the sucess rate of an App on playstore I am developing some model question to get better insights on each feature present in our dataset.**"
      ]
    },
    {
      "cell_type": "markdown",
      "metadata": {
        "id": "zRiKS5zpHkKw"
      },
      "source": [
        "##Model Question 1 :\r\n",
        "#Q.Which category apps are currently in demand on the appstore?"
      ]
    },
    {
      "cell_type": "markdown",
      "metadata": {
        "id": "WgSZ0dcRI2db"
      },
      "source": [
        "#####So basic assumption one can make here is that whichever app category is present in large no. in the playstore are the most demanded one.\r\n",
        "\r\n",
        "###Lets Verify"
      ]
    },
    {
      "cell_type": "markdown",
      "metadata": {
        "id": "LdcfNl6gKMZt"
      },
      "source": [
        "#Finding Insights with help of Data Visualisation Libraries on various features available.\r\n",
        "Matplotlib and Seaborn"
      ]
    },
    {
      "cell_type": "code",
      "metadata": {
        "colab": {
          "base_uri": "https://localhost:8080/"
        },
        "id": "e8zJObK_Lofb",
        "outputId": "67f9a524-3b0f-46b0-f205-bf831b76894d"
      },
      "source": [
        "play_df.columns"
      ],
      "execution_count": 72,
      "outputs": [
        {
          "output_type": "execute_result",
          "data": {
            "text/plain": [
              "Index(['App', 'Category', 'Rating', 'Reviews', 'Size', 'Installs', 'Type',\n",
              "       'Price', 'Content Rating', 'Genres', 'Last Updated', 'Current Ver',\n",
              "       'Android Ver'],\n",
              "      dtype='object')"
            ]
          },
          "metadata": {
            "tags": []
          },
          "execution_count": 72
        }
      ]
    },
    {
      "cell_type": "markdown",
      "metadata": {
        "id": "CGGD-dfvNuR2"
      },
      "source": [
        "##The following problem can be achieved by Visual Representation of classification of different number of apps present on Playstore on the basis of there **respective Genres**/Category."
      ]
    },
    {
      "cell_type": "code",
      "metadata": {
        "colab": {
          "base_uri": "https://localhost:8080/",
          "height": 621
        },
        "id": "wRdHi7nlJOwy",
        "outputId": "eb07e604-0d8b-4083-abe8-9c64377ef615"
      },
      "source": [
        "#using countplot from seaborn\r\n",
        "fig,ax1=plt.subplots(figsize=(10,10))\r\n",
        "plt.xlabel('Genres')\r\n",
        "plt.title('No. of Apps belonging to particular Genres')\r\n",
        "sns.countplot(y='Category',data=play_df,ax=ax1,palette='viridis',order=play_df.value_counts('Category',ascending=False).index)\r\n",
        "plt.show()"
      ],
      "execution_count": 73,
      "outputs": [
        {
          "output_type": "display_data",
          "data": {
            "image/png": "[encoded data removed]",
            "text/plain": [
              "<Figure size 720x720 with 1 Axes>"
            ]
          },
          "metadata": {
            "tags": [],
            "needs_background": "light"
          }
        }
      ]
    },
    {
      "cell_type": "markdown",
      "metadata": {
        "id": "DDd3MFF3WDwm"
      },
      "source": [
        "##Thus,In the Genres, the category **'Family'** has the top position followed by **'Game'** in terms of there number of counts."
      ]
    },
    {
      "cell_type": "markdown",
      "metadata": {
        "id": "14S7lyA43rJ5"
      },
      "source": [
        "###Plotting a same hisplot graph but now comparing the Genres of the apps available in the playstore with the respect to there installation figure.\r\n",
        "\r\n",
        "## **Genres Vs No. of Installations**"
      ]
    },
    {
      "cell_type": "code",
      "metadata": {
        "colab": {
          "base_uri": "https://localhost:8080/"
        },
        "id": "WwxcjVw95XeE",
        "outputId": "c616f4bf-acb0-420a-ff35-057aed98e2c4"
      },
      "source": [
        "#maximum and minimum no. of installation of the apps present in dataset\r\n",
        "play_df['Installs'].max(),play_df['Installs'].min()"
      ],
      "execution_count": 74,
      "outputs": [
        {
          "output_type": "execute_result",
          "data": {
            "text/plain": [
              "(1000000000, 0)"
            ]
          },
          "metadata": {
            "tags": []
          },
          "execution_count": 74
        }
      ]
    },
    {
      "cell_type": "markdown",
      "metadata": {
        "id": "np0MCgyK5gbb"
      },
      "source": [
        "####The Install column contains very pretty big int values with huge variance among them. Hence in order to increase  data readibilty and for proper visualisation I am scaling them down by diving them by its max value."
      ]
    },
    {
      "cell_type": "code",
      "metadata": {
        "id": "aXyqlOUE6YDp"
      },
      "source": [
        "#scaling\r\n",
        "play_df['Installs'] = play_df['Installs'].apply(lambda x: round(x/play_df['Installs'].max(),2))"
      ],
      "execution_count": 75,
      "outputs": []
    },
    {
      "cell_type": "code",
      "metadata": {
        "id": "9L_DzmS-WDft",
        "colab": {
          "base_uri": "https://localhost:8080/",
          "height": 424
        },
        "outputId": "ca5677f6-f93e-421e-d09c-0f13a2b21dff"
      },
      "source": [
        "#using groupby function to get the tabular representaion of above dataset problem\r\n",
        "play_df.groupby('Genres')['Installs'].sum().reset_index().sort_values(by='Installs',ascending=False)\r\n"
      ],
      "execution_count": 76,
      "outputs": [
        {
          "output_type": "execute_result",
          "data": {
            "text/html": [
              "<div>\n",
              "<style scoped>\n",
              "    .dataframe tbody tr th:only-of-type {\n",
              "        vertical-align: middle;\n",
              "    }\n",
              "\n",
              "    .dataframe tbody tr th {\n",
              "        vertical-align: top;\n",
              "    }\n",
              "\n",
              "    .dataframe thead th {\n",
              "        text-align: right;\n",
              "    }\n",
              "</style>\n",
              "<table border=\"1\" class=\"dataframe\">\n",
              "  <thead>\n",
              "    <tr style=\"text-align: right;\">\n",
              "      <th></th>\n",
              "      <th>Genres</th>\n",
              "      <th>Installs</th>\n",
              "    </tr>\n",
              "  </thead>\n",
              "  <tbody>\n",
              "    <tr>\n",
              "      <th>35</th>\n",
              "      <td>Communication</td>\n",
              "      <td>11.10</td>\n",
              "    </tr>\n",
              "    <tr>\n",
              "      <th>107</th>\n",
              "      <td>Tools</td>\n",
              "      <td>8.16</td>\n",
              "    </tr>\n",
              "    <tr>\n",
              "      <th>81</th>\n",
              "      <td>Productivity</td>\n",
              "      <td>5.83</td>\n",
              "    </tr>\n",
              "    <tr>\n",
              "      <th>100</th>\n",
              "      <td>Social</td>\n",
              "      <td>5.54</td>\n",
              "    </tr>\n",
              "    <tr>\n",
              "      <th>80</th>\n",
              "      <td>Photography</td>\n",
              "      <td>4.73</td>\n",
              "    </tr>\n",
              "    <tr>\n",
              "      <th>...</th>\n",
              "      <td>...</td>\n",
              "      <td>...</td>\n",
              "    </tr>\n",
              "    <tr>\n",
              "      <th>86</th>\n",
              "      <td>Puzzle;Education</td>\n",
              "      <td>0.00</td>\n",
              "    </tr>\n",
              "    <tr>\n",
              "      <th>34</th>\n",
              "      <td>Comics;Creativity</td>\n",
              "      <td>0.00</td>\n",
              "    </tr>\n",
              "    <tr>\n",
              "      <th>12</th>\n",
              "      <td>Art &amp; Design;Pretend Play</td>\n",
              "      <td>0.00</td>\n",
              "    </tr>\n",
              "    <tr>\n",
              "      <th>76</th>\n",
              "      <td>Parenting;Brain Games</td>\n",
              "      <td>0.00</td>\n",
              "    </tr>\n",
              "    <tr>\n",
              "      <th>85</th>\n",
              "      <td>Puzzle;Creativity</td>\n",
              "      <td>0.00</td>\n",
              "    </tr>\n",
              "  </tbody>\n",
              "</table>\n",
              "<p>118 rows × 2 columns</p>\n",
              "</div>"
            ],
            "text/plain": [
              "                        Genres  Installs\n",
              "35               Communication     11.10\n",
              "107                      Tools      8.16\n",
              "81                Productivity      5.83\n",
              "100                     Social      5.54\n",
              "80                 Photography      4.73\n",
              "..                         ...       ...\n",
              "86            Puzzle;Education      0.00\n",
              "34           Comics;Creativity      0.00\n",
              "12   Art & Design;Pretend Play      0.00\n",
              "76       Parenting;Brain Games      0.00\n",
              "85           Puzzle;Creativity      0.00\n",
              "\n",
              "[118 rows x 2 columns]"
            ]
          },
          "metadata": {
            "tags": []
          },
          "execution_count": 76
        }
      ]
    },
    {
      "cell_type": "code",
      "metadata": {
        "id": "BJlitEhARXRa"
      },
      "source": [
        "#sorting the groupby table in descending order wrt no. of installations\r\n",
        "genres_install_count =play_df.groupby('Genres')['Installs'].sum().reset_index().sort_values(by='Installs',ascending=False)"
      ],
      "execution_count": 77,
      "outputs": []
    },
    {
      "cell_type": "code",
      "metadata": {
        "colab": {
          "base_uri": "https://localhost:8080/",
          "height": 363
        },
        "id": "mC-zoRgR_dHj",
        "outputId": "f2e2b871-3429-444a-f8fd-98aaea433875"
      },
      "source": [
        "genres_install_count.tail(10)"
      ],
      "execution_count": 78,
      "outputs": [
        {
          "output_type": "execute_result",
          "data": {
            "text/html": [
              "<div>\n",
              "<style scoped>\n",
              "    .dataframe tbody tr th:only-of-type {\n",
              "        vertical-align: middle;\n",
              "    }\n",
              "\n",
              "    .dataframe tbody tr th {\n",
              "        vertical-align: top;\n",
              "    }\n",
              "\n",
              "    .dataframe thead th {\n",
              "        text-align: right;\n",
              "    }\n",
              "</style>\n",
              "<table border=\"1\" class=\"dataframe\">\n",
              "  <thead>\n",
              "    <tr style=\"text-align: right;\">\n",
              "      <th></th>\n",
              "      <th>Genres</th>\n",
              "      <th>Installs</th>\n",
              "    </tr>\n",
              "  </thead>\n",
              "  <tbody>\n",
              "    <tr>\n",
              "      <th>93</th>\n",
              "      <td>Role Playing;Education</td>\n",
              "      <td>0.0</td>\n",
              "    </tr>\n",
              "    <tr>\n",
              "      <th>17</th>\n",
              "      <td>Board;Brain Games</td>\n",
              "      <td>0.0</td>\n",
              "    </tr>\n",
              "    <tr>\n",
              "      <th>89</th>\n",
              "      <td>Racing;Pretend Play</td>\n",
              "      <td>0.0</td>\n",
              "    </tr>\n",
              "    <tr>\n",
              "      <th>72</th>\n",
              "      <td>Music &amp; Audio;Music &amp; Video</td>\n",
              "      <td>0.0</td>\n",
              "    </tr>\n",
              "    <tr>\n",
              "      <th>11</th>\n",
              "      <td>Art &amp; Design;Creativity</td>\n",
              "      <td>0.0</td>\n",
              "    </tr>\n",
              "    <tr>\n",
              "      <th>86</th>\n",
              "      <td>Puzzle;Education</td>\n",
              "      <td>0.0</td>\n",
              "    </tr>\n",
              "    <tr>\n",
              "      <th>34</th>\n",
              "      <td>Comics;Creativity</td>\n",
              "      <td>0.0</td>\n",
              "    </tr>\n",
              "    <tr>\n",
              "      <th>12</th>\n",
              "      <td>Art &amp; Design;Pretend Play</td>\n",
              "      <td>0.0</td>\n",
              "    </tr>\n",
              "    <tr>\n",
              "      <th>76</th>\n",
              "      <td>Parenting;Brain Games</td>\n",
              "      <td>0.0</td>\n",
              "    </tr>\n",
              "    <tr>\n",
              "      <th>85</th>\n",
              "      <td>Puzzle;Creativity</td>\n",
              "      <td>0.0</td>\n",
              "    </tr>\n",
              "  </tbody>\n",
              "</table>\n",
              "</div>"
            ],
            "text/plain": [
              "                         Genres  Installs\n",
              "93       Role Playing;Education       0.0\n",
              "17            Board;Brain Games       0.0\n",
              "89          Racing;Pretend Play       0.0\n",
              "72  Music & Audio;Music & Video       0.0\n",
              "11      Art & Design;Creativity       0.0\n",
              "86             Puzzle;Education       0.0\n",
              "34            Comics;Creativity       0.0\n",
              "12    Art & Design;Pretend Play       0.0\n",
              "76        Parenting;Brain Games       0.0\n",
              "85            Puzzle;Creativity       0.0"
            ]
          },
          "metadata": {
            "tags": []
          },
          "execution_count": 78
        }
      ]
    },
    {
      "cell_type": "markdown",
      "metadata": {
        "id": "589JMOpo_Qp5"
      },
      "source": [
        "###While plotting the barplot I found that lot many apps have very low installation tending to 0(due to scaling) , hence I am only taking the top 10 apps with high number of installations in my barplot."
      ]
    },
    {
      "cell_type": "code",
      "metadata": {
        "colab": {
          "base_uri": "https://localhost:8080/",
          "height": 505
        },
        "id": "em9bk7vO8a2T",
        "outputId": "29d72f1e-6ee2-42d7-f963-f7e6ab78fe0b"
      },
      "source": [
        "plt.figure(figsize=(10,5))\r\n",
        "plt.xticks(rotation=65)\r\n",
        "plt.title('Top 10 Genres ranked w.r.t Installations')\r\n",
        "sns.barplot(genres_install_count['Genres'].head(10),genres_install_count['Installs'].head(10))\r\n",
        "plt.show()"
      ],
      "execution_count": 79,
      "outputs": [
        {
          "output_type": "stream",
          "text": [
            "/usr/local/lib/python3.7/dist-packages/seaborn/_decorators.py:43: FutureWarning: Pass the following variables as keyword args: x, y. From version 0.12, the only valid positional argument will be `data`, and passing other arguments without an explicit keyword will result in an error or misinterpretation.\n",
            "  FutureWarning\n"
          ],
          "name": "stderr"
        },
        {
          "output_type": "display_data",
          "data": {
            "image/png": "[encoded data removed]",
            "text/plain": [
              "<Figure size 720x360 with 1 Axes>"
            ]
          },
          "metadata": {
            "tags": [],
            "needs_background": "light"
          }
        }
      ]
    },
    {
      "cell_type": "markdown",
      "metadata": {
        "id": "qLyFKVz3Aai9"
      },
      "source": [
        "#Insights on Category columns and there number of installation.\r\n",
        "\r\n",
        "\r\n",
        "1.   In the **Genres Vs Count plot we find that in the Genres, or category column** **'Family'** has the top position followed by **'Game'** in terms of there number of counts. \r\n",
        "2.   In the **Genres Vs No. of Installations** we find that\r\n",
        "in the **Genres, or category column** **'Communication'** has the top position followed by **'Tools'** in terms of there number of Installations. \r\n",
        "\r\n"
      ]
    },
    {
      "cell_type": "markdown",
      "metadata": {
        "id": "mevvNvKTIQsc"
      },
      "source": [
        "# ANSWERED Q.Which category apps are currently in demand on the appstore?"
      ]
    },
    {
      "cell_type": "markdown",
      "metadata": {
        "id": "LH72uPFsTT7l"
      },
      "source": [
        "###Communication and Tools category apps"
      ]
    },
    {
      "cell_type": "markdown",
      "metadata": {
        "id": "hPmxFOovDckr"
      },
      "source": [
        "##My thoughts:\r\n",
        "I personally feel that the reason why the no. of **family** and **game category apps** present in app store are inversely proportional to there number of installations,Whereas **Communication** and **Tools** apps have installations irrespective of there numbers  are :\r\n",
        "\r\n",
        "1.   **Age category**:They are mainly being developed for  small children **less than 10 years** in age for entertainment purpose.\r\n",
        "\r\n",
        "2.   Application **engagement** is **restricted** by there **parents** as they cannot keep personal smartphones from a very little age.So a lot of parents restrict there children from downloading these app.\r\n",
        "\r\n",
        "3.  Thus though these apps are available  in large number on playstores there installations are very less.\r\n",
        "\r\n",
        "4.  Whereas **Communication** and **Tools** apps are used by all people to be particular by all age groups above 12 years of age have one or more Accounts on these apps for personal , business or educational purposes.\r\n",
        "5. Reasons for there being in less in number are:\r\n",
        "        \r\n",
        "\r\n",
        "       *   **High Maintenace cost**, A big company like Facebook,Zoom,Whatsapp etc has to ensure a lot of credential security to there user.\r\n",
        "       *   Lot of features are provided in a single app\r\n",
        "    *   Proper advertisement of app is required for its sucess\r\n",
        "      *   Regular updates\r\n",
        "      *   And a very huge capital is required for its day to day functioning in backend.\r\n",
        "\r\n",
        "      *   Tool category apps like CamScanner are used for both educational and business purposes.\r\n",
        "      Hence due to these reasons they are limited in numbers.\r\n",
        "\r\n"
      ]
    },
    {
      "cell_type": "markdown",
      "metadata": {
        "id": "wYbxFlBGWtBh"
      },
      "source": [
        "####Extra exploration"
      ]
    },
    {
      "cell_type": "markdown",
      "metadata": {
        "id": "uJCqV3t0Ws74"
      },
      "source": [
        "####Top 5 apps in Communication genres with large no. of installations are:\r\n",
        "1 here means 10E6"
      ]
    },
    {
      "cell_type": "code",
      "metadata": {
        "colab": {
          "base_uri": "https://localhost:8080/",
          "height": 206
        },
        "id": "zh2_Ee9GUNu7",
        "outputId": "67d91436-4ebd-4460-9640-d7906b79ddd9"
      },
      "source": [
        "play_df.loc[play_df['Genres']=='Communication'][['App','Installs']].reset_index().sort_values(by='Installs',ascending=False).head(5)"
      ],
      "execution_count": 80,
      "outputs": [
        {
          "output_type": "execute_result",
          "data": {
            "text/html": [
              "<div>\n",
              "<style scoped>\n",
              "    .dataframe tbody tr th:only-of-type {\n",
              "        vertical-align: middle;\n",
              "    }\n",
              "\n",
              "    .dataframe tbody tr th {\n",
              "        vertical-align: top;\n",
              "    }\n",
              "\n",
              "    .dataframe thead th {\n",
              "        text-align: right;\n",
              "    }\n",
              "</style>\n",
              "<table border=\"1\" class=\"dataframe\">\n",
              "  <thead>\n",
              "    <tr style=\"text-align: right;\">\n",
              "      <th></th>\n",
              "      <th>index</th>\n",
              "      <th>App</th>\n",
              "      <th>Installs</th>\n",
              "    </tr>\n",
              "  </thead>\n",
              "  <tbody>\n",
              "    <tr>\n",
              "      <th>314</th>\n",
              "      <td>336</td>\n",
              "      <td>WhatsApp Messenger</td>\n",
              "      <td>1.0</td>\n",
              "    </tr>\n",
              "    <tr>\n",
              "      <th>302</th>\n",
              "      <td>451</td>\n",
              "      <td>Gmail</td>\n",
              "      <td>1.0</td>\n",
              "    </tr>\n",
              "    <tr>\n",
              "      <th>313</th>\n",
              "      <td>382</td>\n",
              "      <td>Messenger – Text and Video Chat for Free</td>\n",
              "      <td>1.0</td>\n",
              "    </tr>\n",
              "    <tr>\n",
              "      <th>299</th>\n",
              "      <td>464</td>\n",
              "      <td>Hangouts</td>\n",
              "      <td>1.0</td>\n",
              "    </tr>\n",
              "    <tr>\n",
              "      <th>308</th>\n",
              "      <td>391</td>\n",
              "      <td>Skype - free IM &amp; video calls</td>\n",
              "      <td>1.0</td>\n",
              "    </tr>\n",
              "  </tbody>\n",
              "</table>\n",
              "</div>"
            ],
            "text/plain": [
              "     index                                       App  Installs\n",
              "314    336                        WhatsApp Messenger       1.0\n",
              "302    451                                     Gmail       1.0\n",
              "313    382  Messenger – Text and Video Chat for Free       1.0\n",
              "299    464                                  Hangouts       1.0\n",
              "308    391             Skype - free IM & video calls       1.0"
            ]
          },
          "metadata": {
            "tags": []
          },
          "execution_count": 80
        }
      ]
    },
    {
      "cell_type": "markdown",
      "metadata": {
        "id": "gVz2XxWDY4HU"
      },
      "source": [
        "###Top 5 apps in Tools genres with large no. of installations are:"
      ]
    },
    {
      "cell_type": "code",
      "metadata": {
        "colab": {
          "base_uri": "https://localhost:8080/",
          "height": 206
        },
        "id": "TikcOZirXfd8",
        "outputId": "aa302351-df97-4c5a-dba0-2f5ceb8d0834"
      },
      "source": [
        "play_df.loc[play_df['Genres']=='Tools'][['App','Installs']].reset_index().sort_values(by='Installs',ascending=False).head(5)"
      ],
      "execution_count": 81,
      "outputs": [
        {
          "output_type": "execute_result",
          "data": {
            "text/html": [
              "<div>\n",
              "<style scoped>\n",
              "    .dataframe tbody tr th:only-of-type {\n",
              "        vertical-align: middle;\n",
              "    }\n",
              "\n",
              "    .dataframe tbody tr th {\n",
              "        vertical-align: top;\n",
              "    }\n",
              "\n",
              "    .dataframe thead th {\n",
              "        text-align: right;\n",
              "    }\n",
              "</style>\n",
              "<table border=\"1\" class=\"dataframe\">\n",
              "  <thead>\n",
              "    <tr style=\"text-align: right;\">\n",
              "      <th></th>\n",
              "      <th>index</th>\n",
              "      <th>App</th>\n",
              "      <th>Installs</th>\n",
              "    </tr>\n",
              "  </thead>\n",
              "  <tbody>\n",
              "    <tr>\n",
              "      <th>821</th>\n",
              "      <td>3234</td>\n",
              "      <td>Google</td>\n",
              "      <td>1.0</td>\n",
              "    </tr>\n",
              "    <tr>\n",
              "      <th>827</th>\n",
              "      <td>4005</td>\n",
              "      <td>Clean Master- Space Cleaner &amp; Antivirus</td>\n",
              "      <td>0.5</td>\n",
              "    </tr>\n",
              "    <tr>\n",
              "      <th>818</th>\n",
              "      <td>3235</td>\n",
              "      <td>Google Translate</td>\n",
              "      <td>0.5</td>\n",
              "    </tr>\n",
              "    <tr>\n",
              "      <th>808</th>\n",
              "      <td>3265</td>\n",
              "      <td>Gboard - the Google Keyboard</td>\n",
              "      <td>0.5</td>\n",
              "    </tr>\n",
              "    <tr>\n",
              "      <th>820</th>\n",
              "      <td>3255</td>\n",
              "      <td>SHAREit - Transfer &amp; Share</td>\n",
              "      <td>0.5</td>\n",
              "    </tr>\n",
              "  </tbody>\n",
              "</table>\n",
              "</div>"
            ],
            "text/plain": [
              "     index                                      App  Installs\n",
              "821   3234                                   Google       1.0\n",
              "827   4005  Clean Master- Space Cleaner & Antivirus       0.5\n",
              "818   3235                         Google Translate       0.5\n",
              "808   3265             Gboard - the Google Keyboard       0.5\n",
              "820   3255               SHAREit - Transfer & Share       0.5"
            ]
          },
          "metadata": {
            "tags": []
          },
          "execution_count": 81
        }
      ]
    },
    {
      "cell_type": "markdown",
      "metadata": {
        "id": "QU0AJP8XZo_p"
      },
      "source": [
        "##Model Question 2 :\r\n",
        "#Q.For any given app, the number of installation is important or its ratings or the genre it belongs?"
      ]
    },
    {
      "cell_type": "markdown",
      "metadata": {
        "id": "LPEgcGldaU7a"
      },
      "source": [
        "So a basic assumption one can make here is that whichever app has high ratings in playstore are the most succesful ones."
      ]
    },
    {
      "cell_type": "markdown",
      "metadata": {
        "id": "ZXpqOSc0kTLI"
      },
      "source": [
        "##But first we will try to find overall ratings of the apps present in the playstore in general."
      ]
    },
    {
      "cell_type": "code",
      "metadata": {
        "colab": {
          "base_uri": "https://localhost:8080/",
          "height": 206
        },
        "id": "TsC_KohjYx2D",
        "outputId": "97088f77-dddd-423b-efab-9765e5750f23"
      },
      "source": [
        "play_df.groupby('Genres')['Rating'].mean().reset_index().head()"
      ],
      "execution_count": 82,
      "outputs": [
        {
          "output_type": "execute_result",
          "data": {
            "text/html": [
              "<div>\n",
              "<style scoped>\n",
              "    .dataframe tbody tr th:only-of-type {\n",
              "        vertical-align: middle;\n",
              "    }\n",
              "\n",
              "    .dataframe tbody tr th {\n",
              "        vertical-align: top;\n",
              "    }\n",
              "\n",
              "    .dataframe thead th {\n",
              "        text-align: right;\n",
              "    }\n",
              "</style>\n",
              "<table border=\"1\" class=\"dataframe\">\n",
              "  <thead>\n",
              "    <tr style=\"text-align: right;\">\n",
              "      <th></th>\n",
              "      <th>Genres</th>\n",
              "      <th>Rating</th>\n",
              "    </tr>\n",
              "  </thead>\n",
              "  <tbody>\n",
              "    <tr>\n",
              "      <th>0</th>\n",
              "      <td>Action</td>\n",
              "      <td>4.243183</td>\n",
              "    </tr>\n",
              "    <tr>\n",
              "      <th>1</th>\n",
              "      <td>Action;Action &amp; Adventure</td>\n",
              "      <td>4.316667</td>\n",
              "    </tr>\n",
              "    <tr>\n",
              "      <th>2</th>\n",
              "      <td>Adventure</td>\n",
              "      <td>4.178715</td>\n",
              "    </tr>\n",
              "    <tr>\n",
              "      <th>3</th>\n",
              "      <td>Adventure;Action &amp; Adventure</td>\n",
              "      <td>4.300000</td>\n",
              "    </tr>\n",
              "    <tr>\n",
              "      <th>4</th>\n",
              "      <td>Adventure;Brain Games</td>\n",
              "      <td>4.600000</td>\n",
              "    </tr>\n",
              "  </tbody>\n",
              "</table>\n",
              "</div>"
            ],
            "text/plain": [
              "                         Genres    Rating\n",
              "0                        Action  4.243183\n",
              "1     Action;Action & Adventure  4.316667\n",
              "2                     Adventure  4.178715\n",
              "3  Adventure;Action & Adventure  4.300000\n",
              "4         Adventure;Brain Games  4.600000"
            ]
          },
          "metadata": {
            "tags": []
          },
          "execution_count": 82
        }
      ]
    },
    {
      "cell_type": "code",
      "metadata": {
        "id": "eoyXFiKNcHmm"
      },
      "source": [
        "genres_and_ratings= play_df.groupby('Genres')['Rating'].mean().reset_index()"
      ],
      "execution_count": 83,
      "outputs": []
    },
    {
      "cell_type": "code",
      "metadata": {
        "colab": {
          "base_uri": "https://localhost:8080/",
          "height": 350
        },
        "id": "9R-EO7H8etT1",
        "outputId": "9d279c70-3200-4915-c094-7ebbda51076b"
      },
      "source": [
        "#using countplot from seaborn\r\n",
        "fig,ax1=plt.subplots(figsize=(10,5))\r\n",
        "plt.title('Average Ratings')\r\n",
        "sns.countplot(x='Rating',data=play_df,ax=ax1,palette='viridis',order=play_df.value_counts('Rating',ascending=False).head(20).index)\r\n",
        "plt.show()"
      ],
      "execution_count": 84,
      "outputs": [
        {
          "output_type": "display_data",
          "data": {
            "image/png": "[encoded data removed]",
            "text/plain": [
              "<Figure size 720x360 with 1 Axes>"
            ]
          },
          "metadata": {
            "tags": [],
            "needs_background": "light"
          }
        }
      ]
    },
    {
      "cell_type": "code",
      "metadata": {
        "colab": {
          "base_uri": "https://localhost:8080/",
          "height": 338
        },
        "id": "EFG2HuTCdfyU",
        "outputId": "9c8b14a2-afce-4c69-c856-68b3cb79f1b0"
      },
      "source": [
        "# plotting the density plot for 'Ratings' of all apps using plot.density()\r\n",
        "plt.figure(figsize=(10,5)) \r\n",
        "play_df.Rating.plot.density(color='red') \r\n",
        "plt.title('Distribution of Rating',size = 15)\r\n",
        "plt.show()\r\n"
      ],
      "execution_count": 85,
      "outputs": [
        {
          "output_type": "display_data",
          "data": {
            "image/png": "[encoded data removed]",
            "text/plain": [
              "<Figure size 720x360 with 1 Axes>"
            ]
          },
          "metadata": {
            "tags": [],
            "needs_background": "light"
          }
        }
      ]
    },
    {
      "cell_type": "markdown",
      "metadata": {
        "id": "o5jItZGPgvNV"
      },
      "source": [
        "###After looking above plots we can see that most of the apps have 4.1+ rating"
      ]
    },
    {
      "cell_type": "markdown",
      "metadata": {
        "id": "Xp1WQt8ljX-o"
      },
      "source": [
        "####Now Trying to find relationship between genres of apps and there ratings using groupby function and then plotting it.\r\n"
      ]
    },
    {
      "cell_type": "markdown",
      "metadata": {
        "id": "q11o56HSbO49"
      },
      "source": [
        "##Finding Average Ratings of apps wrt to there Genres"
      ]
    },
    {
      "cell_type": "code",
      "metadata": {
        "id": "OlFWY3ooeLXr"
      },
      "source": [
        "genres_and_ratings.sort_values('Rating', ascending =False, inplace=True)"
      ],
      "execution_count": 86,
      "outputs": []
    },
    {
      "cell_type": "code",
      "metadata": {
        "colab": {
          "base_uri": "https://localhost:8080/",
          "height": 802
        },
        "id": "78BHHczKkr1-",
        "outputId": "78de8f32-d4a4-4db4-effb-efdc2c0bc908"
      },
      "source": [
        "genres_and_ratings.head(24)"
      ],
      "execution_count": 87,
      "outputs": [
        {
          "output_type": "execute_result",
          "data": {
            "text/html": [
              "<div>\n",
              "<style scoped>\n",
              "    .dataframe tbody tr th:only-of-type {\n",
              "        vertical-align: middle;\n",
              "    }\n",
              "\n",
              "    .dataframe tbody tr th {\n",
              "        vertical-align: top;\n",
              "    }\n",
              "\n",
              "    .dataframe thead th {\n",
              "        text-align: right;\n",
              "    }\n",
              "</style>\n",
              "<table border=\"1\" class=\"dataframe\">\n",
              "  <thead>\n",
              "    <tr style=\"text-align: right;\">\n",
              "      <th></th>\n",
              "      <th>Genres</th>\n",
              "      <th>Rating</th>\n",
              "    </tr>\n",
              "  </thead>\n",
              "  <tbody>\n",
              "    <tr>\n",
              "      <th>18</th>\n",
              "      <td>Board;Pretend Play</td>\n",
              "      <td>4.800000</td>\n",
              "    </tr>\n",
              "    <tr>\n",
              "      <th>34</th>\n",
              "      <td>Comics;Creativity</td>\n",
              "      <td>4.800000</td>\n",
              "    </tr>\n",
              "    <tr>\n",
              "      <th>63</th>\n",
              "      <td>Health &amp; Fitness;Education</td>\n",
              "      <td>4.700000</td>\n",
              "    </tr>\n",
              "    <tr>\n",
              "      <th>4</th>\n",
              "      <td>Adventure;Brain Games</td>\n",
              "      <td>4.600000</td>\n",
              "    </tr>\n",
              "    <tr>\n",
              "      <th>86</th>\n",
              "      <td>Puzzle;Education</td>\n",
              "      <td>4.600000</td>\n",
              "    </tr>\n",
              "    <tr>\n",
              "      <th>104</th>\n",
              "      <td>Strategy;Action &amp; Adventure</td>\n",
              "      <td>4.600000</td>\n",
              "    </tr>\n",
              "    <tr>\n",
              "      <th>73</th>\n",
              "      <td>Music;Music &amp; Video</td>\n",
              "      <td>4.533333</td>\n",
              "    </tr>\n",
              "    <tr>\n",
              "      <th>54</th>\n",
              "      <td>Entertainment;Creativity</td>\n",
              "      <td>4.533333</td>\n",
              "    </tr>\n",
              "    <tr>\n",
              "      <th>108</th>\n",
              "      <td>Tools;Education</td>\n",
              "      <td>4.500000</td>\n",
              "    </tr>\n",
              "    <tr>\n",
              "      <th>106</th>\n",
              "      <td>Strategy;Education</td>\n",
              "      <td>4.500000</td>\n",
              "    </tr>\n",
              "    <tr>\n",
              "      <th>8</th>\n",
              "      <td>Arcade;Pretend Play</td>\n",
              "      <td>4.500000</td>\n",
              "    </tr>\n",
              "    <tr>\n",
              "      <th>89</th>\n",
              "      <td>Racing;Pretend Play</td>\n",
              "      <td>4.500000</td>\n",
              "    </tr>\n",
              "    <tr>\n",
              "      <th>28</th>\n",
              "      <td>Casual;Brain Games</td>\n",
              "      <td>4.475000</td>\n",
              "    </tr>\n",
              "    <tr>\n",
              "      <th>91</th>\n",
              "      <td>Role Playing;Action &amp; Adventure</td>\n",
              "      <td>4.425000</td>\n",
              "    </tr>\n",
              "    <tr>\n",
              "      <th>85</th>\n",
              "      <td>Puzzle;Creativity</td>\n",
              "      <td>4.400000</td>\n",
              "    </tr>\n",
              "    <tr>\n",
              "      <th>55</th>\n",
              "      <td>Entertainment;Education</td>\n",
              "      <td>4.400000</td>\n",
              "    </tr>\n",
              "    <tr>\n",
              "      <th>105</th>\n",
              "      <td>Strategy;Creativity</td>\n",
              "      <td>4.400000</td>\n",
              "    </tr>\n",
              "    <tr>\n",
              "      <th>84</th>\n",
              "      <td>Puzzle;Brain Games</td>\n",
              "      <td>4.370588</td>\n",
              "    </tr>\n",
              "    <tr>\n",
              "      <th>40</th>\n",
              "      <td>Education;Brain Games</td>\n",
              "      <td>4.368271</td>\n",
              "    </tr>\n",
              "    <tr>\n",
              "      <th>99</th>\n",
              "      <td>Simulation;Pretend Play</td>\n",
              "      <td>4.366667</td>\n",
              "    </tr>\n",
              "    <tr>\n",
              "      <th>98</th>\n",
              "      <td>Simulation;Education</td>\n",
              "      <td>4.366667</td>\n",
              "    </tr>\n",
              "    <tr>\n",
              "      <th>44</th>\n",
              "      <td>Education;Pretend Play</td>\n",
              "      <td>4.358824</td>\n",
              "    </tr>\n",
              "    <tr>\n",
              "      <th>58</th>\n",
              "      <td>Events</td>\n",
              "      <td>4.357634</td>\n",
              "    </tr>\n",
              "    <tr>\n",
              "      <th>9</th>\n",
              "      <td>Art &amp; Design</td>\n",
              "      <td>4.351687</td>\n",
              "    </tr>\n",
              "  </tbody>\n",
              "</table>\n",
              "</div>"
            ],
            "text/plain": [
              "                              Genres    Rating\n",
              "18                Board;Pretend Play  4.800000\n",
              "34                 Comics;Creativity  4.800000\n",
              "63        Health & Fitness;Education  4.700000\n",
              "4              Adventure;Brain Games  4.600000\n",
              "86                  Puzzle;Education  4.600000\n",
              "104      Strategy;Action & Adventure  4.600000\n",
              "73               Music;Music & Video  4.533333\n",
              "54          Entertainment;Creativity  4.533333\n",
              "108                  Tools;Education  4.500000\n",
              "106               Strategy;Education  4.500000\n",
              "8                Arcade;Pretend Play  4.500000\n",
              "89               Racing;Pretend Play  4.500000\n",
              "28                Casual;Brain Games  4.475000\n",
              "91   Role Playing;Action & Adventure  4.425000\n",
              "85                 Puzzle;Creativity  4.400000\n",
              "55           Entertainment;Education  4.400000\n",
              "105              Strategy;Creativity  4.400000\n",
              "84                Puzzle;Brain Games  4.370588\n",
              "40             Education;Brain Games  4.368271\n",
              "99           Simulation;Pretend Play  4.366667\n",
              "98              Simulation;Education  4.366667\n",
              "44            Education;Pretend Play  4.358824\n",
              "58                            Events  4.357634\n",
              "9                       Art & Design  4.351687"
            ]
          },
          "metadata": {
            "tags": []
          },
          "execution_count": 87
        }
      ]
    },
    {
      "cell_type": "code",
      "metadata": {
        "colab": {
          "base_uri": "https://localhost:8080/",
          "height": 530
        },
        "id": "BFdOpHmPkwaD",
        "outputId": "caa81c65-a70c-40ed-e3b8-a7f12c96729b"
      },
      "source": [
        "plt.figure(figsize=(10,5))\r\n",
        "plt.xticks(rotation=65)\r\n",
        "plt.title('Top 10 Genres ranked w.r.t Ratings')\r\n",
        "sns.barplot(genres_and_ratings['Genres'].head(10),genres_and_ratings['Rating'].head(10))\r\n",
        "plt.show()"
      ],
      "execution_count": 88,
      "outputs": [
        {
          "output_type": "stream",
          "text": [
            "/usr/local/lib/python3.7/dist-packages/seaborn/_decorators.py:43: FutureWarning: Pass the following variables as keyword args: x, y. From version 0.12, the only valid positional argument will be `data`, and passing other arguments without an explicit keyword will result in an error or misinterpretation.\n",
            "  FutureWarning\n"
          ],
          "name": "stderr"
        },
        {
          "output_type": "display_data",
          "data": {
            "image/png": "[encoded data removed]",
            "text/plain": [
              "<Figure size 720x360 with 1 Axes>"
            ]
          },
          "metadata": {
            "tags": [],
            "needs_background": "light"
          }
        }
      ]
    },
    {
      "cell_type": "code",
      "metadata": {
        "colab": {
          "base_uri": "https://localhost:8080/",
          "height": 572
        },
        "id": "p04O0fxflQ9x",
        "outputId": "32b66fc1-4c34-400c-e9b4-e992b2d0c25e"
      },
      "source": [
        "plt.figure(figsize=(10,5))\r\n",
        "plt.xticks(rotation=65)\r\n",
        "plt.title('Last 10 Genres ranked w.r.t Ratings')\r\n",
        "sns.barplot(genres_and_ratings['Genres'].tail(10),genres_and_ratings['Rating'].tail(10))\r\n",
        "plt.show()"
      ],
      "execution_count": 89,
      "outputs": [
        {
          "output_type": "stream",
          "text": [
            "/usr/local/lib/python3.7/dist-packages/seaborn/_decorators.py:43: FutureWarning: Pass the following variables as keyword args: x, y. From version 0.12, the only valid positional argument will be `data`, and passing other arguments without an explicit keyword will result in an error or misinterpretation.\n",
            "  FutureWarning\n"
          ],
          "name": "stderr"
        },
        {
          "output_type": "display_data",
          "data": {
            "image/png": "[encoded data removed]",
            "text/plain": [
              "<Figure size 720x360 with 1 Axes>"
            ]
          },
          "metadata": {
            "tags": [],
            "needs_background": "light"
          }
        }
      ]
    },
    {
      "cell_type": "markdown",
      "metadata": {
        "id": "HabxgWIsltDJ"
      },
      "source": [
        "#Insights\r\n",
        "\r\n",
        "\r\n",
        "1.   From the Above to barplots we come to know that Ratings in general doesnot provide any helpful insights\r\n",
        "because more or less a large number of apps on average in a particular genres have 4.0+ ratings on playstores are highly rated.\r\n",
        "\r\n"
      ]
    },
    {
      "cell_type": "markdown",
      "metadata": {
        "id": "VyHi1Dj4nvSP"
      },
      "source": [
        "##My thoughts\r\n",
        "\r\n",
        "\r\n",
        "1.   This behaviour could be happened because of bot reviews.I have a hunch that most of the **app reviews are given by bots or are paid**.\r\n",
        "2.   To increase the engagements of apps they are falsely rated?\r\n",
        "3.   Or Is it that ratings have any relationship with reviews\r\n",
        "\r\n"
      ]
    },
    {
      "cell_type": "markdown",
      "metadata": {
        "id": "GB6ZC7C4pDQU"
      },
      "source": [
        "###What makes Google Store Apps get higher rating?\r\n",
        "##### Is it that apps with large no. of reviews are highly rated?\r\n",
        "##### Then what kind of reviews Good, Bad etc which review sentiments affects the app rating in total?\r\n"
      ]
    },
    {
      "cell_type": "markdown",
      "metadata": {
        "id": "tGIwZGofpWTy"
      },
      "source": [
        "##Correlation between Rating and Review\r\n",
        " I wanted to know is if there is any correlation between number of the reviews and the rating scores. For example, when the apps get high number of the reviews that might be because they really like the apps or they really hate the apps."
      ]
    },
    {
      "cell_type": "code",
      "metadata": {
        "colab": {
          "base_uri": "https://localhost:8080/"
        },
        "id": "-XzuHGPS3719",
        "outputId": "a07c16ae-af70-4a70-d163-d346e7ec08bc"
      },
      "source": [
        "play_df['Reviews'].max(),play_df['Reviews'].min(),play_df['Reviews'].mean()"
      ],
      "execution_count": 90,
      "outputs": [
        {
          "output_type": "execute_result",
          "data": {
            "text/plain": [
              "(78158306, 0, 216804.11036339166)"
            ]
          },
          "metadata": {
            "tags": []
          },
          "execution_count": 90
        }
      ]
    },
    {
      "cell_type": "code",
      "metadata": {
        "id": "njFMLkZ033--"
      },
      "source": [
        "#scaling the reviews column to decrease the variation between the reviews column data using mean value\r\n",
        "play_df['Reviews'] = play_df['Reviews'].apply(lambda x: round(x/play_df['Reviews'].max(),2))"
      ],
      "execution_count": 91,
      "outputs": []
    },
    {
      "cell_type": "code",
      "metadata": {
        "colab": {
          "base_uri": "https://localhost:8080/"
        },
        "id": "s6B0tfyt52xc",
        "outputId": "6af123d1-feef-4f72-9fe6-99281f021812"
      },
      "source": [
        "#Now looks good\r\n",
        "play_df['Reviews'].sort_values(ascending=False).head()"
      ],
      "execution_count": 92,
      "outputs": [
        {
          "output_type": "execute_result",
          "data": {
            "text/plain": [
              "2544    1.00\n",
              "336     0.88\n",
              "2604    0.85\n",
              "382     0.72\n",
              "1879    0.57\n",
              "Name: Reviews, dtype: float64"
            ]
          },
          "metadata": {
            "tags": []
          },
          "execution_count": 92
        }
      ]
    },
    {
      "cell_type": "markdown",
      "metadata": {
        "id": "X4GqPbmC8Ft5"
      },
      "source": [
        "###Correlation matrix for Reviews and Ratings"
      ]
    },
    {
      "cell_type": "code",
      "metadata": {
        "colab": {
          "base_uri": "https://localhost:8080/",
          "height": 112
        },
        "id": "fPiBByKq7HL0",
        "outputId": "9bec7a77-2c31-4de8-e245-c18ef1f3d502"
      },
      "source": [
        "play_df[['Reviews','Rating']].corr()"
      ],
      "execution_count": 93,
      "outputs": [
        {
          "output_type": "execute_result",
          "data": {
            "text/html": [
              "<div>\n",
              "<style scoped>\n",
              "    .dataframe tbody tr th:only-of-type {\n",
              "        vertical-align: middle;\n",
              "    }\n",
              "\n",
              "    .dataframe tbody tr th {\n",
              "        vertical-align: top;\n",
              "    }\n",
              "\n",
              "    .dataframe thead th {\n",
              "        text-align: right;\n",
              "    }\n",
              "</style>\n",
              "<table border=\"1\" class=\"dataframe\">\n",
              "  <thead>\n",
              "    <tr style=\"text-align: right;\">\n",
              "      <th></th>\n",
              "      <th>Reviews</th>\n",
              "      <th>Rating</th>\n",
              "    </tr>\n",
              "  </thead>\n",
              "  <tbody>\n",
              "    <tr>\n",
              "      <th>Reviews</th>\n",
              "      <td>1.000000</td>\n",
              "      <td>0.052772</td>\n",
              "    </tr>\n",
              "    <tr>\n",
              "      <th>Rating</th>\n",
              "      <td>0.052772</td>\n",
              "      <td>1.000000</td>\n",
              "    </tr>\n",
              "  </tbody>\n",
              "</table>\n",
              "</div>"
            ],
            "text/plain": [
              "          Reviews    Rating\n",
              "Reviews  1.000000  0.052772\n",
              "Rating   0.052772  1.000000"
            ]
          },
          "metadata": {
            "tags": []
          },
          "execution_count": 93
        }
      ]
    },
    {
      "cell_type": "code",
      "metadata": {
        "colab": {
          "base_uri": "https://localhost:8080/",
          "height": 269
        },
        "id": "nJByAj1l7qdU",
        "outputId": "18a114ab-63ed-4851-fd00-f1d9b9f29125"
      },
      "source": [
        "#representing the above correlation matrix using seaborn heatmap\r\n",
        "sns.heatmap(play_df[['Reviews','Rating']].corr(), annot=True)\r\n",
        "plt.show()"
      ],
      "execution_count": 94,
      "outputs": [
        {
          "output_type": "display_data",
          "data": {
            "image/png": "[encoded data removed]",
            "text/plain": [
              "<Figure size 432x288 with 2 Axes>"
            ]
          },
          "metadata": {
            "tags": [],
            "needs_background": "light"
          }
        }
      ]
    },
    {
      "cell_type": "markdown",
      "metadata": {
        "id": "gpj0voMI6LU9"
      },
      "source": [
        "ploting the correlation graph between 'Reviews' and 'Ratings'"
      ]
    },
    {
      "cell_type": "code",
      "metadata": {
        "colab": {
          "base_uri": "https://localhost:8080/",
          "height": 320
        },
        "id": "voCN6BaF1RbL",
        "outputId": "3234011f-8dfc-48eb-d6db-6d089d0d21aa"
      },
      "source": [
        "matplotlib.style.use('ggplot')\r\n",
        "plt.figure(figsize=(10,5))\r\n",
        "plt.scatter(play_df['Reviews'],play_df['Rating'])\r\n",
        "plt.show()"
      ],
      "execution_count": 95,
      "outputs": [
        {
          "output_type": "display_data",
          "data": {
            "image/png": "[encoded data removed]",
            "text/plain": [
              "<Figure size 720x360 with 1 Axes>"
            ]
          },
          "metadata": {
            "tags": []
          }
        }
      ]
    },
    {
      "cell_type": "markdown",
      "metadata": {
        "id": "Ax3zERu66_me"
      },
      "source": [
        "##We can see that there are many apps with large number of reviews around 4.5 rating. But the correlation is 0.053, so there is no strong correlation here."
      ]
    },
    {
      "cell_type": "markdown",
      "metadata": {
        "id": "2rYkRWnm801U"
      },
      "source": [
        "##Correlation between Rating and Installation"
      ]
    },
    {
      "cell_type": "markdown",
      "metadata": {
        "id": "HDMAexTJA19p"
      },
      "source": [
        "Here again I wanted to know is if there is any correlation between number of the Installation and the rating scores. For example, when a app has high or low installation then might it also affects its ratings."
      ]
    },
    {
      "cell_type": "markdown",
      "metadata": {
        "id": "96gcHjri84xD"
      },
      "source": [
        "#####Correlation matrix for Installs and Ratings"
      ]
    },
    {
      "cell_type": "code",
      "metadata": {
        "id": "F-UioWUo1Chx",
        "colab": {
          "base_uri": "https://localhost:8080/",
          "height": 112
        },
        "outputId": "8ae27404-0cad-4711-e09c-01b8a30a2b47"
      },
      "source": [
        "google_playstore_df[['Installs','Reviews']].corr()"
      ],
      "execution_count": 96,
      "outputs": [
        {
          "output_type": "execute_result",
          "data": {
            "text/html": [
              "<div>\n",
              "<style scoped>\n",
              "    .dataframe tbody tr th:only-of-type {\n",
              "        vertical-align: middle;\n",
              "    }\n",
              "\n",
              "    .dataframe tbody tr th {\n",
              "        vertical-align: top;\n",
              "    }\n",
              "\n",
              "    .dataframe thead th {\n",
              "        text-align: right;\n",
              "    }\n",
              "</style>\n",
              "<table border=\"1\" class=\"dataframe\">\n",
              "  <thead>\n",
              "    <tr style=\"text-align: right;\">\n",
              "      <th></th>\n",
              "      <th>Installs</th>\n",
              "      <th>Reviews</th>\n",
              "    </tr>\n",
              "  </thead>\n",
              "  <tbody>\n",
              "    <tr>\n",
              "      <th>Installs</th>\n",
              "      <td>1.000000</td>\n",
              "      <td>0.625058</td>\n",
              "    </tr>\n",
              "    <tr>\n",
              "      <th>Reviews</th>\n",
              "      <td>0.625058</td>\n",
              "      <td>1.000000</td>\n",
              "    </tr>\n",
              "  </tbody>\n",
              "</table>\n",
              "</div>"
            ],
            "text/plain": [
              "          Installs   Reviews\n",
              "Installs  1.000000  0.625058\n",
              "Reviews   0.625058  1.000000"
            ]
          },
          "metadata": {
            "tags": []
          },
          "execution_count": 96
        }
      ]
    },
    {
      "cell_type": "code",
      "metadata": {
        "colab": {
          "base_uri": "https://localhost:8080/",
          "height": 269
        },
        "id": "bXvn5iLXCjYW",
        "outputId": "ed8733f1-8045-4657-e712-d65bcd120786"
      },
      "source": [
        "#representing the above correlation matrix using seaborn heatmap\r\n",
        "sns.heatmap(google_playstore_df[['Installs','Reviews']].corr(), annot=True)\r\n",
        "plt.show()"
      ],
      "execution_count": 97,
      "outputs": [
        {
          "output_type": "display_data",
          "data": {
            "image/png": "[encoded data removed]",
            "text/plain": [
              "<Figure size 432x288 with 2 Axes>"
            ]
          },
          "metadata": {
            "tags": []
          }
        }
      ]
    },
    {
      "cell_type": "markdown",
      "metadata": {
        "id": "W5WcDHQuEeVr"
      },
      "source": [
        "We can see that there is a strong correlation between the no. of installs app and reviews made.**0.63** which is very huge more than half."
      ]
    },
    {
      "cell_type": "markdown",
      "metadata": {
        "id": "EMVN28PyEqTh"
      },
      "source": [
        "###**But again correlation might not be the reason for causation.**\r\n",
        "####But for now we can safely assume that higher the ratings of an app more it is downloaded by the people."
      ]
    },
    {
      "cell_type": "markdown",
      "metadata": {
        "id": "em9g3OT3HouR"
      },
      "source": [
        "#Model Question 3 :\r\n",
        "#Q.In general how many apps belonging to particular category/genres are available for free or paid on the playstore."
      ]
    },
    {
      "cell_type": "code",
      "metadata": {
        "colab": {
          "base_uri": "https://localhost:8080/"
        },
        "id": "QUOqgC1RHL2k",
        "outputId": "121facb4-d015-4ba0-e5dd-b1e7e5c0fba9"
      },
      "source": [
        "#finding the counts of all type of apps present in the dataset\r\n",
        "play_df['Type'].value_counts()"
      ],
      "execution_count": 98,
      "outputs": [
        {
          "output_type": "execute_result",
          "data": {
            "text/plain": [
              "Free    8905\n",
              "Paid     754\n",
              "Name: Type, dtype: int64"
            ]
          },
          "metadata": {
            "tags": []
          },
          "execution_count": 98
        }
      ]
    },
    {
      "cell_type": "code",
      "metadata": {
        "colab": {
          "base_uri": "https://localhost:8080/",
          "height": 299
        },
        "id": "GfxabhUHInlS",
        "outputId": "5f90310d-4044-4452-a15e-4d60d6610a18"
      },
      "source": [
        "#using countplot from seaborn\r\n",
        "plt.xlabel('Type')\r\n",
        "plt.title('No.of Free and Paid apps available on the playstore')\r\n",
        "sns.countplot(x='Type',data=play_df,palette='viridis')\r\n",
        "plt.show()"
      ],
      "execution_count": 99,
      "outputs": [
        {
          "output_type": "display_data",
          "data": {
            "image/png": "[encoded data removed]",
            "text/plain": [
              "<Figure size 432x288 with 1 Axes>"
            ]
          },
          "metadata": {
            "tags": []
          }
        }
      ]
    },
    {
      "cell_type": "markdown",
      "metadata": {
        "id": "mgYWkS_NJhZJ"
      },
      "source": [
        "###There is also a price column available in our dataset lets cross verified the above plot with it."
      ]
    },
    {
      "cell_type": "code",
      "metadata": {
        "colab": {
          "base_uri": "https://localhost:8080/",
          "height": 299
        },
        "id": "HErZ6IW7JJjz",
        "outputId": "ad22a179-7407-455d-8d43-0f21fdd86383"
      },
      "source": [
        "#using countplot from seaborn\r\n",
        "plt.xlabel('Price')\r\n",
        "plt.title('Price of apps available on appstore')\r\n",
        "sns.countplot(x='Price',data=play_df,palette='viridis',order=play_df.value_counts('Price',ascending=False).head(10).index)\r\n",
        "plt.show()"
      ],
      "execution_count": 100,
      "outputs": [
        {
          "output_type": "display_data",
          "data": {
            "image/png": "[encoded data removed]",
            "text/plain": [
              "<Figure size 432x288 with 1 Axes>"
            ]
          },
          "metadata": {
            "tags": []
          }
        }
      ]
    },
    {
      "cell_type": "code",
      "metadata": {
        "colab": {
          "base_uri": "https://localhost:8080/"
        },
        "id": "a6rfzvKyK29P",
        "outputId": "b819c2ca-6c2c-4d5a-bbf8-56c6fa4e931c"
      },
      "source": [
        "play_df['App'].shape[0]"
      ],
      "execution_count": 101,
      "outputs": [
        {
          "output_type": "execute_result",
          "data": {
            "text/plain": [
              "9659"
            ]
          },
          "metadata": {
            "tags": []
          },
          "execution_count": 101
        }
      ]
    },
    {
      "cell_type": "markdown",
      "metadata": {
        "id": "HtGFxXYSK1pA"
      },
      "source": [
        "###Out of 9659 apps available 8905 are free."
      ]
    },
    {
      "cell_type": "markdown",
      "metadata": {
        "id": "idrb2OJtOj_J"
      },
      "source": [
        "##Insights:\r\n",
        "Out of 9659 apps available 8905 are free.\r\n",
        "\r\n",
        "##My thought:\r\n",
        "In general most of the apps which are available on playstore have **in-app payment services** to avail some sort of premium service depending on apps to apps\r\n",
        "e.g: Spotify,YouTube Premium etc.\r\n",
        "\r\n",
        "**Other Reasons might are**\r\n",
        "Some apps are distributed for free through app stores; the developers make money in a few ways: Some sell advertising space within the app. The app developers can earn money from the ads, so they distribute the app for free to reach as many users as possible."
      ]
    },
    {
      "cell_type": "markdown",
      "metadata": {
        "id": "CdgeGNrDQF4X"
      },
      "source": [
        "#Model Question 4 :\r\n",
        "#Q.How does size impact on the number of installs of any application?"
      ]
    },
    {
      "cell_type": "code",
      "metadata": {
        "colab": {
          "base_uri": "https://localhost:8080/",
          "height": 354
        },
        "id": "yrx3ErTUhLuW",
        "outputId": "860f2a89-22b3-4f21-a16c-17d5fb433478"
      },
      "source": [
        "#using countplot from seaborn\r\n",
        "fig,ax1=plt.subplots(figsize=(10,5))\r\n",
        "plt.xlabel('Count')\r\n",
        "plt.ylabel('Size of Apps')\r\n",
        "plt.title('Size of Apps available on Google Playstore')\r\n",
        "sns.countplot(y='Size',data=play_df,ax=ax1,palette='viridis',order=play_df.value_counts('Size',ascending=False).head(10).index)\r\n",
        "plt.show()"
      ],
      "execution_count": 102,
      "outputs": [
        {
          "output_type": "display_data",
          "data": {
            "image/png": "[encoded data removed]",
            "text/plain": [
              "<Figure size 720x360 with 1 Axes>"
            ]
          },
          "metadata": {
            "tags": []
          }
        }
      ]
    },
    {
      "cell_type": "markdown",
      "metadata": {
        "id": "MGrxYSqliHIA"
      },
      "source": [
        "#Insights:\r\n",
        "Size of the application is  based on the device. We can clearly observe that Size column has top value **Varies with device**.Apart from that in general size of most of the apps available in the playstore falls in between the range of 12MB to 26MB"
      ]
    },
    {
      "cell_type": "markdown",
      "metadata": {
        "id": "58o2Fozti5gx"
      },
      "source": [
        "##Let's check is this have any effect on installation rate of the apps?"
      ]
    },
    {
      "cell_type": "markdown",
      "metadata": {
        "id": "aTERhQJEjL6k"
      },
      "source": [
        "Size of the applications present in the datset are in MB and KB. Therefore for ease in data processing, converting entire size column to MB.\r\n"
      ]
    },
    {
      "cell_type": "code",
      "metadata": {
        "id": "IcOSm9H2i4w9"
      },
      "source": [
        "play_df['Size'] = play_df['Size'].apply(lambda x: str(x).replace('Varies with device', 'NaN') if 'Varies with device' in str(x) else x)\r\n",
        "play_df['Size'] = play_df['Size'].apply(lambda x: str(x).replace('M', '') if 'M' in str(x) else x)\r\n",
        "play_df['Size'] = play_df['Size'].apply(lambda x: str(x).replace(',', '') if 'M' in str(x) else x)\r\n",
        "play_df['Size'] = play_df['Size'].apply(lambda x: float(str(x).replace('k', '')) / 1000 if 'k' in str(x) else x)\r\n",
        "play_df['Size'] = play_df['Size'].apply(lambda x: float(x))"
      ],
      "execution_count": 103,
      "outputs": []
    },
    {
      "cell_type": "code",
      "metadata": {
        "colab": {
          "base_uri": "https://localhost:8080/",
          "height": 410
        },
        "id": "6b1UQIucjyMD",
        "outputId": "842247b8-8230-4d61-b304-a9be103bdb44"
      },
      "source": [
        "#using scatterplot to establish is there any relationship between no. of downloads and app size\r\n",
        "plt.figure(figsize=(10,5))\r\n",
        "plt.title('Impact of size on the number of installs')\r\n",
        "plt.ylabel('Installs per 10^7')\r\n",
        "sns.scatterplot(play_df['Size'], play_df['Installs'],hue=play_df['Type'])\r\n",
        "plt.show()"
      ],
      "execution_count": 104,
      "outputs": [
        {
          "output_type": "stream",
          "text": [
            "/usr/local/lib/python3.7/dist-packages/seaborn/_decorators.py:43: FutureWarning: Pass the following variables as keyword args: x, y. From version 0.12, the only valid positional argument will be `data`, and passing other arguments without an explicit keyword will result in an error or misinterpretation.\n",
            "  FutureWarning\n"
          ],
          "name": "stderr"
        },
        {
          "output_type": "display_data",
          "data": {
            "image/png": "[encoded data removed]",
            "text/plain": [
              "<Figure size 720x360 with 1 Axes>"
            ]
          },
          "metadata": {
            "tags": []
          }
        }
      ]
    },
    {
      "cell_type": "markdown",
      "metadata": {
        "id": "M6qT9rWtmMvj"
      },
      "source": [
        "#Answered Q.How does size impact on the number of installs of any application?"
      ]
    },
    {
      "cell_type": "markdown",
      "metadata": {
        "id": "ojbz-qO0l4Ja"
      },
      "source": [
        "##Final Insights:\r\n",
        "1.It is pretty much evident from the above mentioned plot that size may impact the number of installations. Bulky applications are less installed by the user.\r\n",
        "\r\n",
        "2. Also None of the bulky apps are paid ones\r\n"
      ]
    },
    {
      "cell_type": "markdown",
      "metadata": {
        "id": "cAZzc27q-0Ah"
      },
      "source": [
        "##Model Question 5: **From above these insights we now want to know what kind of apps are present in Paid type and what are there genres and ratings and range of prices.**"
      ]
    },
    {
      "cell_type": "code",
      "metadata": {
        "id": "LcDl9AWA-zQT"
      },
      "source": [
        "paid_app_df=play_df.loc[play_df['Type']=='Paid']"
      ],
      "execution_count": 105,
      "outputs": []
    },
    {
      "cell_type": "markdown",
      "metadata": {
        "id": "rROIwQ-KdGb2"
      },
      "source": [
        "####Finding the Highest paid Apps"
      ]
    },
    {
      "cell_type": "code",
      "metadata": {
        "colab": {
          "base_uri": "https://localhost:8080/",
          "height": 206
        },
        "id": "iMTj8tg-dFqO",
        "outputId": "ff5896d0-0c39-4d48-f04c-61ff7c367379"
      },
      "source": [
        "paid_app_df.sort_values('Price',ascending=False)[['App','Price','Category']].head(5)"
      ],
      "execution_count": 132,
      "outputs": [
        {
          "output_type": "execute_result",
          "data": {
            "text/html": [
              "<div>\n",
              "<style scoped>\n",
              "    .dataframe tbody tr th:only-of-type {\n",
              "        vertical-align: middle;\n",
              "    }\n",
              "\n",
              "    .dataframe tbody tr th {\n",
              "        vertical-align: top;\n",
              "    }\n",
              "\n",
              "    .dataframe thead th {\n",
              "        text-align: right;\n",
              "    }\n",
              "</style>\n",
              "<table border=\"1\" class=\"dataframe\">\n",
              "  <thead>\n",
              "    <tr style=\"text-align: right;\">\n",
              "      <th></th>\n",
              "      <th>App</th>\n",
              "      <th>Price</th>\n",
              "      <th>Category</th>\n",
              "    </tr>\n",
              "  </thead>\n",
              "  <tbody>\n",
              "    <tr>\n",
              "      <th>4367</th>\n",
              "      <td>I'm Rich - Trump Edition</td>\n",
              "      <td>400.00</td>\n",
              "      <td>LIFESTYLE</td>\n",
              "    </tr>\n",
              "    <tr>\n",
              "      <th>5373</th>\n",
              "      <td>I AM RICH PRO PLUS</td>\n",
              "      <td>399.99</td>\n",
              "      <td>FINANCE</td>\n",
              "    </tr>\n",
              "    <tr>\n",
              "      <th>4362</th>\n",
              "      <td>💎 I'm rich</td>\n",
              "      <td>399.99</td>\n",
              "      <td>LIFESTYLE</td>\n",
              "    </tr>\n",
              "    <tr>\n",
              "      <th>5369</th>\n",
              "      <td>I am Rich</td>\n",
              "      <td>399.99</td>\n",
              "      <td>FINANCE</td>\n",
              "    </tr>\n",
              "    <tr>\n",
              "      <th>5358</th>\n",
              "      <td>I am Rich!</td>\n",
              "      <td>399.99</td>\n",
              "      <td>FINANCE</td>\n",
              "    </tr>\n",
              "  </tbody>\n",
              "</table>\n",
              "</div>"
            ],
            "text/plain": [
              "                           App   Price   Category\n",
              "4367  I'm Rich - Trump Edition  400.00  LIFESTYLE\n",
              "5373        I AM RICH PRO PLUS  399.99    FINANCE\n",
              "4362                💎 I'm rich  399.99  LIFESTYLE\n",
              "5369                 I am Rich  399.99    FINANCE\n",
              "5358                I am Rich!  399.99    FINANCE"
            ]
          },
          "metadata": {
            "tags": []
          },
          "execution_count": 132
        }
      ]
    },
    {
      "cell_type": "markdown",
      "metadata": {
        "id": "lvK_cADAd79s"
      },
      "source": [
        "Thus the highest paid app available in my appstore belongs to Lifestyle and Finance Category "
      ]
    },
    {
      "cell_type": "code",
      "metadata": {
        "colab": {
          "base_uri": "https://localhost:8080/"
        },
        "id": "d3Vxq3eMX8if",
        "outputId": "5e96d9fa-1171-4933-c0cc-ea3b31f694d9"
      },
      "source": [
        "print(f'There are in total {paid_app_df.shape[0]} paid apps in our dataset.')"
      ],
      "execution_count": 106,
      "outputs": [
        {
          "output_type": "stream",
          "text": [
            "There are in total 754 paid apps in our dataset.\n"
          ],
          "name": "stdout"
        }
      ]
    },
    {
      "cell_type": "code",
      "metadata": {
        "colab": {
          "base_uri": "https://localhost:8080/",
          "height": 206
        },
        "id": "_id9WfHXXZip",
        "outputId": "b3b431d5-dcd1-49dd-d066-d4dbd3b4c8b7"
      },
      "source": [
        "#using value_counts to find genres these apps belong\r\n",
        "paid_app_df['Genres'].value_counts().reset_index().head().rename(columns={'index':'Genres','Genres':'No.of Paid Apps'})"
      ],
      "execution_count": 107,
      "outputs": [
        {
          "output_type": "execute_result",
          "data": {
            "text/html": [
              "<div>\n",
              "<style scoped>\n",
              "    .dataframe tbody tr th:only-of-type {\n",
              "        vertical-align: middle;\n",
              "    }\n",
              "\n",
              "    .dataframe tbody tr th {\n",
              "        vertical-align: top;\n",
              "    }\n",
              "\n",
              "    .dataframe thead th {\n",
              "        text-align: right;\n",
              "    }\n",
              "</style>\n",
              "<table border=\"1\" class=\"dataframe\">\n",
              "  <thead>\n",
              "    <tr style=\"text-align: right;\">\n",
              "      <th></th>\n",
              "      <th>Genres</th>\n",
              "      <th>No.of Paid Apps</th>\n",
              "    </tr>\n",
              "  </thead>\n",
              "  <tbody>\n",
              "    <tr>\n",
              "      <th>0</th>\n",
              "      <td>Medical</td>\n",
              "      <td>82</td>\n",
              "    </tr>\n",
              "    <tr>\n",
              "      <th>1</th>\n",
              "      <td>Personalization</td>\n",
              "      <td>81</td>\n",
              "    </tr>\n",
              "    <tr>\n",
              "      <th>2</th>\n",
              "      <td>Tools</td>\n",
              "      <td>78</td>\n",
              "    </tr>\n",
              "    <tr>\n",
              "      <th>3</th>\n",
              "      <td>Education</td>\n",
              "      <td>30</td>\n",
              "    </tr>\n",
              "    <tr>\n",
              "      <th>4</th>\n",
              "      <td>Productivity</td>\n",
              "      <td>28</td>\n",
              "    </tr>\n",
              "  </tbody>\n",
              "</table>\n",
              "</div>"
            ],
            "text/plain": [
              "            Genres  No.of Paid Apps\n",
              "0          Medical               82\n",
              "1  Personalization               81\n",
              "2            Tools               78\n",
              "3        Education               30\n",
              "4     Productivity               28"
            ]
          },
          "metadata": {
            "tags": []
          },
          "execution_count": 107
        }
      ]
    },
    {
      "cell_type": "code",
      "metadata": {
        "colab": {
          "base_uri": "https://localhost:8080/",
          "height": 762
        },
        "id": "KioNW5VgYoyy",
        "outputId": "90835f8b-63ec-4187-830c-30e57671b763"
      },
      "source": [
        "#using countplot from seaborn\r\n",
        "fig,ax1=plt.subplots(figsize=(10,10))\r\n",
        "plt.xlabel('Genres')\r\n",
        "plt.xticks(rotation=65)\r\n",
        "plt.title('Top 10 Genres of Paid Apps')\r\n",
        "sns.countplot(x='Category',data=paid_app_df,ax=ax1,palette='viridis',order=paid_app_df.value_counts('Category',ascending=False).head(10).index)\r\n",
        "plt.show()"
      ],
      "execution_count": 122,
      "outputs": [
        {
          "output_type": "display_data",
          "data": {
            "image/png": "[encoded data removed]",
            "text/plain": [
              "<Figure size 720x720 with 1 Axes>"
            ]
          },
          "metadata": {
            "tags": []
          }
        }
      ]
    },
    {
      "cell_type": "markdown",
      "metadata": {
        "id": "FkLwuzcGZyku"
      },
      "source": [
        "Here we found out that again most of the paid apps belong to Family Genres followed bny Games but there are three new genre categories in top 5: they are **Medical and Personalisation** category apps.\r\n"
      ]
    },
    {
      "cell_type": "markdown",
      "metadata": {
        "id": "qOm1utdEaAgU"
      },
      "source": [
        "####Finding the highly rated paid apps"
      ]
    },
    {
      "cell_type": "code",
      "metadata": {
        "colab": {
          "base_uri": "https://localhost:8080/",
          "height": 206
        },
        "id": "kZENI41agd-L",
        "outputId": "01b8a896-941e-4869-c719-e9b292d88d50"
      },
      "source": [
        "paid_app_df[(paid_app_df['Genres']=='Medical')].sort_values('Price',ascending=False)[['Category','Rating','Price']].head()"
      ],
      "execution_count": 157,
      "outputs": [
        {
          "output_type": "execute_result",
          "data": {
            "text/html": [
              "<div>\n",
              "<style scoped>\n",
              "    .dataframe tbody tr th:only-of-type {\n",
              "        vertical-align: middle;\n",
              "    }\n",
              "\n",
              "    .dataframe tbody tr th {\n",
              "        vertical-align: top;\n",
              "    }\n",
              "\n",
              "    .dataframe thead th {\n",
              "        text-align: right;\n",
              "    }\n",
              "</style>\n",
              "<table border=\"1\" class=\"dataframe\">\n",
              "  <thead>\n",
              "    <tr style=\"text-align: right;\">\n",
              "      <th></th>\n",
              "      <th>Category</th>\n",
              "      <th>Rating</th>\n",
              "      <th>Price</th>\n",
              "    </tr>\n",
              "  </thead>\n",
              "  <tbody>\n",
              "    <tr>\n",
              "      <th>9719</th>\n",
              "      <td>MEDICAL</td>\n",
              "      <td>4.173084</td>\n",
              "      <td>200.00</td>\n",
              "    </tr>\n",
              "    <tr>\n",
              "      <th>2253</th>\n",
              "      <td>MEDICAL</td>\n",
              "      <td>4.600000</td>\n",
              "      <td>79.99</td>\n",
              "    </tr>\n",
              "    <tr>\n",
              "      <th>2390</th>\n",
              "      <td>MEDICAL</td>\n",
              "      <td>4.173084</td>\n",
              "      <td>74.99</td>\n",
              "    </tr>\n",
              "    <tr>\n",
              "      <th>2414</th>\n",
              "      <td>MEDICAL</td>\n",
              "      <td>4.000000</td>\n",
              "      <td>39.99</td>\n",
              "    </tr>\n",
              "    <tr>\n",
              "      <th>2301</th>\n",
              "      <td>MEDICAL</td>\n",
              "      <td>3.500000</td>\n",
              "      <td>33.99</td>\n",
              "    </tr>\n",
              "  </tbody>\n",
              "</table>\n",
              "</div>"
            ],
            "text/plain": [
              "     Category    Rating   Price\n",
              "9719  MEDICAL  4.173084  200.00\n",
              "2253  MEDICAL  4.600000   79.99\n",
              "2390  MEDICAL  4.173084   74.99\n",
              "2414  MEDICAL  4.000000   39.99\n",
              "2301  MEDICAL  3.500000   33.99"
            ]
          },
          "metadata": {
            "tags": []
          },
          "execution_count": 157
        }
      ]
    },
    {
      "cell_type": "code",
      "metadata": {
        "colab": {
          "base_uri": "https://localhost:8080/",
          "height": 405
        },
        "id": "TQ_Q3mChinL8",
        "outputId": "46dc30dc-723e-4b92-c8ef-f49840b9ed20"
      },
      "source": [
        "#using countplot from seaborn\r\n",
        "fig,ax1=plt.subplots(figsize=(10,5))\r\n",
        "plt.xticks(rotation=65)\r\n",
        "plt.title('Average Ratings of Paid Apps')\r\n",
        "sns.countplot(x='Rating',data=paid_app_df,ax=ax1,palette='viridis',order=paid_app_df.value_counts('Rating',ascending=False).head(20).index)\r\n",
        "plt.show()"
      ],
      "execution_count": 159,
      "outputs": [
        {
          "output_type": "display_data",
          "data": {
            "image/png": "[encoded data removed]",
            "text/plain": [
              "<Figure size 720x360 with 1 Axes>"
            ]
          },
          "metadata": {
            "tags": []
          }
        }
      ]
    },
    {
      "cell_type": "markdown",
      "metadata": {
        "id": "475PSrDRZPxD"
      },
      "source": [
        "#Insights:\r\n",
        "Here we found out that again most of the paid apps belong to Family Genres followed bny Games but there are three new genre categories in top 5: they are **Medical and Personalisation** category apps.\r\n",
        "\r\n",
        "###On exploration of Medical Category app I find that:\r\n",
        "1.   These apps are very highly rated mostly 4.1+\r\n",
        "2.   They have pretty good prices. \r\n",
        "\r\n",
        "###My thought:\r\n",
        "These apps might basically provide important medical services like consulting a doctor, ordering and prescribing medicines etc. that's why they charge very huge price."
      ]
    },
    {
      "cell_type": "markdown",
      "metadata": {
        "id": "a1IBv1KtnCgH"
      },
      "source": [
        "#Exploration on user_review dataset\r\n",
        "This dataset contains three important columns: \r\n",
        "\r\n",
        "1.   **Sentiment**: It  basically determines the attitude or the emotion of the writer, i.e., whether it is positive or negative or neutral\r\n",
        "2.   **Sentiment Polarity** : It is a float type encodation of a users reviews which lies in the range of [-1,1] where 1 means positive statement and -1 means a negative statement.\r\n",
        "3.   **Sentiment Subjectivity**:It generally refers to personal opinion, emotion or judgment, which is followed by all people in general,it lies in the range of [0,1].\r\n",
        "\r\n",
        "\r\n"
      ]
    },
    {
      "cell_type": "markdown",
      "metadata": {
        "id": "_jctjMVhqvLd"
      },
      "source": [
        "#Model Question 6:\r\n",
        "What is the distribution of percentage of Review Sentiments\r\n"
      ]
    },
    {
      "cell_type": "code",
      "metadata": {
        "colab": {
          "base_uri": "https://localhost:8080/"
        },
        "id": "9ovDBxZMrVkL",
        "outputId": "e662e183-8898-4fa1-f3ef-c45e7f237ca9"
      },
      "source": [
        "user_df['Sentiment'].value_counts()"
      ],
      "execution_count": 110,
      "outputs": [
        {
          "output_type": "execute_result",
          "data": {
            "text/plain": [
              "Positive    19015\n",
              "Negative     6321\n",
              "Neutral      4361\n",
              "Good          982\n",
              "Name: Sentiment, dtype: int64"
            ]
          },
          "metadata": {
            "tags": []
          },
          "execution_count": 110
        }
      ]
    },
    {
      "cell_type": "markdown",
      "metadata": {
        "id": "O4gx6UWqrkYo"
      },
      "source": [
        "####Converting the rows having **'Good'** sentiment value in **'Positive'** because more or less the lingual meaning of both these keywords are same."
      ]
    },
    {
      "cell_type": "code",
      "metadata": {
        "id": "f7LK35VIrkCP"
      },
      "source": [
        "user_df.loc[user_df['Sentiment']=='Good'] = 'Positive'"
      ],
      "execution_count": 111,
      "outputs": []
    },
    {
      "cell_type": "code",
      "metadata": {
        "colab": {
          "base_uri": "https://localhost:8080/"
        },
        "id": "i7IwU3rCuhJL",
        "outputId": "5669334f-7231-4247-d02f-b90f1ba834a3"
      },
      "source": [
        "#cross check\r\n",
        "user_df['Sentiment'].value_counts()"
      ],
      "execution_count": 112,
      "outputs": [
        {
          "output_type": "execute_result",
          "data": {
            "text/plain": [
              "Positive    19997\n",
              "Negative     6321\n",
              "Neutral      4361\n",
              "Name: Sentiment, dtype: int64"
            ]
          },
          "metadata": {
            "tags": []
          },
          "execution_count": 112
        }
      ]
    },
    {
      "cell_type": "code",
      "metadata": {
        "colab": {
          "base_uri": "https://localhost:8080/",
          "height": 487
        },
        "id": "gvdETAajq4aV",
        "outputId": "d58e1ae9-f11c-4c32-818e-3d544716a324"
      },
      "source": [
        "sentiment_list = list(user_df['Sentiment'].value_counts())\r\n",
        "labels = 'Positive Reviews', 'Negetive Reviews','Neutral Reviews'\r\n",
        "matplotlib.rcParams['font.size'] = 12\r\n",
        "matplotlib.rcParams['figure.figsize'] = (8, 8)\r\n",
        "plt.pie(sentiment_list, labels=labels, explode=[0, 0.05, 0.005], shadow=True, autopct=\"%.2f%%\")\r\n",
        "plt.title('A Pie Chart Representing Percentage of Review Sentiments', fontsize=20)\r\n",
        "plt.axis('off')\r\n",
        "plt.legend()\r\n",
        "plt.show()\r\n",
        "\r\n"
      ],
      "execution_count": 113,
      "outputs": [
        {
          "output_type": "display_data",
          "data": {
            "image/png": "[encoded data removed]",
            "text/plain": [
              "<Figure size 576x576 with 1 Axes>"
            ]
          },
          "metadata": {
            "tags": []
          }
        }
      ]
    },
    {
      "cell_type": "markdown",
      "metadata": {
        "id": "Ysh4Po0uvKZn"
      },
      "source": [
        "##Insights:\r\n",
        "As we can see from this pie chart in general most of the users on playstore give Positive Ratings to most of the apps."
      ]
    },
    {
      "cell_type": "markdown",
      "metadata": {
        "id": "NswtS-Jnvhvu"
      },
      "source": [
        "##We can check this above data with exploration we found while cleaning the data most of these generic keywords tend towards a Positive sentiments."
      ]
    },
    {
      "cell_type": "code",
      "metadata": {
        "colab": {
          "base_uri": "https://localhost:8080/",
          "height": 488
        },
        "id": "f0VB1et_uvzd",
        "outputId": "3071f49e-fea4-45ea-8345-806006407b81"
      },
      "source": [
        "#using groupby function to find the counts of each review given to a paricular app\r\n",
        "usrev_df['Translated_Review'].value_counts().reset_index().sort_values('Translated_Review',ascending=False).rename(columns={'index':'Translated_Review','Translated_Review':'No. of repetitions'}).head(14)"
      ],
      "execution_count": 114,
      "outputs": [
        {
          "output_type": "execute_result",
          "data": {
            "text/html": [
              "<div>\n",
              "<style scoped>\n",
              "    .dataframe tbody tr th:only-of-type {\n",
              "        vertical-align: middle;\n",
              "    }\n",
              "\n",
              "    .dataframe tbody tr th {\n",
              "        vertical-align: top;\n",
              "    }\n",
              "\n",
              "    .dataframe thead th {\n",
              "        text-align: right;\n",
              "    }\n",
              "</style>\n",
              "<table border=\"1\" class=\"dataframe\">\n",
              "  <thead>\n",
              "    <tr style=\"text-align: right;\">\n",
              "      <th></th>\n",
              "      <th>Translated_Review</th>\n",
              "      <th>No. of repetitions</th>\n",
              "    </tr>\n",
              "  </thead>\n",
              "  <tbody>\n",
              "    <tr>\n",
              "      <th>0</th>\n",
              "      <td>Good</td>\n",
              "      <td>1124</td>\n",
              "    </tr>\n",
              "    <tr>\n",
              "      <th>1</th>\n",
              "      <td>Nice</td>\n",
              "      <td>105</td>\n",
              "    </tr>\n",
              "    <tr>\n",
              "      <th>2</th>\n",
              "      <td>Great</td>\n",
              "      <td>90</td>\n",
              "    </tr>\n",
              "    <tr>\n",
              "      <th>3</th>\n",
              "      <td>Love</td>\n",
              "      <td>81</td>\n",
              "    </tr>\n",
              "    <tr>\n",
              "      <th>4</th>\n",
              "      <td>Awesome</td>\n",
              "      <td>55</td>\n",
              "    </tr>\n",
              "    <tr>\n",
              "      <th>5</th>\n",
              "      <td>I love</td>\n",
              "      <td>55</td>\n",
              "    </tr>\n",
              "    <tr>\n",
              "      <th>6</th>\n",
              "      <td>Very good</td>\n",
              "      <td>51</td>\n",
              "    </tr>\n",
              "    <tr>\n",
              "      <th>7</th>\n",
              "      <td>I like</td>\n",
              "      <td>43</td>\n",
              "    </tr>\n",
              "    <tr>\n",
              "      <th>8</th>\n",
              "      <td>good</td>\n",
              "      <td>41</td>\n",
              "    </tr>\n",
              "    <tr>\n",
              "      <th>9</th>\n",
              "      <td>Cool</td>\n",
              "      <td>38</td>\n",
              "    </tr>\n",
              "    <tr>\n",
              "      <th>10</th>\n",
              "      <td>Ok</td>\n",
              "      <td>32</td>\n",
              "    </tr>\n",
              "    <tr>\n",
              "      <th>11</th>\n",
              "      <td>Excellent</td>\n",
              "      <td>32</td>\n",
              "    </tr>\n",
              "    <tr>\n",
              "      <th>12</th>\n",
              "      <td>It's good</td>\n",
              "      <td>28</td>\n",
              "    </tr>\n",
              "    <tr>\n",
              "      <th>13</th>\n",
              "      <td>Very nice</td>\n",
              "      <td>28</td>\n",
              "    </tr>\n",
              "  </tbody>\n",
              "</table>\n",
              "</div>"
            ],
            "text/plain": [
              "   Translated_Review  No. of repetitions\n",
              "0               Good                1124\n",
              "1               Nice                 105\n",
              "2              Great                  90\n",
              "3               Love                  81\n",
              "4            Awesome                  55\n",
              "5             I love                  55\n",
              "6          Very good                  51\n",
              "7             I like                  43\n",
              "8               good                  41\n",
              "9               Cool                  38\n",
              "10                Ok                  32\n",
              "11         Excellent                  32\n",
              "12         It's good                  28\n",
              "13         Very nice                  28"
            ]
          },
          "metadata": {
            "tags": []
          },
          "execution_count": 114
        }
      ]
    },
    {
      "cell_type": "code",
      "metadata": {
        "id": "Tc5KbNjlw-6u"
      },
      "source": [
        ""
      ],
      "execution_count": 114,
      "outputs": []
    }
  ]
}